{
 "cells": [
  {
   "cell_type": "code",
   "execution_count": 1,
   "id": "initial_id",
   "metadata": {
    "collapsed": true,
    "ExecuteTime": {
     "end_time": "2024-05-06T13:39:49.828511Z",
     "start_time": "2024-05-06T13:39:49.818336200Z"
    }
   },
   "outputs": [
    {
     "name": "stdout",
     "output_type": "stream",
     "text": [
      "sqlite_sequence\n",
      "Player_Attributes\n",
      "Player\n",
      "Match\n",
      "League\n",
      "Country\n",
      "Team\n",
      "Team_Attributes\n"
     ]
    }
   ],
   "source": [
    "import pandas as pd\n",
    "import sqlite3\n",
    "\n",
    "# Подключение к базе данных SQLite\n",
    "conn = sqlite3.connect('database.sqlite')\n",
    "\n",
    "cursor = conn.cursor()\n",
    "\n",
    "# Выполнение запроса к системной таблице sqlite_master\n",
    "cursor.execute(\"SELECT name FROM sqlite_master WHERE type='table';\")\n",
    "\n",
    "tables = cursor.fetchall()\n",
    "\n",
    "for table in tables:\n",
    "    print(table[0])\n"
   ]
  },
  {
   "cell_type": "code",
   "outputs": [
    {
     "data": {
      "text/plain": "   id  country_id  league_id     season  stage                 date  \\\n0   1           1          1  2008/2009      1  2008-08-17 00:00:00   \n1   2           1          1  2008/2009      1  2008-08-16 00:00:00   \n2   3           1          1  2008/2009      1  2008-08-16 00:00:00   \n3   4           1          1  2008/2009      1  2008-08-17 00:00:00   \n4   5           1          1  2008/2009      1  2008-08-16 00:00:00   \n\n   match_api_id  home_team_api_id  away_team_api_id  home_team_goal  ...  \\\n0        492473              9987              9993               1  ...   \n1        492474             10000              9994               0  ...   \n2        492475              9984              8635               0  ...   \n3        492476              9991              9998               5  ...   \n4        492477              7947              9985               1  ...   \n\n    SJA   VCH   VCD   VCA   GBH   GBD   GBA   BSH   BSD   BSA  \n0  4.00  1.65  3.40  4.50  1.78  3.25  4.00  1.73  3.40  4.20  \n1  3.80  2.00  3.25  3.25  1.85  3.25  3.75  1.91  3.25  3.60  \n2  2.50  2.35  3.25  2.65  2.50  3.20  2.50  2.30  3.20  2.75  \n3  7.50  1.45  3.75  6.50  1.50  3.75  5.50  1.44  3.75  6.50  \n4  1.73  4.50  3.40  1.65  4.50  3.50  1.65  4.75  3.30  1.67  \n\n[5 rows x 115 columns]",
      "text/html": "<div>\n<style scoped>\n    .dataframe tbody tr th:only-of-type {\n        vertical-align: middle;\n    }\n\n    .dataframe tbody tr th {\n        vertical-align: top;\n    }\n\n    .dataframe thead th {\n        text-align: right;\n    }\n</style>\n<table border=\"1\" class=\"dataframe\">\n  <thead>\n    <tr style=\"text-align: right;\">\n      <th></th>\n      <th>id</th>\n      <th>country_id</th>\n      <th>league_id</th>\n      <th>season</th>\n      <th>stage</th>\n      <th>date</th>\n      <th>match_api_id</th>\n      <th>home_team_api_id</th>\n      <th>away_team_api_id</th>\n      <th>home_team_goal</th>\n      <th>...</th>\n      <th>SJA</th>\n      <th>VCH</th>\n      <th>VCD</th>\n      <th>VCA</th>\n      <th>GBH</th>\n      <th>GBD</th>\n      <th>GBA</th>\n      <th>BSH</th>\n      <th>BSD</th>\n      <th>BSA</th>\n    </tr>\n  </thead>\n  <tbody>\n    <tr>\n      <th>0</th>\n      <td>1</td>\n      <td>1</td>\n      <td>1</td>\n      <td>2008/2009</td>\n      <td>1</td>\n      <td>2008-08-17 00:00:00</td>\n      <td>492473</td>\n      <td>9987</td>\n      <td>9993</td>\n      <td>1</td>\n      <td>...</td>\n      <td>4.00</td>\n      <td>1.65</td>\n      <td>3.40</td>\n      <td>4.50</td>\n      <td>1.78</td>\n      <td>3.25</td>\n      <td>4.00</td>\n      <td>1.73</td>\n      <td>3.40</td>\n      <td>4.20</td>\n    </tr>\n    <tr>\n      <th>1</th>\n      <td>2</td>\n      <td>1</td>\n      <td>1</td>\n      <td>2008/2009</td>\n      <td>1</td>\n      <td>2008-08-16 00:00:00</td>\n      <td>492474</td>\n      <td>10000</td>\n      <td>9994</td>\n      <td>0</td>\n      <td>...</td>\n      <td>3.80</td>\n      <td>2.00</td>\n      <td>3.25</td>\n      <td>3.25</td>\n      <td>1.85</td>\n      <td>3.25</td>\n      <td>3.75</td>\n      <td>1.91</td>\n      <td>3.25</td>\n      <td>3.60</td>\n    </tr>\n    <tr>\n      <th>2</th>\n      <td>3</td>\n      <td>1</td>\n      <td>1</td>\n      <td>2008/2009</td>\n      <td>1</td>\n      <td>2008-08-16 00:00:00</td>\n      <td>492475</td>\n      <td>9984</td>\n      <td>8635</td>\n      <td>0</td>\n      <td>...</td>\n      <td>2.50</td>\n      <td>2.35</td>\n      <td>3.25</td>\n      <td>2.65</td>\n      <td>2.50</td>\n      <td>3.20</td>\n      <td>2.50</td>\n      <td>2.30</td>\n      <td>3.20</td>\n      <td>2.75</td>\n    </tr>\n    <tr>\n      <th>3</th>\n      <td>4</td>\n      <td>1</td>\n      <td>1</td>\n      <td>2008/2009</td>\n      <td>1</td>\n      <td>2008-08-17 00:00:00</td>\n      <td>492476</td>\n      <td>9991</td>\n      <td>9998</td>\n      <td>5</td>\n      <td>...</td>\n      <td>7.50</td>\n      <td>1.45</td>\n      <td>3.75</td>\n      <td>6.50</td>\n      <td>1.50</td>\n      <td>3.75</td>\n      <td>5.50</td>\n      <td>1.44</td>\n      <td>3.75</td>\n      <td>6.50</td>\n    </tr>\n    <tr>\n      <th>4</th>\n      <td>5</td>\n      <td>1</td>\n      <td>1</td>\n      <td>2008/2009</td>\n      <td>1</td>\n      <td>2008-08-16 00:00:00</td>\n      <td>492477</td>\n      <td>7947</td>\n      <td>9985</td>\n      <td>1</td>\n      <td>...</td>\n      <td>1.73</td>\n      <td>4.50</td>\n      <td>3.40</td>\n      <td>1.65</td>\n      <td>4.50</td>\n      <td>3.50</td>\n      <td>1.65</td>\n      <td>4.75</td>\n      <td>3.30</td>\n      <td>1.67</td>\n    </tr>\n  </tbody>\n</table>\n<p>5 rows × 115 columns</p>\n</div>"
     },
     "execution_count": 2,
     "metadata": {},
     "output_type": "execute_result"
    }
   ],
   "source": [
    "match = pd.read_sql('SELECT * FROM Match', conn)\n",
    "match.head()"
   ],
   "metadata": {
    "collapsed": false,
    "ExecuteTime": {
     "end_time": "2024-05-06T13:40:03.159160900Z",
     "start_time": "2024-05-06T13:39:59.287027500Z"
    }
   },
   "id": "9fe0e83c8fef57c9",
   "execution_count": 2
  },
  {
   "cell_type": "code",
   "outputs": [
    {
     "data": {
      "text/plain": "(25979, 115)"
     },
     "execution_count": 5,
     "metadata": {},
     "output_type": "execute_result"
    }
   ],
   "source": [
    "match.shape"
   ],
   "metadata": {
    "collapsed": false,
    "ExecuteTime": {
     "end_time": "2024-05-06T13:43:12.652526900Z",
     "start_time": "2024-05-06T13:43:12.637715300Z"
    }
   },
   "id": "5d699680843ed412",
   "execution_count": 5
  },
  {
   "cell_type": "code",
   "outputs": [],
   "source": [
    "match.dropna(subset=['home_player_X1'], inplace=True)"
   ],
   "metadata": {
    "collapsed": false,
    "ExecuteTime": {
     "end_time": "2024-05-06T13:43:44.841769200Z",
     "start_time": "2024-05-06T13:43:44.820464700Z"
    }
   },
   "id": "cc1fe7b1486e1ebd",
   "execution_count": 6
  },
  {
   "cell_type": "code",
   "outputs": [],
   "source": [
    "match['date'] = pd.to_datetime(match['date'])"
   ],
   "metadata": {
    "collapsed": false,
    "ExecuteTime": {
     "end_time": "2024-05-06T13:43:47.301003200Z",
     "start_time": "2024-05-06T13:43:47.281754700Z"
    }
   },
   "id": "499ecfe1f8d6e8c2",
   "execution_count": 7
  },
  {
   "cell_type": "code",
   "outputs": [
    {
     "data": {
      "text/plain": "      id  country_id  league_id     season  stage       date  match_api_id  \\\n144  145           1          1  2008/2009     24 2009-02-28        493016   \n145  146           1          1  2008/2009     24 2009-02-27        493017   \n146  147           1          1  2008/2009     24 2009-02-28        493018   \n147  148           1          1  2008/2009     24 2009-03-01        493019   \n148  149           1          1  2008/2009     24 2009-03-01        493020   \n\n     home_team_api_id  away_team_api_id  home_team_goal  ...   SJA   VCH  \\\n144              9996              8635               1  ...  1.62  5.00   \n145              8203              9987               2  ...  2.30  2.65   \n146              9986              9998               3  ...  4.10  1.90   \n147              9985              9984               4  ...  6.50  1.40   \n148              9994              9991               0  ...  2.50  2.80   \n\n      VCD   VCA   GBH   GBD   GBA   BSH   BSD   BSA  \n144  3.40  1.60  5.25  3.60  1.60  5.50  3.60  1.53  \n145  3.25  2.35  2.90  3.25  2.30  2.80  3.20  2.25  \n146  3.25  3.75  1.83  3.25  4.25  1.91  3.25  3.60  \n147  3.75  7.50  1.45  3.75  7.50  1.40  3.75  7.50  \n148  3.25  2.30  2.65  3.20  2.50  2.62  3.20  2.38  \n\n[5 rows x 115 columns]",
      "text/html": "<div>\n<style scoped>\n    .dataframe tbody tr th:only-of-type {\n        vertical-align: middle;\n    }\n\n    .dataframe tbody tr th {\n        vertical-align: top;\n    }\n\n    .dataframe thead th {\n        text-align: right;\n    }\n</style>\n<table border=\"1\" class=\"dataframe\">\n  <thead>\n    <tr style=\"text-align: right;\">\n      <th></th>\n      <th>id</th>\n      <th>country_id</th>\n      <th>league_id</th>\n      <th>season</th>\n      <th>stage</th>\n      <th>date</th>\n      <th>match_api_id</th>\n      <th>home_team_api_id</th>\n      <th>away_team_api_id</th>\n      <th>home_team_goal</th>\n      <th>...</th>\n      <th>SJA</th>\n      <th>VCH</th>\n      <th>VCD</th>\n      <th>VCA</th>\n      <th>GBH</th>\n      <th>GBD</th>\n      <th>GBA</th>\n      <th>BSH</th>\n      <th>BSD</th>\n      <th>BSA</th>\n    </tr>\n  </thead>\n  <tbody>\n    <tr>\n      <th>144</th>\n      <td>145</td>\n      <td>1</td>\n      <td>1</td>\n      <td>2008/2009</td>\n      <td>24</td>\n      <td>2009-02-28</td>\n      <td>493016</td>\n      <td>9996</td>\n      <td>8635</td>\n      <td>1</td>\n      <td>...</td>\n      <td>1.62</td>\n      <td>5.00</td>\n      <td>3.40</td>\n      <td>1.60</td>\n      <td>5.25</td>\n      <td>3.60</td>\n      <td>1.60</td>\n      <td>5.50</td>\n      <td>3.60</td>\n      <td>1.53</td>\n    </tr>\n    <tr>\n      <th>145</th>\n      <td>146</td>\n      <td>1</td>\n      <td>1</td>\n      <td>2008/2009</td>\n      <td>24</td>\n      <td>2009-02-27</td>\n      <td>493017</td>\n      <td>8203</td>\n      <td>9987</td>\n      <td>2</td>\n      <td>...</td>\n      <td>2.30</td>\n      <td>2.65</td>\n      <td>3.25</td>\n      <td>2.35</td>\n      <td>2.90</td>\n      <td>3.25</td>\n      <td>2.30</td>\n      <td>2.80</td>\n      <td>3.20</td>\n      <td>2.25</td>\n    </tr>\n    <tr>\n      <th>146</th>\n      <td>147</td>\n      <td>1</td>\n      <td>1</td>\n      <td>2008/2009</td>\n      <td>24</td>\n      <td>2009-02-28</td>\n      <td>493018</td>\n      <td>9986</td>\n      <td>9998</td>\n      <td>3</td>\n      <td>...</td>\n      <td>4.10</td>\n      <td>1.90</td>\n      <td>3.25</td>\n      <td>3.75</td>\n      <td>1.83</td>\n      <td>3.25</td>\n      <td>4.25</td>\n      <td>1.91</td>\n      <td>3.25</td>\n      <td>3.60</td>\n    </tr>\n    <tr>\n      <th>147</th>\n      <td>148</td>\n      <td>1</td>\n      <td>1</td>\n      <td>2008/2009</td>\n      <td>24</td>\n      <td>2009-03-01</td>\n      <td>493019</td>\n      <td>9985</td>\n      <td>9984</td>\n      <td>4</td>\n      <td>...</td>\n      <td>6.50</td>\n      <td>1.40</td>\n      <td>3.75</td>\n      <td>7.50</td>\n      <td>1.45</td>\n      <td>3.75</td>\n      <td>7.50</td>\n      <td>1.40</td>\n      <td>3.75</td>\n      <td>7.50</td>\n    </tr>\n    <tr>\n      <th>148</th>\n      <td>149</td>\n      <td>1</td>\n      <td>1</td>\n      <td>2008/2009</td>\n      <td>24</td>\n      <td>2009-03-01</td>\n      <td>493020</td>\n      <td>9994</td>\n      <td>9991</td>\n      <td>0</td>\n      <td>...</td>\n      <td>2.50</td>\n      <td>2.80</td>\n      <td>3.25</td>\n      <td>2.30</td>\n      <td>2.65</td>\n      <td>3.20</td>\n      <td>2.50</td>\n      <td>2.62</td>\n      <td>3.20</td>\n      <td>2.38</td>\n    </tr>\n  </tbody>\n</table>\n<p>5 rows × 115 columns</p>\n</div>"
     },
     "execution_count": 9,
     "metadata": {},
     "output_type": "execute_result"
    }
   ],
   "source": [
    "match.head()"
   ],
   "metadata": {
    "collapsed": false,
    "ExecuteTime": {
     "end_time": "2024-05-06T13:44:02.831400400Z",
     "start_time": "2024-05-06T13:44:02.814992300Z"
    }
   },
   "id": "dead6b02ef8896f0",
   "execution_count": 9
  },
  {
   "cell_type": "code",
   "outputs": [
    {
     "data": {
      "text/plain": "        id  country_id  league_id     season  stage       date  match_api_id  \\\n1248  1249           1          1  2014/2015      1 2014-07-25       1717817   \n1249  1250           1          1  2014/2015      1 2014-07-26       1717818   \n1250  1251           1          1  2014/2015      1 2014-07-26       1717819   \n1251  1252           1          1  2014/2015      1 2014-07-26       1717820   \n1252  1253           1          1  2014/2015      1 2014-07-26       1717821   \n\n      home_team_api_id  away_team_api_id  home_team_goal  ...   SJA   VCH  \\\n1248              9985              9986               3  ...  7.00  1.33   \n1249              8475              8342               0  ...  1.83  4.20   \n1250              9984              9991               0  ...  1.95  3.75   \n1251              9989              8573               2  ...  2.88  2.38   \n1252             10001              9994               1  ...  2.25  3.00   \n\n      VCD   VCA  GBH  GBD  GBA  BSH  BSD  BSA  \n1248  4.8  8.00  NaN  NaN  NaN  NaN  NaN  NaN  \n1249  3.6  1.80  NaN  NaN  NaN  NaN  NaN  NaN  \n1250  3.5  1.95  NaN  NaN  NaN  NaN  NaN  NaN  \n1251  3.2  2.90  NaN  NaN  NaN  NaN  NaN  NaN  \n1252  3.4  2.25  NaN  NaN  NaN  NaN  NaN  NaN  \n\n[5 rows x 115 columns]",
      "text/html": "<div>\n<style scoped>\n    .dataframe tbody tr th:only-of-type {\n        vertical-align: middle;\n    }\n\n    .dataframe tbody tr th {\n        vertical-align: top;\n    }\n\n    .dataframe thead th {\n        text-align: right;\n    }\n</style>\n<table border=\"1\" class=\"dataframe\">\n  <thead>\n    <tr style=\"text-align: right;\">\n      <th></th>\n      <th>id</th>\n      <th>country_id</th>\n      <th>league_id</th>\n      <th>season</th>\n      <th>stage</th>\n      <th>date</th>\n      <th>match_api_id</th>\n      <th>home_team_api_id</th>\n      <th>away_team_api_id</th>\n      <th>home_team_goal</th>\n      <th>...</th>\n      <th>SJA</th>\n      <th>VCH</th>\n      <th>VCD</th>\n      <th>VCA</th>\n      <th>GBH</th>\n      <th>GBD</th>\n      <th>GBA</th>\n      <th>BSH</th>\n      <th>BSD</th>\n      <th>BSA</th>\n    </tr>\n  </thead>\n  <tbody>\n    <tr>\n      <th>1248</th>\n      <td>1249</td>\n      <td>1</td>\n      <td>1</td>\n      <td>2014/2015</td>\n      <td>1</td>\n      <td>2014-07-25</td>\n      <td>1717817</td>\n      <td>9985</td>\n      <td>9986</td>\n      <td>3</td>\n      <td>...</td>\n      <td>7.00</td>\n      <td>1.33</td>\n      <td>4.8</td>\n      <td>8.00</td>\n      <td>NaN</td>\n      <td>NaN</td>\n      <td>NaN</td>\n      <td>NaN</td>\n      <td>NaN</td>\n      <td>NaN</td>\n    </tr>\n    <tr>\n      <th>1249</th>\n      <td>1250</td>\n      <td>1</td>\n      <td>1</td>\n      <td>2014/2015</td>\n      <td>1</td>\n      <td>2014-07-26</td>\n      <td>1717818</td>\n      <td>8475</td>\n      <td>8342</td>\n      <td>0</td>\n      <td>...</td>\n      <td>1.83</td>\n      <td>4.20</td>\n      <td>3.6</td>\n      <td>1.80</td>\n      <td>NaN</td>\n      <td>NaN</td>\n      <td>NaN</td>\n      <td>NaN</td>\n      <td>NaN</td>\n      <td>NaN</td>\n    </tr>\n    <tr>\n      <th>1250</th>\n      <td>1251</td>\n      <td>1</td>\n      <td>1</td>\n      <td>2014/2015</td>\n      <td>1</td>\n      <td>2014-07-26</td>\n      <td>1717819</td>\n      <td>9984</td>\n      <td>9991</td>\n      <td>0</td>\n      <td>...</td>\n      <td>1.95</td>\n      <td>3.75</td>\n      <td>3.5</td>\n      <td>1.95</td>\n      <td>NaN</td>\n      <td>NaN</td>\n      <td>NaN</td>\n      <td>NaN</td>\n      <td>NaN</td>\n      <td>NaN</td>\n    </tr>\n    <tr>\n      <th>1251</th>\n      <td>1252</td>\n      <td>1</td>\n      <td>1</td>\n      <td>2014/2015</td>\n      <td>1</td>\n      <td>2014-07-26</td>\n      <td>1717820</td>\n      <td>9989</td>\n      <td>8573</td>\n      <td>2</td>\n      <td>...</td>\n      <td>2.88</td>\n      <td>2.38</td>\n      <td>3.2</td>\n      <td>2.90</td>\n      <td>NaN</td>\n      <td>NaN</td>\n      <td>NaN</td>\n      <td>NaN</td>\n      <td>NaN</td>\n      <td>NaN</td>\n    </tr>\n    <tr>\n      <th>1252</th>\n      <td>1253</td>\n      <td>1</td>\n      <td>1</td>\n      <td>2014/2015</td>\n      <td>1</td>\n      <td>2014-07-26</td>\n      <td>1717821</td>\n      <td>10001</td>\n      <td>9994</td>\n      <td>1</td>\n      <td>...</td>\n      <td>2.25</td>\n      <td>3.00</td>\n      <td>3.4</td>\n      <td>2.25</td>\n      <td>NaN</td>\n      <td>NaN</td>\n      <td>NaN</td>\n      <td>NaN</td>\n      <td>NaN</td>\n      <td>NaN</td>\n    </tr>\n  </tbody>\n</table>\n<p>5 rows × 115 columns</p>\n</div>"
     },
     "execution_count": 14,
     "metadata": {},
     "output_type": "execute_result"
    }
   ],
   "source": [
    "match.loc[match['season'].isin(['2015/2016', '2014/2015'])].head()"
   ],
   "metadata": {
    "collapsed": false,
    "ExecuteTime": {
     "end_time": "2024-05-06T13:58:05.390444500Z",
     "start_time": "2024-05-06T13:58:05.370044900Z"
    }
   },
   "id": "7a7f7ce2dbec9171",
   "execution_count": 14
  },
  {
   "cell_type": "code",
   "outputs": [],
   "source": [
    "columns_for_drop = ['goal',\n",
    " 'shoton',\n",
    " 'shotoff',\n",
    " 'foulcommit',\n",
    " 'card',\n",
    " 'cross',\n",
    " 'corner',\n",
    " 'possession',\n",
    " 'B365H',\n",
    " 'B365D','B365A',\n",
    " 'BWH',\n",
    " 'BWD',\n",
    " 'BWA',\n",
    " 'IWH',\n",
    " 'IWD',\n",
    " 'IWA',\n",
    " 'LBH',\n",
    " 'LBD',\n",
    " 'LBA',\n",
    " 'PSH',\n",
    " 'PSD','PSD',\n",
    " 'PSA',\n",
    " 'WHH',\n",
    " 'WHD',\n",
    " 'WHA',\n",
    " 'SJH',\n",
    " 'SJD',\n",
    " 'SJA',\n",
    " 'VCH',\n",
    " 'VCD',\n",
    " 'VCA','GBH',\n",
    " 'GBD',\n",
    " 'GBA',\n",
    " 'BSH',\n",
    " 'BSD',\n",
    " 'BSA']\n",
    "match.drop(columns=columns_for_drop, inplace=True)"
   ],
   "metadata": {
    "collapsed": false,
    "ExecuteTime": {
     "end_time": "2024-05-06T14:47:50.082454800Z",
     "start_time": "2024-05-06T14:47:50.069818400Z"
    }
   },
   "id": "1c0079eed44962ec",
   "execution_count": 30
  },
  {
   "cell_type": "code",
   "outputs": [
    {
     "data": {
      "text/plain": "        id  country_id  league_id     season  stage       date  match_api_id  \\\n3248  3249        1729       1729  2012/2013      1 2012-08-18       1228229   \n3249  3250        1729       1729  2012/2013      1 2012-08-20       1228230   \n3250  3251        1729       1729  2012/2013      1 2012-08-18       1228231   \n3251  3252        1729       1729  2012/2013      1 2012-08-19       1228232   \n3252  3253        1729       1729  2012/2013      1 2012-08-18       1228233   \n\n      home_team_api_id  away_team_api_id  home_team_goal  ...  away_player_2  \\\n3248              9825              8472               0  ...        25075.0   \n3249              8668             10260               1  ...        35327.0   \n3250              9879              9850               5  ...        24903.0   \n3251              8456              8466               3  ...       157838.0   \n3252             10261              8586               2  ...       159833.0   \n\n      away_player_3  away_player_4  away_player_5  away_player_6  \\\n3248        33863.0        24150.0        30352.0        24157.0   \n3249        30865.0        34944.0        32569.0        30373.0   \n3250        72417.0        34275.0        23727.0        23629.0   \n3251        26552.0        45418.0        23823.0       279490.0   \n3252        26108.0        38835.0        40006.0       156727.0   \n\n      away_player_7  away_player_8  away_player_9  away_player_10  \\\n3248        35443.0        25150.0       160243.0        175947.0   \n3249        40945.0        30829.0       144993.0        160713.0   \n3250        46354.0        24583.0        47194.0         32728.0   \n3251        46893.0        37234.0        24501.0        109491.0   \n3252       115681.0        30895.0       157729.0         31921.0   \n\n      away_player_11  \n3248         33468.0  \n3249        113836.0  \n3250         24698.0  \n3251         35345.0  \n3252         30348.0  \n\n[5 rows x 77 columns]",
      "text/html": "<div>\n<style scoped>\n    .dataframe tbody tr th:only-of-type {\n        vertical-align: middle;\n    }\n\n    .dataframe tbody tr th {\n        vertical-align: top;\n    }\n\n    .dataframe thead th {\n        text-align: right;\n    }\n</style>\n<table border=\"1\" class=\"dataframe\">\n  <thead>\n    <tr style=\"text-align: right;\">\n      <th></th>\n      <th>id</th>\n      <th>country_id</th>\n      <th>league_id</th>\n      <th>season</th>\n      <th>stage</th>\n      <th>date</th>\n      <th>match_api_id</th>\n      <th>home_team_api_id</th>\n      <th>away_team_api_id</th>\n      <th>home_team_goal</th>\n      <th>...</th>\n      <th>away_player_2</th>\n      <th>away_player_3</th>\n      <th>away_player_4</th>\n      <th>away_player_5</th>\n      <th>away_player_6</th>\n      <th>away_player_7</th>\n      <th>away_player_8</th>\n      <th>away_player_9</th>\n      <th>away_player_10</th>\n      <th>away_player_11</th>\n    </tr>\n  </thead>\n  <tbody>\n    <tr>\n      <th>3248</th>\n      <td>3249</td>\n      <td>1729</td>\n      <td>1729</td>\n      <td>2012/2013</td>\n      <td>1</td>\n      <td>2012-08-18</td>\n      <td>1228229</td>\n      <td>9825</td>\n      <td>8472</td>\n      <td>0</td>\n      <td>...</td>\n      <td>25075.0</td>\n      <td>33863.0</td>\n      <td>24150.0</td>\n      <td>30352.0</td>\n      <td>24157.0</td>\n      <td>35443.0</td>\n      <td>25150.0</td>\n      <td>160243.0</td>\n      <td>175947.0</td>\n      <td>33468.0</td>\n    </tr>\n    <tr>\n      <th>3249</th>\n      <td>3250</td>\n      <td>1729</td>\n      <td>1729</td>\n      <td>2012/2013</td>\n      <td>1</td>\n      <td>2012-08-20</td>\n      <td>1228230</td>\n      <td>8668</td>\n      <td>10260</td>\n      <td>1</td>\n      <td>...</td>\n      <td>35327.0</td>\n      <td>30865.0</td>\n      <td>34944.0</td>\n      <td>32569.0</td>\n      <td>30373.0</td>\n      <td>40945.0</td>\n      <td>30829.0</td>\n      <td>144993.0</td>\n      <td>160713.0</td>\n      <td>113836.0</td>\n    </tr>\n    <tr>\n      <th>3250</th>\n      <td>3251</td>\n      <td>1729</td>\n      <td>1729</td>\n      <td>2012/2013</td>\n      <td>1</td>\n      <td>2012-08-18</td>\n      <td>1228231</td>\n      <td>9879</td>\n      <td>9850</td>\n      <td>5</td>\n      <td>...</td>\n      <td>24903.0</td>\n      <td>72417.0</td>\n      <td>34275.0</td>\n      <td>23727.0</td>\n      <td>23629.0</td>\n      <td>46354.0</td>\n      <td>24583.0</td>\n      <td>47194.0</td>\n      <td>32728.0</td>\n      <td>24698.0</td>\n    </tr>\n    <tr>\n      <th>3251</th>\n      <td>3252</td>\n      <td>1729</td>\n      <td>1729</td>\n      <td>2012/2013</td>\n      <td>1</td>\n      <td>2012-08-19</td>\n      <td>1228232</td>\n      <td>8456</td>\n      <td>8466</td>\n      <td>3</td>\n      <td>...</td>\n      <td>157838.0</td>\n      <td>26552.0</td>\n      <td>45418.0</td>\n      <td>23823.0</td>\n      <td>279490.0</td>\n      <td>46893.0</td>\n      <td>37234.0</td>\n      <td>24501.0</td>\n      <td>109491.0</td>\n      <td>35345.0</td>\n    </tr>\n    <tr>\n      <th>3252</th>\n      <td>3253</td>\n      <td>1729</td>\n      <td>1729</td>\n      <td>2012/2013</td>\n      <td>1</td>\n      <td>2012-08-18</td>\n      <td>1228233</td>\n      <td>10261</td>\n      <td>8586</td>\n      <td>2</td>\n      <td>...</td>\n      <td>159833.0</td>\n      <td>26108.0</td>\n      <td>38835.0</td>\n      <td>40006.0</td>\n      <td>156727.0</td>\n      <td>115681.0</td>\n      <td>30895.0</td>\n      <td>157729.0</td>\n      <td>31921.0</td>\n      <td>30348.0</td>\n    </tr>\n  </tbody>\n</table>\n<p>5 rows × 77 columns</p>\n</div>"
     },
     "execution_count": 31,
     "metadata": {},
     "output_type": "execute_result"
    }
   ],
   "source": [
    "match.head()"
   ],
   "metadata": {
    "collapsed": false,
    "ExecuteTime": {
     "end_time": "2024-05-06T14:47:51.580687400Z",
     "start_time": "2024-05-06T14:47:51.564848Z"
    }
   },
   "id": "a5da43c388301d33",
   "execution_count": 31
  },
  {
   "cell_type": "code",
   "outputs": [],
   "source": [],
   "metadata": {
    "collapsed": false
   },
   "id": "a7e42b94611ddbe1"
  }
 ],
 "metadata": {
  "kernelspec": {
   "display_name": "Python 3",
   "language": "python",
   "name": "python3"
  },
  "language_info": {
   "codemirror_mode": {
    "name": "ipython",
    "version": 2
   },
   "file_extension": ".py",
   "mimetype": "text/x-python",
   "name": "python",
   "nbconvert_exporter": "python",
   "pygments_lexer": "ipython2",
   "version": "2.7.6"
  }
 },
 "nbformat": 4,
 "nbformat_minor": 5
}
