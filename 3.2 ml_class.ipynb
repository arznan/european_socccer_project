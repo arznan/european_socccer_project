{
 "cells": [
  {
   "cell_type": "code",
   "execution_count": 1,
   "id": "initial_id",
   "metadata": {
    "collapsed": true,
    "ExecuteTime": {
     "end_time": "2024-06-02T18:01:55.707544Z",
     "start_time": "2024-06-02T18:01:54.292314400Z"
    }
   },
   "outputs": [],
   "source": [
    "import numpy as np\n",
    "import pandas as pd\n",
    "import seaborn as sns\n",
    "import matplotlib.pyplot as plt\n",
    "from scipy import stats\n",
    "\n",
    "from sklearn.model_selection import train_test_split\n",
    "\n",
    "from sklearn.linear_model import LogisticRegression\n",
    "from sklearn.preprocessing import label_binarize\n",
    "\n",
    "from sklearn.linear_model import LinearRegression\n",
    "from sklearn.model_selection import GridSearchCV\n",
    "from sklearn.tree import DecisionTreeRegressor\n",
    "from xgboost import XGBRFRegressor, XGBRegressor, XGBClassifier, XGBRFClassifier\n",
    "\n",
    "from sklearn.metrics import mean_squared_error, mean_absolute_error, r2_score\n",
    "from sklearn.metrics import accuracy_score, f1_score, roc_auc_score"
   ]
  },
  {
   "cell_type": "markdown",
   "source": [
    "## ML классификация, part2"
   ],
   "metadata": {
    "collapsed": false
   },
   "id": "8e314359fda9e180"
  },
  {
   "cell_type": "markdown",
   "source": [
    "В этой тетрадке мы снова поменяли наш подход к построению модели, и теперь очистим датафрейм от лишних фичей, которые только переобучают модель и посмотрим на успех классификации"
   ],
   "metadata": {
    "collapsed": false
   },
   "id": "766b89679f3c84ed"
  },
  {
   "cell_type": "code",
   "outputs": [],
   "source": [
    "match = pd.read_csv('match_ml.csv') # https://disk.yandex.ru/d/riyyxNXKSEKxVQ"
   ],
   "metadata": {
    "collapsed": false,
    "ExecuteTime": {
     "end_time": "2024-06-02T18:01:55.936685800Z",
     "start_time": "2024-06-02T18:01:55.709528600Z"
    }
   },
   "id": "fd0e37859da7aea6",
   "execution_count": 2
  },
  {
   "cell_type": "code",
   "outputs": [],
   "source": [
    "match.drop(columns='Unnamed: 0', inplace=True)"
   ],
   "metadata": {
    "collapsed": false,
    "ExecuteTime": {
     "end_time": "2024-06-02T18:04:48.115358Z",
     "start_time": "2024-06-02T18:04:48.098533Z"
    }
   },
   "id": "24747d201172f75a",
   "execution_count": 3
  },
  {
   "cell_type": "code",
   "outputs": [
    {
     "data": {
      "text/plain": "   stage  height_hp1  weight_hp1  age_hp1  overall_rating_hp1  \\\n0      1      185.42         183     21.0                68.0   \n1      1      187.96         181     21.0                69.0   \n2      2      193.04         192     23.0                65.0   \n3      2      185.42         190     31.0                68.0   \n4      3      187.96         181     21.0                69.0   \n\n   sprint_speed_hp1  gk_diving_hp1  gk_handling_hp1  gk_kicking_hp1  \\\n0              43.0           72.0             63.0            71.0   \n1              27.0           69.0             65.0            66.0   \n2              29.0           69.0             64.0            60.0   \n3              43.0           71.0             63.0            62.0   \n4              27.0           69.0             65.0            66.0   \n\n   gk_positioning_hp1  ...  age_ap11  overall_rating_ap11  dribbling_ap11  \\\n0                64.0  ...      20.0                 62.0           67.45   \n1                69.0  ...      24.0                 62.0           59.15   \n2                63.0  ...      24.0                 69.0           73.10   \n3                66.0  ...      26.0                 67.0           68.70   \n4                69.0  ...      26.0                 67.0           68.70   \n\n   preferred_foot_right_ap11  pace_ap11  shooting_ap11  passing_ap11  \\\n0                          0      71.60          49.75         55.65   \n1                          1      63.20          64.60         61.55   \n2                          0      87.45          61.10         59.55   \n3                          1      83.90          62.75         53.35   \n4                          1      83.90          62.75         53.35   \n\n   defending_ap11  physical_ap11  goals_diff  \n0            31.5          47.35           2  \n1            35.2          70.25          -1  \n2            29.8          53.50           1  \n3            31.1          72.45           0  \n4            31.1          72.45           1  \n\n[5 rows x 242 columns]",
      "text/html": "<div>\n<style scoped>\n    .dataframe tbody tr th:only-of-type {\n        vertical-align: middle;\n    }\n\n    .dataframe tbody tr th {\n        vertical-align: top;\n    }\n\n    .dataframe thead th {\n        text-align: right;\n    }\n</style>\n<table border=\"1\" class=\"dataframe\">\n  <thead>\n    <tr style=\"text-align: right;\">\n      <th></th>\n      <th>stage</th>\n      <th>height_hp1</th>\n      <th>weight_hp1</th>\n      <th>age_hp1</th>\n      <th>overall_rating_hp1</th>\n      <th>sprint_speed_hp1</th>\n      <th>gk_diving_hp1</th>\n      <th>gk_handling_hp1</th>\n      <th>gk_kicking_hp1</th>\n      <th>gk_positioning_hp1</th>\n      <th>...</th>\n      <th>age_ap11</th>\n      <th>overall_rating_ap11</th>\n      <th>dribbling_ap11</th>\n      <th>preferred_foot_right_ap11</th>\n      <th>pace_ap11</th>\n      <th>shooting_ap11</th>\n      <th>passing_ap11</th>\n      <th>defending_ap11</th>\n      <th>physical_ap11</th>\n      <th>goals_diff</th>\n    </tr>\n  </thead>\n  <tbody>\n    <tr>\n      <th>0</th>\n      <td>1</td>\n      <td>185.42</td>\n      <td>183</td>\n      <td>21.0</td>\n      <td>68.0</td>\n      <td>43.0</td>\n      <td>72.0</td>\n      <td>63.0</td>\n      <td>71.0</td>\n      <td>64.0</td>\n      <td>...</td>\n      <td>20.0</td>\n      <td>62.0</td>\n      <td>67.45</td>\n      <td>0</td>\n      <td>71.60</td>\n      <td>49.75</td>\n      <td>55.65</td>\n      <td>31.5</td>\n      <td>47.35</td>\n      <td>2</td>\n    </tr>\n    <tr>\n      <th>1</th>\n      <td>1</td>\n      <td>187.96</td>\n      <td>181</td>\n      <td>21.0</td>\n      <td>69.0</td>\n      <td>27.0</td>\n      <td>69.0</td>\n      <td>65.0</td>\n      <td>66.0</td>\n      <td>69.0</td>\n      <td>...</td>\n      <td>24.0</td>\n      <td>62.0</td>\n      <td>59.15</td>\n      <td>1</td>\n      <td>63.20</td>\n      <td>64.60</td>\n      <td>61.55</td>\n      <td>35.2</td>\n      <td>70.25</td>\n      <td>-1</td>\n    </tr>\n    <tr>\n      <th>2</th>\n      <td>2</td>\n      <td>193.04</td>\n      <td>192</td>\n      <td>23.0</td>\n      <td>65.0</td>\n      <td>29.0</td>\n      <td>69.0</td>\n      <td>64.0</td>\n      <td>60.0</td>\n      <td>63.0</td>\n      <td>...</td>\n      <td>24.0</td>\n      <td>69.0</td>\n      <td>73.10</td>\n      <td>0</td>\n      <td>87.45</td>\n      <td>61.10</td>\n      <td>59.55</td>\n      <td>29.8</td>\n      <td>53.50</td>\n      <td>1</td>\n    </tr>\n    <tr>\n      <th>3</th>\n      <td>2</td>\n      <td>185.42</td>\n      <td>190</td>\n      <td>31.0</td>\n      <td>68.0</td>\n      <td>43.0</td>\n      <td>71.0</td>\n      <td>63.0</td>\n      <td>62.0</td>\n      <td>66.0</td>\n      <td>...</td>\n      <td>26.0</td>\n      <td>67.0</td>\n      <td>68.70</td>\n      <td>1</td>\n      <td>83.90</td>\n      <td>62.75</td>\n      <td>53.35</td>\n      <td>31.1</td>\n      <td>72.45</td>\n      <td>0</td>\n    </tr>\n    <tr>\n      <th>4</th>\n      <td>3</td>\n      <td>187.96</td>\n      <td>181</td>\n      <td>21.0</td>\n      <td>69.0</td>\n      <td>27.0</td>\n      <td>69.0</td>\n      <td>65.0</td>\n      <td>66.0</td>\n      <td>69.0</td>\n      <td>...</td>\n      <td>26.0</td>\n      <td>67.0</td>\n      <td>68.70</td>\n      <td>1</td>\n      <td>83.90</td>\n      <td>62.75</td>\n      <td>53.35</td>\n      <td>31.1</td>\n      <td>72.45</td>\n      <td>1</td>\n    </tr>\n  </tbody>\n</table>\n<p>5 rows × 242 columns</p>\n</div>"
     },
     "execution_count": 4,
     "metadata": {},
     "output_type": "execute_result"
    }
   ],
   "source": [
    "match.head()"
   ],
   "metadata": {
    "collapsed": false,
    "ExecuteTime": {
     "end_time": "2024-06-02T18:04:48.712195Z",
     "start_time": "2024-06-02T18:04:48.656282600Z"
    }
   },
   "id": "d9f7cb6f40e03f03",
   "execution_count": 4
  },
  {
   "cell_type": "code",
   "outputs": [],
   "source": [
    "match['match_status'] = match['goals_diff'].apply(lambda x: 0 if x < 0 else (2 if x > 0 else 1))"
   ],
   "metadata": {
    "collapsed": false,
    "ExecuteTime": {
     "end_time": "2024-06-02T18:04:49.654526600Z",
     "start_time": "2024-06-02T18:04:49.623297100Z"
    }
   },
   "id": "bfc3c59a3715a80e",
   "execution_count": 5
  },
  {
   "cell_type": "code",
   "outputs": [],
   "source": [
    "match.drop(columns=['goals_diff'], inplace=True)"
   ],
   "metadata": {
    "collapsed": false,
    "ExecuteTime": {
     "end_time": "2024-06-02T18:04:52.252743500Z",
     "start_time": "2024-06-02T18:04:52.243259700Z"
    }
   },
   "id": "9ea365825c8ed9d",
   "execution_count": 6
  },
  {
   "cell_type": "code",
   "outputs": [
    {
     "data": {
      "text/plain": "2    3939\n0    2621\n1    2185\nName: match_status, dtype: int64"
     },
     "execution_count": 7,
     "metadata": {},
     "output_type": "execute_result"
    }
   ],
   "source": [
    "match['match_status'].value_counts()"
   ],
   "metadata": {
    "collapsed": false,
    "ExecuteTime": {
     "end_time": "2024-06-02T18:04:54.370315700Z",
     "start_time": "2024-06-02T18:04:54.357443600Z"
    }
   },
   "id": "51fa88effa40d068",
   "execution_count": 7
  },
  {
   "cell_type": "markdown",
   "source": [
    "оставим только оверол рейтинг"
   ],
   "metadata": {
    "collapsed": false
   },
   "id": "63343aec1157fb22"
  },
  {
   "cell_type": "code",
   "outputs": [],
   "source": [
    "prefixes = ['dribbling', 'preferred_foot_right', 'pace', 'shooting', 'passing', 'defending', 'physical', 'sprint_speed', 'gk_diving', 'gk_handling', 'gk_kicking', 'gk_positioning', 'gk_reflexes']\n",
    "\n",
    "cols_to_drop = [col for col in match.columns if any(col.startswith(prefix) for prefix in prefixes)]\n",
    "\n",
    "match.drop(columns=cols_to_drop, inplace=True)"
   ],
   "metadata": {
    "collapsed": false,
    "ExecuteTime": {
     "end_time": "2024-06-02T18:05:20.865851700Z",
     "start_time": "2024-06-02T18:05:20.851917300Z"
    }
   },
   "id": "dc7d7443272d5c07",
   "execution_count": 8
  },
  {
   "cell_type": "code",
   "outputs": [],
   "source": [
    "y = match['match_status']\n",
    "X = match.drop(columns=['match_status'])"
   ],
   "metadata": {
    "collapsed": false,
    "ExecuteTime": {
     "end_time": "2024-06-02T18:05:22.155307100Z",
     "start_time": "2024-06-02T18:05:22.133655900Z"
    }
   },
   "id": "bd6e82d226553273",
   "execution_count": 9
  },
  {
   "cell_type": "code",
   "outputs": [],
   "source": [
    "X_train, X_test, y_train, y_test = train_test_split(X, y, random_state=7, test_size=0.2)"
   ],
   "metadata": {
    "collapsed": false,
    "ExecuteTime": {
     "end_time": "2024-06-02T18:05:23.001158400Z",
     "start_time": "2024-06-02T18:05:22.971107300Z"
    }
   },
   "id": "b76471aa2b5c3fc4",
   "execution_count": 10
  },
  {
   "cell_type": "code",
   "outputs": [],
   "source": [
    "def metrics(y_true, y_pred):\n",
    "    return {roc_auc_score(y_true, y_pred, average='macro', multi_class='ovr')}"
   ],
   "metadata": {
    "collapsed": false,
    "ExecuteTime": {
     "end_time": "2024-06-02T18:06:03.268057500Z",
     "start_time": "2024-06-02T18:06:03.260569100Z"
    }
   },
   "id": "507dcc8003f501c4",
   "execution_count": 16
  },
  {
   "cell_type": "code",
   "outputs": [],
   "source": [
    "y_test_bin = label_binarize(y_test, classes=[0, 1, 2])\n",
    "y_train_bin = label_binarize(y_train, classes=[0, 1, 2])"
   ],
   "metadata": {
    "collapsed": false,
    "ExecuteTime": {
     "end_time": "2024-06-02T18:05:27.479928400Z",
     "start_time": "2024-06-02T18:05:27.463294700Z"
    }
   },
   "id": "62a6126e28321150",
   "execution_count": 12
  },
  {
   "cell_type": "markdown",
   "source": [
    "## LogisticRegression"
   ],
   "metadata": {
    "collapsed": false
   },
   "id": "611507a886087753"
  },
  {
   "cell_type": "code",
   "outputs": [
    {
     "data": {
      "text/plain": "LogisticRegression(max_iter=20000, multi_class='ovr')",
      "text/html": "<style>#sk-container-id-1 {color: black;background-color: white;}#sk-container-id-1 pre{padding: 0;}#sk-container-id-1 div.sk-toggleable {background-color: white;}#sk-container-id-1 label.sk-toggleable__label {cursor: pointer;display: block;width: 100%;margin-bottom: 0;padding: 0.3em;box-sizing: border-box;text-align: center;}#sk-container-id-1 label.sk-toggleable__label-arrow:before {content: \"▸\";float: left;margin-right: 0.25em;color: #696969;}#sk-container-id-1 label.sk-toggleable__label-arrow:hover:before {color: black;}#sk-container-id-1 div.sk-estimator:hover label.sk-toggleable__label-arrow:before {color: black;}#sk-container-id-1 div.sk-toggleable__content {max-height: 0;max-width: 0;overflow: hidden;text-align: left;background-color: #f0f8ff;}#sk-container-id-1 div.sk-toggleable__content pre {margin: 0.2em;color: black;border-radius: 0.25em;background-color: #f0f8ff;}#sk-container-id-1 input.sk-toggleable__control:checked~div.sk-toggleable__content {max-height: 200px;max-width: 100%;overflow: auto;}#sk-container-id-1 input.sk-toggleable__control:checked~label.sk-toggleable__label-arrow:before {content: \"▾\";}#sk-container-id-1 div.sk-estimator input.sk-toggleable__control:checked~label.sk-toggleable__label {background-color: #d4ebff;}#sk-container-id-1 div.sk-label input.sk-toggleable__control:checked~label.sk-toggleable__label {background-color: #d4ebff;}#sk-container-id-1 input.sk-hidden--visually {border: 0;clip: rect(1px 1px 1px 1px);clip: rect(1px, 1px, 1px, 1px);height: 1px;margin: -1px;overflow: hidden;padding: 0;position: absolute;width: 1px;}#sk-container-id-1 div.sk-estimator {font-family: monospace;background-color: #f0f8ff;border: 1px dotted black;border-radius: 0.25em;box-sizing: border-box;margin-bottom: 0.5em;}#sk-container-id-1 div.sk-estimator:hover {background-color: #d4ebff;}#sk-container-id-1 div.sk-parallel-item::after {content: \"\";width: 100%;border-bottom: 1px solid gray;flex-grow: 1;}#sk-container-id-1 div.sk-label:hover label.sk-toggleable__label {background-color: #d4ebff;}#sk-container-id-1 div.sk-serial::before {content: \"\";position: absolute;border-left: 1px solid gray;box-sizing: border-box;top: 0;bottom: 0;left: 50%;z-index: 0;}#sk-container-id-1 div.sk-serial {display: flex;flex-direction: column;align-items: center;background-color: white;padding-right: 0.2em;padding-left: 0.2em;position: relative;}#sk-container-id-1 div.sk-item {position: relative;z-index: 1;}#sk-container-id-1 div.sk-parallel {display: flex;align-items: stretch;justify-content: center;background-color: white;position: relative;}#sk-container-id-1 div.sk-item::before, #sk-container-id-1 div.sk-parallel-item::before {content: \"\";position: absolute;border-left: 1px solid gray;box-sizing: border-box;top: 0;bottom: 0;left: 50%;z-index: -1;}#sk-container-id-1 div.sk-parallel-item {display: flex;flex-direction: column;z-index: 1;position: relative;background-color: white;}#sk-container-id-1 div.sk-parallel-item:first-child::after {align-self: flex-end;width: 50%;}#sk-container-id-1 div.sk-parallel-item:last-child::after {align-self: flex-start;width: 50%;}#sk-container-id-1 div.sk-parallel-item:only-child::after {width: 0;}#sk-container-id-1 div.sk-dashed-wrapped {border: 1px dashed gray;margin: 0 0.4em 0.5em 0.4em;box-sizing: border-box;padding-bottom: 0.4em;background-color: white;}#sk-container-id-1 div.sk-label label {font-family: monospace;font-weight: bold;display: inline-block;line-height: 1.2em;}#sk-container-id-1 div.sk-label-container {text-align: center;}#sk-container-id-1 div.sk-container {/* jupyter's `normalize.less` sets `[hidden] { display: none; }` but bootstrap.min.css set `[hidden] { display: none !important; }` so we also need the `!important` here to be able to override the default hidden behavior on the sphinx rendered scikit-learn.org. See: https://github.com/scikit-learn/scikit-learn/issues/21755 */display: inline-block !important;position: relative;}#sk-container-id-1 div.sk-text-repr-fallback {display: none;}</style><div id=\"sk-container-id-1\" class=\"sk-top-container\"><div class=\"sk-text-repr-fallback\"><pre>LogisticRegression(max_iter=20000, multi_class=&#x27;ovr&#x27;)</pre><b>In a Jupyter environment, please rerun this cell to show the HTML representation or trust the notebook. <br />On GitHub, the HTML representation is unable to render, please try loading this page with nbviewer.org.</b></div><div class=\"sk-container\" hidden><div class=\"sk-item\"><div class=\"sk-estimator sk-toggleable\"><input class=\"sk-toggleable__control sk-hidden--visually\" id=\"sk-estimator-id-1\" type=\"checkbox\" checked><label for=\"sk-estimator-id-1\" class=\"sk-toggleable__label sk-toggleable__label-arrow\">LogisticRegression</label><div class=\"sk-toggleable__content\"><pre>LogisticRegression(max_iter=20000, multi_class=&#x27;ovr&#x27;)</pre></div></div></div></div></div>"
     },
     "execution_count": 13,
     "metadata": {},
     "output_type": "execute_result"
    }
   ],
   "source": [
    "logreg = LogisticRegression(multi_class='ovr', max_iter=20000)\n",
    "logreg.fit(X_train, y_train)"
   ],
   "metadata": {
    "collapsed": false,
    "ExecuteTime": {
     "end_time": "2024-06-02T18:05:32.513743200Z",
     "start_time": "2024-06-02T18:05:32.100821200Z"
    }
   },
   "id": "c96762af60898200",
   "execution_count": 13
  },
  {
   "cell_type": "code",
   "outputs": [],
   "source": [
    "logreg_metric_train = metrics(y_train, logreg.predict_proba(X_train))\n",
    "logreg_metric_test = metrics(y_test, logreg.predict_proba(X_test))"
   ],
   "metadata": {
    "collapsed": false,
    "ExecuteTime": {
     "end_time": "2024-06-02T18:06:36.381346500Z",
     "start_time": "2024-06-02T18:06:36.359730600Z"
    }
   },
   "id": "2c2d0802314e627c",
   "execution_count": 18
  },
  {
   "cell_type": "code",
   "outputs": [
    {
     "name": "stdout",
     "output_type": "stream",
     "text": [
      "Лог регрессия на трейне:\n",
      "0.6738649677310731\n",
      "Лог регрессия на тесте:\n",
      "0.6358605420502462\n"
     ]
    }
   ],
   "source": [
    "print('Лог регрессия на трейне:')\n",
    "print(roc_auc_score(y_train_bin, logreg.predict_proba(X_train), average='macro', multi_class='ovr'))\n",
    "print('Лог регрессия на тесте:')\n",
    "print(roc_auc_score(y_test_bin, logreg.predict_proba(X_test), average='macro', multi_class='ovr'))"
   ],
   "metadata": {
    "collapsed": false,
    "ExecuteTime": {
     "end_time": "2024-06-02T18:06:38.069795200Z",
     "start_time": "2024-06-02T18:06:38.048071300Z"
    }
   },
   "id": "4986a04e8d2bfb5a",
   "execution_count": 19
  },
  {
   "cell_type": "markdown",
   "source": [
    "И скор действительно подрос! На целых 7 тысячных. Уже лучше чем ничего"
   ],
   "metadata": {
    "collapsed": false
   },
   "id": "917ce01334a101da"
  },
  {
   "cell_type": "markdown",
   "source": [
    "## XGBClassifier"
   ],
   "metadata": {
    "collapsed": false
   },
   "id": "cfcf6116be9ae654"
  },
  {
   "cell_type": "code",
   "outputs": [],
   "source": [
    "xgb = XGBClassifier(use_label_encoder=False, eval_metric='mlogloss', random_state=42)\n",
    "xgb.fit(X_train, y_train)"
   ],
   "metadata": {
    "collapsed": false,
    "ExecuteTime": {
     "end_time": "2024-06-02T18:06:49.328258300Z",
     "start_time": "2024-06-02T18:06:47.771122300Z"
    }
   },
   "id": "4bb2a4ad7caf0c2b",
   "execution_count": 20
  },
  {
   "cell_type": "code",
   "outputs": [
    {
     "name": "stdout",
     "output_type": "stream",
     "text": [
      "XGB классификация на трейне:\n",
      "0.9998917507948196\n",
      "XGB классификация на тесте:\n",
      "0.6358605420502462\n"
     ]
    }
   ],
   "source": [
    "print('XGB классификация на трейне:')\n",
    "print(roc_auc_score(y_train_bin, xgb.predict_proba(X_train), average='macro', multi_class='ovr'))\n",
    "print('XGB классификация на тесте:')\n",
    "print(roc_auc_score(y_test_bin, logreg.predict_proba(X_test), average='macro', multi_class='ovr'))"
   ],
   "metadata": {
    "collapsed": false,
    "ExecuteTime": {
     "end_time": "2024-06-02T18:06:54.248334Z",
     "start_time": "2024-06-02T18:06:54.197226200Z"
    }
   },
   "id": "da3772298a3f87d1",
   "execution_count": 21
  },
  {
   "cell_type": "code",
   "outputs": [
    {
     "data": {
      "text/plain": "XGBRFClassifier(base_score=None, booster=None, callbacks=None,\n                colsample_bylevel=None, colsample_bytree=None, device=None,\n                early_stopping_rounds=None, enable_categorical=False,\n                eval_metric=None, feature_types=None, gamma=None,\n                grow_policy=None, importance_type=None,\n                interaction_constraints=None, max_bin=None,\n                max_cat_threshold=None, max_cat_to_onehot=None,\n                max_delta_step=None, max_depth=None, max_leaves=None,\n                min_child_weight=None, missing=nan, monotone_constraints=None,\n                multi_strategy=None, n_estimators=None, n_jobs=None,\n                num_parallel_tree=None, objective='multi:softprob',\n                random_state=None, reg_alpha=None, ...)",
      "text/html": "<style>#sk-container-id-2 {color: black;background-color: white;}#sk-container-id-2 pre{padding: 0;}#sk-container-id-2 div.sk-toggleable {background-color: white;}#sk-container-id-2 label.sk-toggleable__label {cursor: pointer;display: block;width: 100%;margin-bottom: 0;padding: 0.3em;box-sizing: border-box;text-align: center;}#sk-container-id-2 label.sk-toggleable__label-arrow:before {content: \"▸\";float: left;margin-right: 0.25em;color: #696969;}#sk-container-id-2 label.sk-toggleable__label-arrow:hover:before {color: black;}#sk-container-id-2 div.sk-estimator:hover label.sk-toggleable__label-arrow:before {color: black;}#sk-container-id-2 div.sk-toggleable__content {max-height: 0;max-width: 0;overflow: hidden;text-align: left;background-color: #f0f8ff;}#sk-container-id-2 div.sk-toggleable__content pre {margin: 0.2em;color: black;border-radius: 0.25em;background-color: #f0f8ff;}#sk-container-id-2 input.sk-toggleable__control:checked~div.sk-toggleable__content {max-height: 200px;max-width: 100%;overflow: auto;}#sk-container-id-2 input.sk-toggleable__control:checked~label.sk-toggleable__label-arrow:before {content: \"▾\";}#sk-container-id-2 div.sk-estimator input.sk-toggleable__control:checked~label.sk-toggleable__label {background-color: #d4ebff;}#sk-container-id-2 div.sk-label input.sk-toggleable__control:checked~label.sk-toggleable__label {background-color: #d4ebff;}#sk-container-id-2 input.sk-hidden--visually {border: 0;clip: rect(1px 1px 1px 1px);clip: rect(1px, 1px, 1px, 1px);height: 1px;margin: -1px;overflow: hidden;padding: 0;position: absolute;width: 1px;}#sk-container-id-2 div.sk-estimator {font-family: monospace;background-color: #f0f8ff;border: 1px dotted black;border-radius: 0.25em;box-sizing: border-box;margin-bottom: 0.5em;}#sk-container-id-2 div.sk-estimator:hover {background-color: #d4ebff;}#sk-container-id-2 div.sk-parallel-item::after {content: \"\";width: 100%;border-bottom: 1px solid gray;flex-grow: 1;}#sk-container-id-2 div.sk-label:hover label.sk-toggleable__label {background-color: #d4ebff;}#sk-container-id-2 div.sk-serial::before {content: \"\";position: absolute;border-left: 1px solid gray;box-sizing: border-box;top: 0;bottom: 0;left: 50%;z-index: 0;}#sk-container-id-2 div.sk-serial {display: flex;flex-direction: column;align-items: center;background-color: white;padding-right: 0.2em;padding-left: 0.2em;position: relative;}#sk-container-id-2 div.sk-item {position: relative;z-index: 1;}#sk-container-id-2 div.sk-parallel {display: flex;align-items: stretch;justify-content: center;background-color: white;position: relative;}#sk-container-id-2 div.sk-item::before, #sk-container-id-2 div.sk-parallel-item::before {content: \"\";position: absolute;border-left: 1px solid gray;box-sizing: border-box;top: 0;bottom: 0;left: 50%;z-index: -1;}#sk-container-id-2 div.sk-parallel-item {display: flex;flex-direction: column;z-index: 1;position: relative;background-color: white;}#sk-container-id-2 div.sk-parallel-item:first-child::after {align-self: flex-end;width: 50%;}#sk-container-id-2 div.sk-parallel-item:last-child::after {align-self: flex-start;width: 50%;}#sk-container-id-2 div.sk-parallel-item:only-child::after {width: 0;}#sk-container-id-2 div.sk-dashed-wrapped {border: 1px dashed gray;margin: 0 0.4em 0.5em 0.4em;box-sizing: border-box;padding-bottom: 0.4em;background-color: white;}#sk-container-id-2 div.sk-label label {font-family: monospace;font-weight: bold;display: inline-block;line-height: 1.2em;}#sk-container-id-2 div.sk-label-container {text-align: center;}#sk-container-id-2 div.sk-container {/* jupyter's `normalize.less` sets `[hidden] { display: none; }` but bootstrap.min.css set `[hidden] { display: none !important; }` so we also need the `!important` here to be able to override the default hidden behavior on the sphinx rendered scikit-learn.org. See: https://github.com/scikit-learn/scikit-learn/issues/21755 */display: inline-block !important;position: relative;}#sk-container-id-2 div.sk-text-repr-fallback {display: none;}</style><div id=\"sk-container-id-2\" class=\"sk-top-container\"><div class=\"sk-text-repr-fallback\"><pre>XGBRFClassifier(base_score=None, booster=None, callbacks=None,\n                colsample_bylevel=None, colsample_bytree=None, device=None,\n                early_stopping_rounds=None, enable_categorical=False,\n                eval_metric=None, feature_types=None, gamma=None,\n                grow_policy=None, importance_type=None,\n                interaction_constraints=None, max_bin=None,\n                max_cat_threshold=None, max_cat_to_onehot=None,\n                max_delta_step=None, max_depth=None, max_leaves=None,\n                min_child_weight=None, missing=nan, monotone_constraints=None,\n                multi_strategy=None, n_estimators=None, n_jobs=None,\n                num_parallel_tree=None, objective=&#x27;multi:softprob&#x27;,\n                random_state=None, reg_alpha=None, ...)</pre><b>In a Jupyter environment, please rerun this cell to show the HTML representation or trust the notebook. <br />On GitHub, the HTML representation is unable to render, please try loading this page with nbviewer.org.</b></div><div class=\"sk-container\" hidden><div class=\"sk-item\"><div class=\"sk-estimator sk-toggleable\"><input class=\"sk-toggleable__control sk-hidden--visually\" id=\"sk-estimator-id-2\" type=\"checkbox\" checked><label for=\"sk-estimator-id-2\" class=\"sk-toggleable__label sk-toggleable__label-arrow\">XGBRFClassifier</label><div class=\"sk-toggleable__content\"><pre>XGBRFClassifier(base_score=None, booster=None, callbacks=None,\n                colsample_bylevel=None, colsample_bytree=None, device=None,\n                early_stopping_rounds=None, enable_categorical=False,\n                eval_metric=None, feature_types=None, gamma=None,\n                grow_policy=None, importance_type=None,\n                interaction_constraints=None, max_bin=None,\n                max_cat_threshold=None, max_cat_to_onehot=None,\n                max_delta_step=None, max_depth=None, max_leaves=None,\n                min_child_weight=None, missing=nan, monotone_constraints=None,\n                multi_strategy=None, n_estimators=None, n_jobs=None,\n                num_parallel_tree=None, objective=&#x27;multi:softprob&#x27;,\n                random_state=None, reg_alpha=None, ...)</pre></div></div></div></div></div>"
     },
     "execution_count": 22,
     "metadata": {},
     "output_type": "execute_result"
    }
   ],
   "source": [
    "xgbrfc = XGBRFClassifier()\n",
    "xgbrfc.fit(X_train, y_train)"
   ],
   "metadata": {
    "collapsed": false,
    "ExecuteTime": {
     "end_time": "2024-06-02T18:07:04.518201900Z",
     "start_time": "2024-06-02T18:07:03.526534100Z"
    }
   },
   "id": "a7acb29f1a810b6d",
   "execution_count": 22
  },
  {
   "cell_type": "code",
   "outputs": [
    {
     "name": "stdout",
     "output_type": "stream",
     "text": [
      "XGBRF классификация на трейне:\n",
      "0.8180880626698027\n",
      "XGBRF классификация на тесте:\n",
      "0.6346322464947541\n"
     ]
    }
   ],
   "source": [
    "print('XGBRF классификация на трейне:')\n",
    "print(roc_auc_score(y_train_bin, xgbrfc.predict_proba(X_train), average='macro', multi_class='ovr'))\n",
    "print('XGBRF классификация на тесте:')\n",
    "print(roc_auc_score(y_test_bin, xgbrfc.predict_proba(X_test), average='macro', multi_class='ovr'))"
   ],
   "metadata": {
    "collapsed": false,
    "ExecuteTime": {
     "end_time": "2024-06-02T18:07:16.213039500Z",
     "start_time": "2024-06-02T18:07:16.145447700Z"
    }
   },
   "id": "b4d14f0684fe9d1d",
   "execution_count": 24
  },
  {
   "cell_type": "markdown",
   "source": [
    "Обычный лес спарвляется чуть хуже чем логрегрессия и XGB, поэтому теперь попробуем поискать новые параметры с помощью GreedSearchCV"
   ],
   "metadata": {
    "collapsed": false
   },
   "id": "cb5266186c382a9d"
  },
  {
   "cell_type": "code",
   "outputs": [
    {
     "data": {
      "text/plain": "GridSearchCV(cv=5,\n             estimator=XGBRFClassifier(base_score=None, booster=None,\n                                       callbacks=None, colsample_bylevel=None,\n                                       colsample_bytree=None, device=None,\n                                       early_stopping_rounds=None,\n                                       enable_categorical=False,\n                                       eval_metric=None, feature_types=None,\n                                       gamma=None, grow_policy=None,\n                                       importance_type=None,\n                                       interaction_constraints=None,\n                                       max_bin=None, max_cat_threshold=None,\n                                       max...\n                                       max_delta_step=None, max_depth=None,\n                                       max_leaves=None, min_child_weight=None,\n                                       missing=nan, monotone_constraints=None,\n                                       multi_strategy=None, n_estimators=None,\n                                       n_jobs=None, num_parallel_tree=None,\n                                       objective='binary:logistic',\n                                       random_state=None, reg_alpha=None, ...),\n             n_jobs=-1,\n             param_grid={'eta': [0.5, 1, 2, 3], 'max_depth': [None, 3, 5, 7, 9],\n                         'n_estimators': [50, 100, 150, 200, 300, 500]})",
      "text/html": "<style>#sk-container-id-3 {color: black;background-color: white;}#sk-container-id-3 pre{padding: 0;}#sk-container-id-3 div.sk-toggleable {background-color: white;}#sk-container-id-3 label.sk-toggleable__label {cursor: pointer;display: block;width: 100%;margin-bottom: 0;padding: 0.3em;box-sizing: border-box;text-align: center;}#sk-container-id-3 label.sk-toggleable__label-arrow:before {content: \"▸\";float: left;margin-right: 0.25em;color: #696969;}#sk-container-id-3 label.sk-toggleable__label-arrow:hover:before {color: black;}#sk-container-id-3 div.sk-estimator:hover label.sk-toggleable__label-arrow:before {color: black;}#sk-container-id-3 div.sk-toggleable__content {max-height: 0;max-width: 0;overflow: hidden;text-align: left;background-color: #f0f8ff;}#sk-container-id-3 div.sk-toggleable__content pre {margin: 0.2em;color: black;border-radius: 0.25em;background-color: #f0f8ff;}#sk-container-id-3 input.sk-toggleable__control:checked~div.sk-toggleable__content {max-height: 200px;max-width: 100%;overflow: auto;}#sk-container-id-3 input.sk-toggleable__control:checked~label.sk-toggleable__label-arrow:before {content: \"▾\";}#sk-container-id-3 div.sk-estimator input.sk-toggleable__control:checked~label.sk-toggleable__label {background-color: #d4ebff;}#sk-container-id-3 div.sk-label input.sk-toggleable__control:checked~label.sk-toggleable__label {background-color: #d4ebff;}#sk-container-id-3 input.sk-hidden--visually {border: 0;clip: rect(1px 1px 1px 1px);clip: rect(1px, 1px, 1px, 1px);height: 1px;margin: -1px;overflow: hidden;padding: 0;position: absolute;width: 1px;}#sk-container-id-3 div.sk-estimator {font-family: monospace;background-color: #f0f8ff;border: 1px dotted black;border-radius: 0.25em;box-sizing: border-box;margin-bottom: 0.5em;}#sk-container-id-3 div.sk-estimator:hover {background-color: #d4ebff;}#sk-container-id-3 div.sk-parallel-item::after {content: \"\";width: 100%;border-bottom: 1px solid gray;flex-grow: 1;}#sk-container-id-3 div.sk-label:hover label.sk-toggleable__label {background-color: #d4ebff;}#sk-container-id-3 div.sk-serial::before {content: \"\";position: absolute;border-left: 1px solid gray;box-sizing: border-box;top: 0;bottom: 0;left: 50%;z-index: 0;}#sk-container-id-3 div.sk-serial {display: flex;flex-direction: column;align-items: center;background-color: white;padding-right: 0.2em;padding-left: 0.2em;position: relative;}#sk-container-id-3 div.sk-item {position: relative;z-index: 1;}#sk-container-id-3 div.sk-parallel {display: flex;align-items: stretch;justify-content: center;background-color: white;position: relative;}#sk-container-id-3 div.sk-item::before, #sk-container-id-3 div.sk-parallel-item::before {content: \"\";position: absolute;border-left: 1px solid gray;box-sizing: border-box;top: 0;bottom: 0;left: 50%;z-index: -1;}#sk-container-id-3 div.sk-parallel-item {display: flex;flex-direction: column;z-index: 1;position: relative;background-color: white;}#sk-container-id-3 div.sk-parallel-item:first-child::after {align-self: flex-end;width: 50%;}#sk-container-id-3 div.sk-parallel-item:last-child::after {align-self: flex-start;width: 50%;}#sk-container-id-3 div.sk-parallel-item:only-child::after {width: 0;}#sk-container-id-3 div.sk-dashed-wrapped {border: 1px dashed gray;margin: 0 0.4em 0.5em 0.4em;box-sizing: border-box;padding-bottom: 0.4em;background-color: white;}#sk-container-id-3 div.sk-label label {font-family: monospace;font-weight: bold;display: inline-block;line-height: 1.2em;}#sk-container-id-3 div.sk-label-container {text-align: center;}#sk-container-id-3 div.sk-container {/* jupyter's `normalize.less` sets `[hidden] { display: none; }` but bootstrap.min.css set `[hidden] { display: none !important; }` so we also need the `!important` here to be able to override the default hidden behavior on the sphinx rendered scikit-learn.org. See: https://github.com/scikit-learn/scikit-learn/issues/21755 */display: inline-block !important;position: relative;}#sk-container-id-3 div.sk-text-repr-fallback {display: none;}</style><div id=\"sk-container-id-3\" class=\"sk-top-container\"><div class=\"sk-text-repr-fallback\"><pre>GridSearchCV(cv=5,\n             estimator=XGBRFClassifier(base_score=None, booster=None,\n                                       callbacks=None, colsample_bylevel=None,\n                                       colsample_bytree=None, device=None,\n                                       early_stopping_rounds=None,\n                                       enable_categorical=False,\n                                       eval_metric=None, feature_types=None,\n                                       gamma=None, grow_policy=None,\n                                       importance_type=None,\n                                       interaction_constraints=None,\n                                       max_bin=None, max_cat_threshold=None,\n                                       max...\n                                       max_delta_step=None, max_depth=None,\n                                       max_leaves=None, min_child_weight=None,\n                                       missing=nan, monotone_constraints=None,\n                                       multi_strategy=None, n_estimators=None,\n                                       n_jobs=None, num_parallel_tree=None,\n                                       objective=&#x27;binary:logistic&#x27;,\n                                       random_state=None, reg_alpha=None, ...),\n             n_jobs=-1,\n             param_grid={&#x27;eta&#x27;: [0.5, 1, 2, 3], &#x27;max_depth&#x27;: [None, 3, 5, 7, 9],\n                         &#x27;n_estimators&#x27;: [50, 100, 150, 200, 300, 500]})</pre><b>In a Jupyter environment, please rerun this cell to show the HTML representation or trust the notebook. <br />On GitHub, the HTML representation is unable to render, please try loading this page with nbviewer.org.</b></div><div class=\"sk-container\" hidden><div class=\"sk-item sk-dashed-wrapped\"><div class=\"sk-label-container\"><div class=\"sk-label sk-toggleable\"><input class=\"sk-toggleable__control sk-hidden--visually\" id=\"sk-estimator-id-3\" type=\"checkbox\" ><label for=\"sk-estimator-id-3\" class=\"sk-toggleable__label sk-toggleable__label-arrow\">GridSearchCV</label><div class=\"sk-toggleable__content\"><pre>GridSearchCV(cv=5,\n             estimator=XGBRFClassifier(base_score=None, booster=None,\n                                       callbacks=None, colsample_bylevel=None,\n                                       colsample_bytree=None, device=None,\n                                       early_stopping_rounds=None,\n                                       enable_categorical=False,\n                                       eval_metric=None, feature_types=None,\n                                       gamma=None, grow_policy=None,\n                                       importance_type=None,\n                                       interaction_constraints=None,\n                                       max_bin=None, max_cat_threshold=None,\n                                       max...\n                                       max_delta_step=None, max_depth=None,\n                                       max_leaves=None, min_child_weight=None,\n                                       missing=nan, monotone_constraints=None,\n                                       multi_strategy=None, n_estimators=None,\n                                       n_jobs=None, num_parallel_tree=None,\n                                       objective=&#x27;binary:logistic&#x27;,\n                                       random_state=None, reg_alpha=None, ...),\n             n_jobs=-1,\n             param_grid={&#x27;eta&#x27;: [0.5, 1, 2, 3], &#x27;max_depth&#x27;: [None, 3, 5, 7, 9],\n                         &#x27;n_estimators&#x27;: [50, 100, 150, 200, 300, 500]})</pre></div></div></div><div class=\"sk-parallel\"><div class=\"sk-parallel-item\"><div class=\"sk-item\"><div class=\"sk-label-container\"><div class=\"sk-label sk-toggleable\"><input class=\"sk-toggleable__control sk-hidden--visually\" id=\"sk-estimator-id-4\" type=\"checkbox\" ><label for=\"sk-estimator-id-4\" class=\"sk-toggleable__label sk-toggleable__label-arrow\">estimator: XGBRFClassifier</label><div class=\"sk-toggleable__content\"><pre>XGBRFClassifier(base_score=None, booster=None, callbacks=None,\n                colsample_bylevel=None, colsample_bytree=None, device=None,\n                early_stopping_rounds=None, enable_categorical=False,\n                eval_metric=None, feature_types=None, gamma=None,\n                grow_policy=None, importance_type=None,\n                interaction_constraints=None, max_bin=None,\n                max_cat_threshold=None, max_cat_to_onehot=None,\n                max_delta_step=None, max_depth=None, max_leaves=None,\n                min_child_weight=None, missing=nan, monotone_constraints=None,\n                multi_strategy=None, n_estimators=None, n_jobs=None,\n                num_parallel_tree=None, objective=&#x27;binary:logistic&#x27;,\n                random_state=None, reg_alpha=None, ...)</pre></div></div></div><div class=\"sk-serial\"><div class=\"sk-item\"><div class=\"sk-estimator sk-toggleable\"><input class=\"sk-toggleable__control sk-hidden--visually\" id=\"sk-estimator-id-5\" type=\"checkbox\" ><label for=\"sk-estimator-id-5\" class=\"sk-toggleable__label sk-toggleable__label-arrow\">XGBRFClassifier</label><div class=\"sk-toggleable__content\"><pre>XGBRFClassifier(base_score=None, booster=None, callbacks=None,\n                colsample_bylevel=None, colsample_bytree=None, device=None,\n                early_stopping_rounds=None, enable_categorical=False,\n                eval_metric=None, feature_types=None, gamma=None,\n                grow_policy=None, importance_type=None,\n                interaction_constraints=None, max_bin=None,\n                max_cat_threshold=None, max_cat_to_onehot=None,\n                max_delta_step=None, max_depth=None, max_leaves=None,\n                min_child_weight=None, missing=nan, monotone_constraints=None,\n                multi_strategy=None, n_estimators=None, n_jobs=None,\n                num_parallel_tree=None, objective=&#x27;binary:logistic&#x27;,\n                random_state=None, reg_alpha=None, ...)</pre></div></div></div></div></div></div></div></div></div></div>"
     },
     "execution_count": 25,
     "metadata": {},
     "output_type": "execute_result"
    }
   ],
   "source": [
    "params = {\n",
    "    'n_estimators': [50, 100, 150, 200, 300, 500],\n",
    "    'max_depth': [None, 3, 5, 7, 9],\n",
    "    'eta': [0.5, 1, 2, 3]\n",
    "}\n",
    "grid_search = GridSearchCV(XGBRFClassifier(), params, n_jobs=-1, cv=5)\n",
    "\n",
    "grid_search.fit(X_train, y_train)"
   ],
   "metadata": {
    "collapsed": false,
    "ExecuteTime": {
     "end_time": "2024-06-02T18:14:09.671137900Z",
     "start_time": "2024-06-02T18:07:24.977769300Z"
    }
   },
   "id": "17bf90a7bb26a7d1",
   "execution_count": 25
  },
  {
   "cell_type": "code",
   "outputs": [
    {
     "data": {
      "text/plain": "{'eta': 0.5, 'max_depth': None, 'n_estimators': 150}"
     },
     "execution_count": 26,
     "metadata": {},
     "output_type": "execute_result"
    }
   ],
   "source": [
    "grid_search.best_params_"
   ],
   "metadata": {
    "collapsed": false,
    "ExecuteTime": {
     "end_time": "2024-06-02T18:14:09.677873200Z",
     "start_time": "2024-06-02T18:14:09.672135600Z"
    }
   },
   "id": "a1961db4012a8ca9",
   "execution_count": 26
  },
  {
   "cell_type": "code",
   "outputs": [],
   "source": [
    "xgbrfc_cv = grid_search.best_estimator_"
   ],
   "metadata": {
    "collapsed": false,
    "ExecuteTime": {
     "end_time": "2024-06-02T18:14:09.698817100Z",
     "start_time": "2024-06-02T18:14:09.677873200Z"
    }
   },
   "id": "a6cda5f50076db78",
   "execution_count": 27
  },
  {
   "cell_type": "code",
   "outputs": [
    {
     "name": "stdout",
     "output_type": "stream",
     "text": [
      "XGBRF классификация на трейне:\n",
      "0.8199956498359781\n",
      "XGBRF классификация на тесте:\n",
      "0.6353839023178146\n"
     ]
    }
   ],
   "source": [
    "print('XGBRF классификация на трейне:')\n",
    "print(roc_auc_score(y_train_bin, xgbrfc_cv.predict_proba(X_train), average='macro', multi_class='ovr'))\n",
    "print('XGBRF классификация на тесте:')\n",
    "print(roc_auc_score(y_test_bin, xgbrfc_cv.predict_proba(X_test), average='macro', multi_class='ovr'))"
   ],
   "metadata": {
    "collapsed": false,
    "ExecuteTime": {
     "end_time": "2024-06-02T18:14:09.767633600Z",
     "start_time": "2024-06-02T18:14:09.686849600Z"
    }
   },
   "id": "4bd5a35d23a036a2",
   "execution_count": 28
  },
  {
   "cell_type": "code",
   "outputs": [],
   "source": [
    "feature_importance = pd.DataFrame([grid_search.best_estimator_.feature_importances_], columns=X_train.columns)"
   ],
   "metadata": {
    "collapsed": false,
    "ExecuteTime": {
     "end_time": "2024-06-02T18:32:11.234245400Z",
     "start_time": "2024-06-02T18:32:11.219532900Z"
    }
   },
   "id": "cf016d8b9a7339c3",
   "execution_count": 31
  },
  {
   "cell_type": "code",
   "outputs": [
    {
     "data": {
      "text/plain": "      stage  height_hp1   age_hp1  weight_hp1  height_ap1  height_hp2  \\\n0  0.004761    0.005274  0.005711    0.005764    0.006413    0.006492   \n\n    age_ap1   age_hp7  weight_ap10  weight_ap1  ...  overall_rating_hp10  \\\n0  0.007014  0.007147     0.007148    0.007177  ...             0.022286   \n\n   overall_rating_ap4  overall_rating_hp4  overall_rating_hp8  \\\n0            0.023864            0.024292            0.025213   \n\n   overall_rating_hp9  overall_rating_ap10  overall_rating_hp7  \\\n0            0.025333             0.028725            0.028859   \n\n   overall_rating_hp1  overall_rating_ap3  overall_rating_ap8  \n0            0.032114            0.032425            0.034353  \n\n[1 rows x 89 columns]",
      "text/html": "<div>\n<style scoped>\n    .dataframe tbody tr th:only-of-type {\n        vertical-align: middle;\n    }\n\n    .dataframe tbody tr th {\n        vertical-align: top;\n    }\n\n    .dataframe thead th {\n        text-align: right;\n    }\n</style>\n<table border=\"1\" class=\"dataframe\">\n  <thead>\n    <tr style=\"text-align: right;\">\n      <th></th>\n      <th>stage</th>\n      <th>height_hp1</th>\n      <th>age_hp1</th>\n      <th>weight_hp1</th>\n      <th>height_ap1</th>\n      <th>height_hp2</th>\n      <th>age_ap1</th>\n      <th>age_hp7</th>\n      <th>weight_ap10</th>\n      <th>weight_ap1</th>\n      <th>...</th>\n      <th>overall_rating_hp10</th>\n      <th>overall_rating_ap4</th>\n      <th>overall_rating_hp4</th>\n      <th>overall_rating_hp8</th>\n      <th>overall_rating_hp9</th>\n      <th>overall_rating_ap10</th>\n      <th>overall_rating_hp7</th>\n      <th>overall_rating_hp1</th>\n      <th>overall_rating_ap3</th>\n      <th>overall_rating_ap8</th>\n    </tr>\n  </thead>\n  <tbody>\n    <tr>\n      <th>0</th>\n      <td>0.004761</td>\n      <td>0.005274</td>\n      <td>0.005711</td>\n      <td>0.005764</td>\n      <td>0.006413</td>\n      <td>0.006492</td>\n      <td>0.007014</td>\n      <td>0.007147</td>\n      <td>0.007148</td>\n      <td>0.007177</td>\n      <td>...</td>\n      <td>0.022286</td>\n      <td>0.023864</td>\n      <td>0.024292</td>\n      <td>0.025213</td>\n      <td>0.025333</td>\n      <td>0.028725</td>\n      <td>0.028859</td>\n      <td>0.032114</td>\n      <td>0.032425</td>\n      <td>0.034353</td>\n    </tr>\n  </tbody>\n</table>\n<p>1 rows × 89 columns</p>\n</div>"
     },
     "execution_count": 32,
     "metadata": {},
     "output_type": "execute_result"
    }
   ],
   "source": [
    "sorted_indices = feature_importance.iloc[0].sort_values().index\n",
    "\n",
    "feature_importance[sorted_indices]"
   ],
   "metadata": {
    "collapsed": false,
    "ExecuteTime": {
     "end_time": "2024-06-02T18:32:12.077871Z",
     "start_time": "2024-06-02T18:32:12.032992100Z"
    }
   },
   "id": "f1bfbdd2c5fec970",
   "execution_count": 32
  },
  {
   "cell_type": "markdown",
   "source": [
    "Так получается, что для такой задачи с огромным количеством фичей рандомфорест справляется чуть хуже чем обычная логрегрессия, так как сильнее переобучается. "
   ],
   "metadata": {
    "collapsed": false
   },
   "id": "c406ff25fbcc27b9"
  },
  {
   "cell_type": "markdown",
   "source": [
    "Подытожив стоит сказать, что наша идея не увенчалась успехом. Предсказывать результаты реальных матчей по карточкам из FIFA почти невозможно и выбить ROC-AUC больше хотя бы 0.65 у нас так и не получилось, в связи с этим предостерегаем всех умельцев которым тоже придет такая идея в голову, побыстрее от нее отказаться."
   ],
   "metadata": {
    "collapsed": false
   },
   "id": "543e6eba9e521b4e"
  },
  {
   "cell_type": "code",
   "outputs": [],
   "source": [],
   "metadata": {
    "collapsed": false
   },
   "id": "3c173dfdbadacdc4"
  }
 ],
 "metadata": {
  "kernelspec": {
   "display_name": "Python 3",
   "language": "python",
   "name": "python3"
  },
  "language_info": {
   "codemirror_mode": {
    "name": "ipython",
    "version": 2
   },
   "file_extension": ".py",
   "mimetype": "text/x-python",
   "name": "python",
   "nbconvert_exporter": "python",
   "pygments_lexer": "ipython2",
   "version": "2.7.6"
  }
 },
 "nbformat": 4,
 "nbformat_minor": 5
}
