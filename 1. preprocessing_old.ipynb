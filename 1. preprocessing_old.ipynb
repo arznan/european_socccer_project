{
 "cells": [
  {
   "cell_type": "markdown",
   "id": "19f7c909e6215bd3",
   "metadata": {},
   "source": [
    "гнилой пиздеж про то откуда данные как они выглядят в черновом варианте и что мы сделаем с ними в этой тетрадке"
   ]
  },
  {
   "cell_type": "code",
   "execution_count": 1,
   "id": "initial_id",
   "metadata": {
    "collapsed": true,
    "ExecuteTime": {
     "end_time": "2024-05-25T06:59:44.889012100Z",
     "start_time": "2024-05-25T06:59:44.883706800Z"
    }
   },
   "outputs": [],
   "source": [
    "import pandas as pd\n",
    "import sqlite3\n",
    "import matplotlib.pyplot as plt\n",
    "import numpy as np"
   ]
  },
  {
   "cell_type": "markdown",
   "source": [
    "достаем данные (надо будет их залить в облако)"
   ],
   "metadata": {
    "collapsed": false
   },
   "id": "6c888a2938cb1141"
  },
  {
   "cell_type": "code",
   "outputs": [
    {
     "name": "stdout",
     "output_type": "stream",
     "text": [
      "sqlite_sequence\n",
      "Player_Attributes\n",
      "Player\n",
      "Match\n",
      "League\n",
      "Country\n",
      "Team\n",
      "Team_Attributes\n"
     ]
    }
   ],
   "source": [
    "conn = sqlite3.connect('database.sqlite') # https://disk.yandex.ru/d/SzXXSHnMUBK2DQ\n",
    "cursor = conn.cursor()\n",
    "cursor.execute(\"SELECT name FROM sqlite_master WHERE type='table';\")\n",
    "tables = cursor.fetchall()\n",
    "\n",
    "for table in tables:\n",
    "    print(table[0])"
   ],
   "metadata": {
    "collapsed": false,
    "ExecuteTime": {
     "end_time": "2024-05-25T06:59:45.564829600Z",
     "start_time": "2024-05-25T06:59:45.499386200Z"
    }
   },
   "id": "17fdee6222f5a5f8",
   "execution_count": 2
  },
  {
   "cell_type": "markdown",
   "id": "e6297146ed9445d9",
   "metadata": {},
   "source": [
    "разбираемся с таблицей match"
   ]
  },
  {
   "cell_type": "code",
   "execution_count": 13,
   "id": "d67a1802b4102f46",
   "metadata": {
    "ExecuteTime": {
     "end_time": "2024-05-12T17:20:57.265856500Z",
     "start_time": "2024-05-12T17:20:53.109576100Z"
    }
   },
   "outputs": [
    {
     "data": {
      "text/plain": "   id  country_id  league_id     season  stage                 date  \\\n0   1           1          1  2008/2009      1  2008-08-17 00:00:00   \n1   2           1          1  2008/2009      1  2008-08-16 00:00:00   \n2   3           1          1  2008/2009      1  2008-08-16 00:00:00   \n3   4           1          1  2008/2009      1  2008-08-17 00:00:00   \n4   5           1          1  2008/2009      1  2008-08-16 00:00:00   \n\n   match_api_id  home_team_api_id  away_team_api_id  home_team_goal  ...  \\\n0        492473              9987              9993               1  ...   \n1        492474             10000              9994               0  ...   \n2        492475              9984              8635               0  ...   \n3        492476              9991              9998               5  ...   \n4        492477              7947              9985               1  ...   \n\n    SJA   VCH   VCD   VCA   GBH   GBD   GBA   BSH   BSD   BSA  \n0  4.00  1.65  3.40  4.50  1.78  3.25  4.00  1.73  3.40  4.20  \n1  3.80  2.00  3.25  3.25  1.85  3.25  3.75  1.91  3.25  3.60  \n2  2.50  2.35  3.25  2.65  2.50  3.20  2.50  2.30  3.20  2.75  \n3  7.50  1.45  3.75  6.50  1.50  3.75  5.50  1.44  3.75  6.50  \n4  1.73  4.50  3.40  1.65  4.50  3.50  1.65  4.75  3.30  1.67  \n\n[5 rows x 115 columns]",
      "text/html": "<div>\n<style scoped>\n    .dataframe tbody tr th:only-of-type {\n        vertical-align: middle;\n    }\n\n    .dataframe tbody tr th {\n        vertical-align: top;\n    }\n\n    .dataframe thead th {\n        text-align: right;\n    }\n</style>\n<table border=\"1\" class=\"dataframe\">\n  <thead>\n    <tr style=\"text-align: right;\">\n      <th></th>\n      <th>id</th>\n      <th>country_id</th>\n      <th>league_id</th>\n      <th>season</th>\n      <th>stage</th>\n      <th>date</th>\n      <th>match_api_id</th>\n      <th>home_team_api_id</th>\n      <th>away_team_api_id</th>\n      <th>home_team_goal</th>\n      <th>...</th>\n      <th>SJA</th>\n      <th>VCH</th>\n      <th>VCD</th>\n      <th>VCA</th>\n      <th>GBH</th>\n      <th>GBD</th>\n      <th>GBA</th>\n      <th>BSH</th>\n      <th>BSD</th>\n      <th>BSA</th>\n    </tr>\n  </thead>\n  <tbody>\n    <tr>\n      <th>0</th>\n      <td>1</td>\n      <td>1</td>\n      <td>1</td>\n      <td>2008/2009</td>\n      <td>1</td>\n      <td>2008-08-17 00:00:00</td>\n      <td>492473</td>\n      <td>9987</td>\n      <td>9993</td>\n      <td>1</td>\n      <td>...</td>\n      <td>4.00</td>\n      <td>1.65</td>\n      <td>3.40</td>\n      <td>4.50</td>\n      <td>1.78</td>\n      <td>3.25</td>\n      <td>4.00</td>\n      <td>1.73</td>\n      <td>3.40</td>\n      <td>4.20</td>\n    </tr>\n    <tr>\n      <th>1</th>\n      <td>2</td>\n      <td>1</td>\n      <td>1</td>\n      <td>2008/2009</td>\n      <td>1</td>\n      <td>2008-08-16 00:00:00</td>\n      <td>492474</td>\n      <td>10000</td>\n      <td>9994</td>\n      <td>0</td>\n      <td>...</td>\n      <td>3.80</td>\n      <td>2.00</td>\n      <td>3.25</td>\n      <td>3.25</td>\n      <td>1.85</td>\n      <td>3.25</td>\n      <td>3.75</td>\n      <td>1.91</td>\n      <td>3.25</td>\n      <td>3.60</td>\n    </tr>\n    <tr>\n      <th>2</th>\n      <td>3</td>\n      <td>1</td>\n      <td>1</td>\n      <td>2008/2009</td>\n      <td>1</td>\n      <td>2008-08-16 00:00:00</td>\n      <td>492475</td>\n      <td>9984</td>\n      <td>8635</td>\n      <td>0</td>\n      <td>...</td>\n      <td>2.50</td>\n      <td>2.35</td>\n      <td>3.25</td>\n      <td>2.65</td>\n      <td>2.50</td>\n      <td>3.20</td>\n      <td>2.50</td>\n      <td>2.30</td>\n      <td>3.20</td>\n      <td>2.75</td>\n    </tr>\n    <tr>\n      <th>3</th>\n      <td>4</td>\n      <td>1</td>\n      <td>1</td>\n      <td>2008/2009</td>\n      <td>1</td>\n      <td>2008-08-17 00:00:00</td>\n      <td>492476</td>\n      <td>9991</td>\n      <td>9998</td>\n      <td>5</td>\n      <td>...</td>\n      <td>7.50</td>\n      <td>1.45</td>\n      <td>3.75</td>\n      <td>6.50</td>\n      <td>1.50</td>\n      <td>3.75</td>\n      <td>5.50</td>\n      <td>1.44</td>\n      <td>3.75</td>\n      <td>6.50</td>\n    </tr>\n    <tr>\n      <th>4</th>\n      <td>5</td>\n      <td>1</td>\n      <td>1</td>\n      <td>2008/2009</td>\n      <td>1</td>\n      <td>2008-08-16 00:00:00</td>\n      <td>492477</td>\n      <td>7947</td>\n      <td>9985</td>\n      <td>1</td>\n      <td>...</td>\n      <td>1.73</td>\n      <td>4.50</td>\n      <td>3.40</td>\n      <td>1.65</td>\n      <td>4.50</td>\n      <td>3.50</td>\n      <td>1.65</td>\n      <td>4.75</td>\n      <td>3.30</td>\n      <td>1.67</td>\n    </tr>\n  </tbody>\n</table>\n<p>5 rows × 115 columns</p>\n</div>"
     },
     "execution_count": 13,
     "metadata": {},
     "output_type": "execute_result"
    }
   ],
   "source": [
    "match = pd.read_sql('SELECT * FROM Match', conn)\n",
    "match.head()"
   ]
  },
  {
   "cell_type": "markdown",
   "id": "cad2f64bb9fc1106",
   "metadata": {},
   "source": [
    "очень жесткий пиздежь про почти каждый столбец с описанием (очев группируя некоторые) говорим сразу, что тему с кэфами выкидываем остальное щас будем анализировать"
   ]
  },
  {
   "cell_type": "code",
   "execution_count": 14,
   "id": "dd70c54997969f70",
   "metadata": {
    "ExecuteTime": {
     "end_time": "2024-05-12T17:20:57.285793200Z",
     "start_time": "2024-05-12T17:20:57.262672300Z"
    }
   },
   "outputs": [
    {
     "data": {
      "text/plain": "(25979, 115)"
     },
     "execution_count": 14,
     "metadata": {},
     "output_type": "execute_result"
    }
   ],
   "source": [
    "match.shape"
   ]
  },
  {
   "cell_type": "code",
   "execution_count": 15,
   "id": "973aea5c6890a6d5",
   "metadata": {
    "ExecuteTime": {
     "end_time": "2024-05-12T17:21:00.412465Z",
     "start_time": "2024-05-12T17:20:57.267840Z"
    }
   },
   "outputs": [
    {
     "data": {
      "text/plain": "<Figure size 1200x900 with 12 Axes>",
      "image/png": "[encoded data removed]"
     },
     "metadata": {},
     "output_type": "display_data"
    }
   ],
   "source": [
    "fig, axs = plt.subplots(3, 4, figsize=(12, 9))\n",
    "axs = axs.flatten()\n",
    "\n",
    "for i in range(1, 12):\n",
    "    ax = axs[i - 1]\n",
    "    ax.scatter(match[f'home_player_X{i}'], match[f'home_player_Y{i}'], alpha=0.2)\n",
    "    ax.set_xlabel('X')\n",
    "    ax.set_ylabel('Y')\n",
    "    ax.set_title(f'home_player_{i}')\n",
    "    ax.set_xlim(-1, 12)\n",
    "    ax.set_ylim(-1, 12)\n",
    "\n",
    "plt.tight_layout()\n",
    "plt.show()"
   ]
  },
  {
   "cell_type": "markdown",
   "id": "61abb93092d8b216",
   "metadata": {},
   "source": [
    "тут вот если ты че то придумаешь в плане анализа будет норм, очев первый игрок это воротчик (аххахаха как я наивен, дальше выяснется что это не так), мб можно проверятьк акие то гипотезы на счет того кто какой ногой играет или связь роста и близость к воротам противника, хз как это нам поможет но что то высрать надо"
   ]
  },
  {
   "cell_type": "code",
   "execution_count": 16,
   "id": "b258939775ff861e",
   "metadata": {
    "ExecuteTime": {
     "end_time": "2024-05-12T17:21:00.436281700Z",
     "start_time": "2024-05-12T17:21:00.413463400Z"
    }
   },
   "outputs": [
    {
     "data": {
      "text/plain": "1"
     },
     "execution_count": 16,
     "metadata": {},
     "output_type": "execute_result"
    }
   ],
   "source": [
    "len(match[(match['home_player_X1'] > 1) & (match['home_player_Y1'] > 1)])"
   ]
  },
  {
   "cell_type": "code",
   "execution_count": 17,
   "id": "f1ee9980f21a6cd3",
   "metadata": {
    "ExecuteTime": {
     "end_time": "2024-05-12T17:21:00.642673700Z",
     "start_time": "2024-05-12T17:21:00.421321400Z"
    }
   },
   "outputs": [
    {
     "name": "stdout",
     "output_type": "stream",
     "text": [
      "24157\n",
      "11\n",
      "0\n",
      "0\n",
      "0\n",
      "0\n",
      "0\n",
      "0\n",
      "1\n",
      "0\n",
      "2\n"
     ]
    }
   ],
   "source": [
    "for i in range(1, 12):\n",
    "    print(len(match[(match[f'home_player_X{i}'] <= 1) & (match[f'home_player_Y{i}'] <= 1)]))"
   ]
  },
  {
   "cell_type": "code",
   "execution_count": 18,
   "id": "5063f6d7284419c3",
   "metadata": {
    "ExecuteTime": {
     "end_time": "2024-05-12T17:21:02.341025100Z",
     "start_time": "2024-05-12T17:21:00.446201200Z"
    }
   },
   "outputs": [
    {
     "data": {
      "text/plain": "<Figure size 1200x900 with 12 Axes>",
      "image/png": "[encoded data removed]"
     },
     "metadata": {},
     "output_type": "display_data"
    }
   ],
   "source": [
    "fig, axs = plt.subplots(3, 4, figsize=(12, 9))\n",
    "axs = axs.flatten()\n",
    "\n",
    "for i in range(1, 12):\n",
    "    ax = axs[i - 1]\n",
    "    ax.scatter(match[f'away_player_X{i}'], match[f'away_player_Y{i}'], alpha=0.2)\n",
    "    ax.set_xlabel('X')\n",
    "    ax.set_ylabel('Y')\n",
    "    ax.set_title(f'away_player_{i}')\n",
    "    ax.set_xlim(-1, 12)\n",
    "    ax.set_ylim(-1, 12)\n",
    "\n",
    "plt.tight_layout()\n",
    "plt.show()"
   ]
  },
  {
   "cell_type": "markdown",
   "source": [
    "делаем вывод, что те футболисты координаты которых меньше 1, являются вратарями, посему, сделаем сет вратерей и полевых:"
   ],
   "metadata": {
    "collapsed": false
   },
   "id": "bb7506ceab05a0e0"
  },
  {
   "cell_type": "code",
   "outputs": [],
   "source": [
    "goalkeepers = []\n",
    "for i in range(1, 12):\n",
    "    home_goalkeepers = np.array(match.loc[(match[f'home_player_Y{i}'] <= 1)][\n",
    "                                    f'home_player_{i}'])\n",
    "    away_goalkeepers = np.array(match.loc[(match[f'away_player_Y{i}'] <= 1)][\n",
    "                                    f'away_player_{i}'])\n",
    "    goalkeepers = np.unique(np.append(np.append(home_goalkeepers, away_goalkeepers), goalkeepers))"
   ],
   "metadata": {
    "collapsed": false,
    "ExecuteTime": {
     "end_time": "2024-05-12T17:21:02.552259900Z",
     "start_time": "2024-05-12T17:21:02.342017600Z"
    }
   },
   "id": "4e285cc40f020d98",
   "execution_count": 19
  },
  {
   "cell_type": "code",
   "outputs": [],
   "source": [
    "fielders = []\n",
    "for i in range(1, 12):\n",
    "    home_fielders = np.array(match.loc[(match[f'home_player_Y{i}'] > 1)][\n",
    "                                 f'home_player_{i}'])\n",
    "    away_fielders = np.array(match.loc[(match[f'away_player_Y{i}'] > 1)][\n",
    "                                 f'away_player_{i}'])\n",
    "    fielders = np.unique(np.append(np.append(home_fielders, away_fielders), fielders))"
   ],
   "metadata": {
    "collapsed": false,
    "ExecuteTime": {
     "end_time": "2024-05-12T17:21:02.740146300Z",
     "start_time": "2024-05-12T17:21:02.382681800Z"
    }
   },
   "id": "f5120a6d62e0f35d",
   "execution_count": 20
  },
  {
   "cell_type": "markdown",
   "id": "f4935ffe92fd498f",
   "metadata": {},
   "source": [
    "ну и удалим пока их нахуй, если пригодятся то вернемся + привожу дату в номр вид"
   ]
  },
  {
   "cell_type": "code",
   "execution_count": 21,
   "id": "4f2922ae5f0d1154",
   "metadata": {
    "ExecuteTime": {
     "end_time": "2024-05-12T17:21:03.037673500Z",
     "start_time": "2024-05-12T17:21:02.741144Z"
    }
   },
   "outputs": [],
   "source": [
    "for i in range(1, 12):\n",
    "    match.drop(columns=[f'home_player_X{i}', f'home_player_Y{i}'], inplace=True)\n",
    "    match.drop(columns=[f'away_player_X{i}', f'away_player_Y{i}'], inplace=True)\n",
    "match['date'] = pd.to_datetime(match['date'])"
   ]
  },
  {
   "cell_type": "markdown",
   "id": "18537e2f1f4a9db6",
   "metadata": {},
   "source": [
    "теперь разберемся с колонками про кэфы (все таки мысль сделать таргетом именно их меня не покидает, в целом мы таким образом превратим классификацию в регресиию, и как будто тут чуть чуть побольше пространства для фантазии, но скора хорошего для картинки будет добится сложновато)"
   ]
  },
  {
   "cell_type": "code",
   "execution_count": 22,
   "id": "5766e0a19de36824",
   "metadata": {
    "ExecuteTime": {
     "end_time": "2024-05-12T17:21:03.056873600Z",
     "start_time": "2024-05-12T17:21:03.041622500Z"
    }
   },
   "outputs": [],
   "source": [
    "columns_bookers = ['B365H',\n",
    "                   'B365D',\n",
    "                   'B365A',\n",
    "                   'BWH',\n",
    "                   'BWD',\n",
    "                   'BWA',\n",
    "                   'IWH',\n",
    "                   'IWD',\n",
    "                   'IWA',\n",
    "                   'LBH',\n",
    "                   'LBD',\n",
    "                   'LBA',\n",
    "                   'PSH',\n",
    "                   'PSD',\n",
    "                   'PSD',\n",
    "                   'PSA',\n",
    "                   'WHH',\n",
    "                   'WHD',\n",
    "                   'WHA',\n",
    "                   'SJH',\n",
    "                   'SJD',\n",
    "                   'SJA',\n",
    "                   'VCH',\n",
    "                   'VCD',\n",
    "                   'VCA',\n",
    "                   'GBH',\n",
    "                   'GBD',\n",
    "                   'GBA',\n",
    "                   'BSH',\n",
    "                   'BSD',\n",
    "                   'BSA']\n",
    "match.drop(columns=columns_bookers, inplace=True)"
   ]
  },
  {
   "cell_type": "markdown",
   "id": "a8e93531506b675f",
   "metadata": {},
   "source": [
    "удалим логи матча"
   ]
  },
  {
   "cell_type": "code",
   "execution_count": 23,
   "id": "b386959602887d32",
   "metadata": {
    "ExecuteTime": {
     "end_time": "2024-05-12T17:21:03.066929Z",
     "start_time": "2024-05-12T17:21:03.054878500Z"
    }
   },
   "outputs": [],
   "source": [
    "columns_with_logs = ['goal',\n",
    "                     'shoton',\n",
    "                     'shotoff',\n",
    "                     'foulcommit',\n",
    "                     'card',\n",
    "                     'cross',\n",
    "                     'corner',\n",
    "                     'possession']\n",
    "match.drop(columns=columns_with_logs, inplace=True)"
   ]
  },
  {
   "cell_type": "code",
   "execution_count": 24,
   "id": "421e0e6f82ff0998",
   "metadata": {
    "ExecuteTime": {
     "end_time": "2024-05-12T17:21:03.124674200Z",
     "start_time": "2024-05-12T17:21:03.063937700Z"
    }
   },
   "outputs": [
    {
     "data": {
      "text/plain": "   id  country_id  league_id     season  stage       date  match_api_id  \\\n0   1           1          1  2008/2009      1 2008-08-17        492473   \n1   2           1          1  2008/2009      1 2008-08-16        492474   \n2   3           1          1  2008/2009      1 2008-08-16        492475   \n3   4           1          1  2008/2009      1 2008-08-17        492476   \n4   5           1          1  2008/2009      1 2008-08-16        492477   \n\n   home_team_api_id  away_team_api_id  home_team_goal  ...  away_player_2  \\\n0              9987              9993               1  ...            NaN   \n1             10000              9994               0  ...            NaN   \n2              9984              8635               0  ...            NaN   \n3              9991              9998               5  ...            NaN   \n4              7947              9985               1  ...            NaN   \n\n   away_player_3  away_player_4  away_player_5  away_player_6  away_player_7  \\\n0            NaN            NaN            NaN            NaN            NaN   \n1            NaN            NaN            NaN            NaN            NaN   \n2            NaN            NaN            NaN            NaN            NaN   \n3            NaN            NaN            NaN            NaN            NaN   \n4            NaN            NaN            NaN            NaN            NaN   \n\n   away_player_8  away_player_9  away_player_10  away_player_11  \n0            NaN            NaN             NaN             NaN  \n1            NaN            NaN             NaN             NaN  \n2            NaN            NaN             NaN             NaN  \n3            NaN            NaN             NaN             NaN  \n4            NaN            NaN             NaN             NaN  \n\n[5 rows x 33 columns]",
      "text/html": "<div>\n<style scoped>\n    .dataframe tbody tr th:only-of-type {\n        vertical-align: middle;\n    }\n\n    .dataframe tbody tr th {\n        vertical-align: top;\n    }\n\n    .dataframe thead th {\n        text-align: right;\n    }\n</style>\n<table border=\"1\" class=\"dataframe\">\n  <thead>\n    <tr style=\"text-align: right;\">\n      <th></th>\n      <th>id</th>\n      <th>country_id</th>\n      <th>league_id</th>\n      <th>season</th>\n      <th>stage</th>\n      <th>date</th>\n      <th>match_api_id</th>\n      <th>home_team_api_id</th>\n      <th>away_team_api_id</th>\n      <th>home_team_goal</th>\n      <th>...</th>\n      <th>away_player_2</th>\n      <th>away_player_3</th>\n      <th>away_player_4</th>\n      <th>away_player_5</th>\n      <th>away_player_6</th>\n      <th>away_player_7</th>\n      <th>away_player_8</th>\n      <th>away_player_9</th>\n      <th>away_player_10</th>\n      <th>away_player_11</th>\n    </tr>\n  </thead>\n  <tbody>\n    <tr>\n      <th>0</th>\n      <td>1</td>\n      <td>1</td>\n      <td>1</td>\n      <td>2008/2009</td>\n      <td>1</td>\n      <td>2008-08-17</td>\n      <td>492473</td>\n      <td>9987</td>\n      <td>9993</td>\n      <td>1</td>\n      <td>...</td>\n      <td>NaN</td>\n      <td>NaN</td>\n      <td>NaN</td>\n      <td>NaN</td>\n      <td>NaN</td>\n      <td>NaN</td>\n      <td>NaN</td>\n      <td>NaN</td>\n      <td>NaN</td>\n      <td>NaN</td>\n    </tr>\n    <tr>\n      <th>1</th>\n      <td>2</td>\n      <td>1</td>\n      <td>1</td>\n      <td>2008/2009</td>\n      <td>1</td>\n      <td>2008-08-16</td>\n      <td>492474</td>\n      <td>10000</td>\n      <td>9994</td>\n      <td>0</td>\n      <td>...</td>\n      <td>NaN</td>\n      <td>NaN</td>\n      <td>NaN</td>\n      <td>NaN</td>\n      <td>NaN</td>\n      <td>NaN</td>\n      <td>NaN</td>\n      <td>NaN</td>\n      <td>NaN</td>\n      <td>NaN</td>\n    </tr>\n    <tr>\n      <th>2</th>\n      <td>3</td>\n      <td>1</td>\n      <td>1</td>\n      <td>2008/2009</td>\n      <td>1</td>\n      <td>2008-08-16</td>\n      <td>492475</td>\n      <td>9984</td>\n      <td>8635</td>\n      <td>0</td>\n      <td>...</td>\n      <td>NaN</td>\n      <td>NaN</td>\n      <td>NaN</td>\n      <td>NaN</td>\n      <td>NaN</td>\n      <td>NaN</td>\n      <td>NaN</td>\n      <td>NaN</td>\n      <td>NaN</td>\n      <td>NaN</td>\n    </tr>\n    <tr>\n      <th>3</th>\n      <td>4</td>\n      <td>1</td>\n      <td>1</td>\n      <td>2008/2009</td>\n      <td>1</td>\n      <td>2008-08-17</td>\n      <td>492476</td>\n      <td>9991</td>\n      <td>9998</td>\n      <td>5</td>\n      <td>...</td>\n      <td>NaN</td>\n      <td>NaN</td>\n      <td>NaN</td>\n      <td>NaN</td>\n      <td>NaN</td>\n      <td>NaN</td>\n      <td>NaN</td>\n      <td>NaN</td>\n      <td>NaN</td>\n      <td>NaN</td>\n    </tr>\n    <tr>\n      <th>4</th>\n      <td>5</td>\n      <td>1</td>\n      <td>1</td>\n      <td>2008/2009</td>\n      <td>1</td>\n      <td>2008-08-16</td>\n      <td>492477</td>\n      <td>7947</td>\n      <td>9985</td>\n      <td>1</td>\n      <td>...</td>\n      <td>NaN</td>\n      <td>NaN</td>\n      <td>NaN</td>\n      <td>NaN</td>\n      <td>NaN</td>\n      <td>NaN</td>\n      <td>NaN</td>\n      <td>NaN</td>\n      <td>NaN</td>\n      <td>NaN</td>\n    </tr>\n  </tbody>\n</table>\n<p>5 rows × 33 columns</p>\n</div>"
     },
     "execution_count": 24,
     "metadata": {},
     "output_type": "execute_result"
    }
   ],
   "source": [
    "match.head()"
   ]
  },
  {
   "cell_type": "code",
   "execution_count": 25,
   "id": "116d32803d616f7a",
   "metadata": {
    "ExecuteTime": {
     "end_time": "2024-05-12T17:21:03.142625700Z",
     "start_time": "2024-05-12T17:21:03.079091500Z"
    }
   },
   "outputs": [
    {
     "data": {
      "text/plain": "id                     0\ncountry_id             0\nleague_id              0\nseason                 0\nstage                  0\ndate                   0\nmatch_api_id           0\nhome_team_api_id       0\naway_team_api_id       0\nhome_team_goal         0\naway_team_goal         0\nhome_player_1       1224\nhome_player_2       1315\nhome_player_3       1281\nhome_player_4       1323\nhome_player_5       1316\nhome_player_6       1325\nhome_player_7       1227\nhome_player_8       1309\nhome_player_9       1273\nhome_player_10      1436\nhome_player_11      1555\naway_player_1       1234\naway_player_2       1278\naway_player_3       1293\naway_player_4       1321\naway_player_5       1335\naway_player_6       1313\naway_player_7       1235\naway_player_8       1341\naway_player_9       1328\naway_player_10      1441\naway_player_11      1554\ndtype: int64"
     },
     "execution_count": 25,
     "metadata": {},
     "output_type": "execute_result"
    }
   ],
   "source": [
    "match.isna().sum()"
   ]
  },
  {
   "cell_type": "markdown",
   "id": "1a69a242e4ec3c3a",
   "metadata": {},
   "source": [
    "удалим сразу все матчи в которых нам неизмевстны игроки"
   ]
  },
  {
   "cell_type": "code",
   "execution_count": 26,
   "id": "393993259e383184",
   "metadata": {
    "ExecuteTime": {
     "end_time": "2024-05-12T17:21:03.264951600Z",
     "start_time": "2024-05-12T17:21:03.095720600Z"
    }
   },
   "outputs": [],
   "source": [
    "for i in range(1, 12):\n",
    "    match.dropna(subset=[f'home_player_{i}', f'away_player_{i}'], inplace=True)\n",
    "match['date'] = pd.to_datetime(match['date'])"
   ]
  },
  {
   "cell_type": "code",
   "execution_count": 27,
   "id": "78ec2aa71ff2c72e",
   "metadata": {
    "ExecuteTime": {
     "end_time": "2024-05-12T17:21:03.293819500Z",
     "start_time": "2024-05-12T17:21:03.160633Z"
    }
   },
   "outputs": [
    {
     "data": {
      "text/plain": "0"
     },
     "execution_count": 27,
     "metadata": {},
     "output_type": "execute_result"
    }
   ],
   "source": [
    "match.isna().sum().sum()"
   ]
  },
  {
   "cell_type": "markdown",
   "id": "1c5b7e916b4194dd",
   "metadata": {},
   "source": [
    "больше пропущенных даненых нет пока оставим так пощзже вернемся"
   ]
  },
  {
   "cell_type": "code",
   "execution_count": 28,
   "id": "dc7448844b0c0228",
   "metadata": {
    "ExecuteTime": {
     "end_time": "2024-05-12T17:21:03.305281400Z",
     "start_time": "2024-05-12T17:21:03.171835200Z"
    }
   },
   "outputs": [
    {
     "data": {
      "text/plain": "      id  country_id  league_id     season  stage       date  match_api_id  \\\n145  146           1          1  2008/2009     24 2009-02-27        493017   \n153  154           1          1  2008/2009     25 2009-03-08        493025   \n155  156           1          1  2008/2009     25 2009-03-07        493027   \n162  163           1          1  2008/2009     26 2009-03-13        493034   \n168  169           1          1  2008/2009     26 2009-03-14        493040   \n\n     home_team_api_id  away_team_api_id  home_team_goal  ...  away_player_2  \\\n145              8203              9987               2  ...        38293.0   \n153              9984              8342               1  ...        21812.0   \n155              8635             10000               2  ...        37886.0   \n162              8203              8635               2  ...        38388.0   \n168             10000              9999               0  ...        38247.0   \n\n     away_player_3  away_player_4  away_player_5  away_player_6  \\\n145       148313.0       104411.0       148314.0        37202.0   \n153        11736.0        37858.0        38366.0        37983.0   \n155        37903.0        37889.0        94030.0        37893.0   \n162        38389.0        31316.0       164694.0        30949.0   \n168        16387.0        94288.0        94284.0        45832.0   \n\n     away_player_7  away_player_8  away_player_9  away_player_10  \\\n145        43158.0         9307.0        42153.0         32690.0   \n153        39578.0        38336.0        52280.0         27423.0   \n155        37981.0       131531.0       130027.0         38231.0   \n162        38378.0        38383.0        38393.0         38253.0   \n168        26669.0        33671.0       163670.0         37945.0   \n\n     away_player_11  \n145         38782.0  \n153         38440.0  \n155        131530.0  \n162         37069.0  \n168         33622.0  \n\n[5 rows x 33 columns]",
      "text/html": "<div>\n<style scoped>\n    .dataframe tbody tr th:only-of-type {\n        vertical-align: middle;\n    }\n\n    .dataframe tbody tr th {\n        vertical-align: top;\n    }\n\n    .dataframe thead th {\n        text-align: right;\n    }\n</style>\n<table border=\"1\" class=\"dataframe\">\n  <thead>\n    <tr style=\"text-align: right;\">\n      <th></th>\n      <th>id</th>\n      <th>country_id</th>\n      <th>league_id</th>\n      <th>season</th>\n      <th>stage</th>\n      <th>date</th>\n      <th>match_api_id</th>\n      <th>home_team_api_id</th>\n      <th>away_team_api_id</th>\n      <th>home_team_goal</th>\n      <th>...</th>\n      <th>away_player_2</th>\n      <th>away_player_3</th>\n      <th>away_player_4</th>\n      <th>away_player_5</th>\n      <th>away_player_6</th>\n      <th>away_player_7</th>\n      <th>away_player_8</th>\n      <th>away_player_9</th>\n      <th>away_player_10</th>\n      <th>away_player_11</th>\n    </tr>\n  </thead>\n  <tbody>\n    <tr>\n      <th>145</th>\n      <td>146</td>\n      <td>1</td>\n      <td>1</td>\n      <td>2008/2009</td>\n      <td>24</td>\n      <td>2009-02-27</td>\n      <td>493017</td>\n      <td>8203</td>\n      <td>9987</td>\n      <td>2</td>\n      <td>...</td>\n      <td>38293.0</td>\n      <td>148313.0</td>\n      <td>104411.0</td>\n      <td>148314.0</td>\n      <td>37202.0</td>\n      <td>43158.0</td>\n      <td>9307.0</td>\n      <td>42153.0</td>\n      <td>32690.0</td>\n      <td>38782.0</td>\n    </tr>\n    <tr>\n      <th>153</th>\n      <td>154</td>\n      <td>1</td>\n      <td>1</td>\n      <td>2008/2009</td>\n      <td>25</td>\n      <td>2009-03-08</td>\n      <td>493025</td>\n      <td>9984</td>\n      <td>8342</td>\n      <td>1</td>\n      <td>...</td>\n      <td>21812.0</td>\n      <td>11736.0</td>\n      <td>37858.0</td>\n      <td>38366.0</td>\n      <td>37983.0</td>\n      <td>39578.0</td>\n      <td>38336.0</td>\n      <td>52280.0</td>\n      <td>27423.0</td>\n      <td>38440.0</td>\n    </tr>\n    <tr>\n      <th>155</th>\n      <td>156</td>\n      <td>1</td>\n      <td>1</td>\n      <td>2008/2009</td>\n      <td>25</td>\n      <td>2009-03-07</td>\n      <td>493027</td>\n      <td>8635</td>\n      <td>10000</td>\n      <td>2</td>\n      <td>...</td>\n      <td>37886.0</td>\n      <td>37903.0</td>\n      <td>37889.0</td>\n      <td>94030.0</td>\n      <td>37893.0</td>\n      <td>37981.0</td>\n      <td>131531.0</td>\n      <td>130027.0</td>\n      <td>38231.0</td>\n      <td>131530.0</td>\n    </tr>\n    <tr>\n      <th>162</th>\n      <td>163</td>\n      <td>1</td>\n      <td>1</td>\n      <td>2008/2009</td>\n      <td>26</td>\n      <td>2009-03-13</td>\n      <td>493034</td>\n      <td>8203</td>\n      <td>8635</td>\n      <td>2</td>\n      <td>...</td>\n      <td>38388.0</td>\n      <td>38389.0</td>\n      <td>31316.0</td>\n      <td>164694.0</td>\n      <td>30949.0</td>\n      <td>38378.0</td>\n      <td>38383.0</td>\n      <td>38393.0</td>\n      <td>38253.0</td>\n      <td>37069.0</td>\n    </tr>\n    <tr>\n      <th>168</th>\n      <td>169</td>\n      <td>1</td>\n      <td>1</td>\n      <td>2008/2009</td>\n      <td>26</td>\n      <td>2009-03-14</td>\n      <td>493040</td>\n      <td>10000</td>\n      <td>9999</td>\n      <td>0</td>\n      <td>...</td>\n      <td>38247.0</td>\n      <td>16387.0</td>\n      <td>94288.0</td>\n      <td>94284.0</td>\n      <td>45832.0</td>\n      <td>26669.0</td>\n      <td>33671.0</td>\n      <td>163670.0</td>\n      <td>37945.0</td>\n      <td>33622.0</td>\n    </tr>\n  </tbody>\n</table>\n<p>5 rows × 33 columns</p>\n</div>"
     },
     "execution_count": 28,
     "metadata": {},
     "output_type": "execute_result"
    }
   ],
   "source": [
    "match.head()"
   ]
  },
  {
   "cell_type": "markdown",
   "id": "812defdeb19063bb",
   "metadata": {},
   "source": [
    "чекнем лиги"
   ]
  },
  {
   "cell_type": "code",
   "execution_count": 29,
   "id": "ac15ac1f0dbeb95d",
   "metadata": {
    "ExecuteTime": {
     "end_time": "2024-05-12T17:21:03.406211600Z",
     "start_time": "2024-05-12T17:21:03.187351Z"
    }
   },
   "outputs": [
    {
     "data": {
      "text/plain": "       id  country_id                      name\n0       1           1    Belgium Jupiler League\n1    1729        1729    England Premier League\n2    4769        4769            France Ligue 1\n3    7809        7809     Germany 1. Bundesliga\n4   10257       10257             Italy Serie A\n5   13274       13274    Netherlands Eredivisie\n6   15722       15722        Poland Ekstraklasa\n7   17642       17642  Portugal Liga ZON Sagres\n8   19694       19694   Scotland Premier League\n9   21518       21518           Spain LIGA BBVA\n10  24558       24558  Switzerland Super League",
      "text/html": "<div>\n<style scoped>\n    .dataframe tbody tr th:only-of-type {\n        vertical-align: middle;\n    }\n\n    .dataframe tbody tr th {\n        vertical-align: top;\n    }\n\n    .dataframe thead th {\n        text-align: right;\n    }\n</style>\n<table border=\"1\" class=\"dataframe\">\n  <thead>\n    <tr style=\"text-align: right;\">\n      <th></th>\n      <th>id</th>\n      <th>country_id</th>\n      <th>name</th>\n    </tr>\n  </thead>\n  <tbody>\n    <tr>\n      <th>0</th>\n      <td>1</td>\n      <td>1</td>\n      <td>Belgium Jupiler League</td>\n    </tr>\n    <tr>\n      <th>1</th>\n      <td>1729</td>\n      <td>1729</td>\n      <td>England Premier League</td>\n    </tr>\n    <tr>\n      <th>2</th>\n      <td>4769</td>\n      <td>4769</td>\n      <td>France Ligue 1</td>\n    </tr>\n    <tr>\n      <th>3</th>\n      <td>7809</td>\n      <td>7809</td>\n      <td>Germany 1. Bundesliga</td>\n    </tr>\n    <tr>\n      <th>4</th>\n      <td>10257</td>\n      <td>10257</td>\n      <td>Italy Serie A</td>\n    </tr>\n    <tr>\n      <th>5</th>\n      <td>13274</td>\n      <td>13274</td>\n      <td>Netherlands Eredivisie</td>\n    </tr>\n    <tr>\n      <th>6</th>\n      <td>15722</td>\n      <td>15722</td>\n      <td>Poland Ekstraklasa</td>\n    </tr>\n    <tr>\n      <th>7</th>\n      <td>17642</td>\n      <td>17642</td>\n      <td>Portugal Liga ZON Sagres</td>\n    </tr>\n    <tr>\n      <th>8</th>\n      <td>19694</td>\n      <td>19694</td>\n      <td>Scotland Premier League</td>\n    </tr>\n    <tr>\n      <th>9</th>\n      <td>21518</td>\n      <td>21518</td>\n      <td>Spain LIGA BBVA</td>\n    </tr>\n    <tr>\n      <th>10</th>\n      <td>24558</td>\n      <td>24558</td>\n      <td>Switzerland Super League</td>\n    </tr>\n  </tbody>\n</table>\n</div>"
     },
     "execution_count": 29,
     "metadata": {},
     "output_type": "execute_result"
    }
   ],
   "source": [
    "league = pd.read_sql('SELECT * FROM League', conn)\n",
    "league"
   ]
  },
  {
   "cell_type": "markdown",
   "id": "94091ee9390a8300",
   "metadata": {},
   "source": [
    "заменим индекс лиги на ее название хули нам"
   ]
  },
  {
   "cell_type": "code",
   "execution_count": 30,
   "id": "873257d933990e12",
   "metadata": {
    "ExecuteTime": {
     "end_time": "2024-05-12T17:21:03.435699300Z",
     "start_time": "2024-05-12T17:21:03.196791100Z"
    }
   },
   "outputs": [],
   "source": [
    "league.rename(columns={'id': 'league_id', 'name': 'league_name'}, inplace=True)\n",
    "match = pd.merge(match, league, on='league_id', how='right')\n",
    "\n",
    "match.drop(['league_id', 'country_id_y', 'country_id_x'], axis=1, inplace=True)"
   ]
  },
  {
   "cell_type": "code",
   "execution_count": 31,
   "id": "fc97a50506fa1423",
   "metadata": {
    "ExecuteTime": {
     "end_time": "2024-05-12T17:21:03.458726900Z",
     "start_time": "2024-05-12T17:21:03.224142400Z"
    }
   },
   "outputs": [
    {
     "data": {
      "text/plain": "    id     season  stage       date  match_api_id  home_team_api_id  \\\n0  146  2008/2009     24 2009-02-27        493017              8203   \n1  154  2008/2009     25 2009-03-08        493025              9984   \n2  156  2008/2009     25 2009-03-07        493027              8635   \n3  163  2008/2009     26 2009-03-13        493034              8203   \n4  169  2008/2009     26 2009-03-14        493040             10000   \n\n   away_team_api_id  home_team_goal  away_team_goal  home_player_1  ...  \\\n0              9987               2               1        38327.0  ...   \n1              8342               1               3        36835.0  ...   \n2             10000               2               0        34480.0  ...   \n3              8635               2               1        38327.0  ...   \n4              9999               0               0        37900.0  ...   \n\n   away_player_3  away_player_4  away_player_5  away_player_6  away_player_7  \\\n0       148313.0       104411.0       148314.0        37202.0        43158.0   \n1        11736.0        37858.0        38366.0        37983.0        39578.0   \n2        37903.0        37889.0        94030.0        37893.0        37981.0   \n3        38389.0        31316.0       164694.0        30949.0        38378.0   \n4        16387.0        94288.0        94284.0        45832.0        26669.0   \n\n   away_player_8  away_player_9  away_player_10  away_player_11  \\\n0         9307.0        42153.0         32690.0         38782.0   \n1        38336.0        52280.0         27423.0         38440.0   \n2       131531.0       130027.0         38231.0        131530.0   \n3        38383.0        38393.0         38253.0         37069.0   \n4        33671.0       163670.0         37945.0         33622.0   \n\n              league_name  \n0  Belgium Jupiler League  \n1  Belgium Jupiler League  \n2  Belgium Jupiler League  \n3  Belgium Jupiler League  \n4  Belgium Jupiler League  \n\n[5 rows x 32 columns]",
      "text/html": "<div>\n<style scoped>\n    .dataframe tbody tr th:only-of-type {\n        vertical-align: middle;\n    }\n\n    .dataframe tbody tr th {\n        vertical-align: top;\n    }\n\n    .dataframe thead th {\n        text-align: right;\n    }\n</style>\n<table border=\"1\" class=\"dataframe\">\n  <thead>\n    <tr style=\"text-align: right;\">\n      <th></th>\n      <th>id</th>\n      <th>season</th>\n      <th>stage</th>\n      <th>date</th>\n      <th>match_api_id</th>\n      <th>home_team_api_id</th>\n      <th>away_team_api_id</th>\n      <th>home_team_goal</th>\n      <th>away_team_goal</th>\n      <th>home_player_1</th>\n      <th>...</th>\n      <th>away_player_3</th>\n      <th>away_player_4</th>\n      <th>away_player_5</th>\n      <th>away_player_6</th>\n      <th>away_player_7</th>\n      <th>away_player_8</th>\n      <th>away_player_9</th>\n      <th>away_player_10</th>\n      <th>away_player_11</th>\n      <th>league_name</th>\n    </tr>\n  </thead>\n  <tbody>\n    <tr>\n      <th>0</th>\n      <td>146</td>\n      <td>2008/2009</td>\n      <td>24</td>\n      <td>2009-02-27</td>\n      <td>493017</td>\n      <td>8203</td>\n      <td>9987</td>\n      <td>2</td>\n      <td>1</td>\n      <td>38327.0</td>\n      <td>...</td>\n      <td>148313.0</td>\n      <td>104411.0</td>\n      <td>148314.0</td>\n      <td>37202.0</td>\n      <td>43158.0</td>\n      <td>9307.0</td>\n      <td>42153.0</td>\n      <td>32690.0</td>\n      <td>38782.0</td>\n      <td>Belgium Jupiler League</td>\n    </tr>\n    <tr>\n      <th>1</th>\n      <td>154</td>\n      <td>2008/2009</td>\n      <td>25</td>\n      <td>2009-03-08</td>\n      <td>493025</td>\n      <td>9984</td>\n      <td>8342</td>\n      <td>1</td>\n      <td>3</td>\n      <td>36835.0</td>\n      <td>...</td>\n      <td>11736.0</td>\n      <td>37858.0</td>\n      <td>38366.0</td>\n      <td>37983.0</td>\n      <td>39578.0</td>\n      <td>38336.0</td>\n      <td>52280.0</td>\n      <td>27423.0</td>\n      <td>38440.0</td>\n      <td>Belgium Jupiler League</td>\n    </tr>\n    <tr>\n      <th>2</th>\n      <td>156</td>\n      <td>2008/2009</td>\n      <td>25</td>\n      <td>2009-03-07</td>\n      <td>493027</td>\n      <td>8635</td>\n      <td>10000</td>\n      <td>2</td>\n      <td>0</td>\n      <td>34480.0</td>\n      <td>...</td>\n      <td>37903.0</td>\n      <td>37889.0</td>\n      <td>94030.0</td>\n      <td>37893.0</td>\n      <td>37981.0</td>\n      <td>131531.0</td>\n      <td>130027.0</td>\n      <td>38231.0</td>\n      <td>131530.0</td>\n      <td>Belgium Jupiler League</td>\n    </tr>\n    <tr>\n      <th>3</th>\n      <td>163</td>\n      <td>2008/2009</td>\n      <td>26</td>\n      <td>2009-03-13</td>\n      <td>493034</td>\n      <td>8203</td>\n      <td>8635</td>\n      <td>2</td>\n      <td>1</td>\n      <td>38327.0</td>\n      <td>...</td>\n      <td>38389.0</td>\n      <td>31316.0</td>\n      <td>164694.0</td>\n      <td>30949.0</td>\n      <td>38378.0</td>\n      <td>38383.0</td>\n      <td>38393.0</td>\n      <td>38253.0</td>\n      <td>37069.0</td>\n      <td>Belgium Jupiler League</td>\n    </tr>\n    <tr>\n      <th>4</th>\n      <td>169</td>\n      <td>2008/2009</td>\n      <td>26</td>\n      <td>2009-03-14</td>\n      <td>493040</td>\n      <td>10000</td>\n      <td>9999</td>\n      <td>0</td>\n      <td>0</td>\n      <td>37900.0</td>\n      <td>...</td>\n      <td>16387.0</td>\n      <td>94288.0</td>\n      <td>94284.0</td>\n      <td>45832.0</td>\n      <td>26669.0</td>\n      <td>33671.0</td>\n      <td>163670.0</td>\n      <td>37945.0</td>\n      <td>33622.0</td>\n      <td>Belgium Jupiler League</td>\n    </tr>\n  </tbody>\n</table>\n<p>5 rows × 32 columns</p>\n</div>"
     },
     "execution_count": 31,
     "metadata": {},
     "output_type": "execute_result"
    }
   ],
   "source": [
    "match.head()"
   ]
  },
  {
   "cell_type": "markdown",
   "id": "849f271949088dd6",
   "metadata": {},
   "source": [
    "теперь названия команд"
   ]
  },
  {
   "cell_type": "code",
   "execution_count": 32,
   "id": "1a60c3d5b8215abc",
   "metadata": {
    "ExecuteTime": {
     "end_time": "2024-05-12T17:21:03.481756500Z",
     "start_time": "2024-05-12T17:21:03.240633400Z"
    }
   },
   "outputs": [
    {
     "data": {
      "text/plain": "   id  team_api_id  team_fifa_api_id     team_long_name team_short_name\n0   1         9987             673.0           KRC Genk             GEN\n1   2         9993             675.0       Beerschot AC             BAC\n2   3        10000           15005.0   SV Zulte-Waregem             ZUL\n3   4         9994            2007.0   Sporting Lokeren             LOK\n4   5         9984            1750.0  KSV Cercle Brugge             CEB",
      "text/html": "<div>\n<style scoped>\n    .dataframe tbody tr th:only-of-type {\n        vertical-align: middle;\n    }\n\n    .dataframe tbody tr th {\n        vertical-align: top;\n    }\n\n    .dataframe thead th {\n        text-align: right;\n    }\n</style>\n<table border=\"1\" class=\"dataframe\">\n  <thead>\n    <tr style=\"text-align: right;\">\n      <th></th>\n      <th>id</th>\n      <th>team_api_id</th>\n      <th>team_fifa_api_id</th>\n      <th>team_long_name</th>\n      <th>team_short_name</th>\n    </tr>\n  </thead>\n  <tbody>\n    <tr>\n      <th>0</th>\n      <td>1</td>\n      <td>9987</td>\n      <td>673.0</td>\n      <td>KRC Genk</td>\n      <td>GEN</td>\n    </tr>\n    <tr>\n      <th>1</th>\n      <td>2</td>\n      <td>9993</td>\n      <td>675.0</td>\n      <td>Beerschot AC</td>\n      <td>BAC</td>\n    </tr>\n    <tr>\n      <th>2</th>\n      <td>3</td>\n      <td>10000</td>\n      <td>15005.0</td>\n      <td>SV Zulte-Waregem</td>\n      <td>ZUL</td>\n    </tr>\n    <tr>\n      <th>3</th>\n      <td>4</td>\n      <td>9994</td>\n      <td>2007.0</td>\n      <td>Sporting Lokeren</td>\n      <td>LOK</td>\n    </tr>\n    <tr>\n      <th>4</th>\n      <td>5</td>\n      <td>9984</td>\n      <td>1750.0</td>\n      <td>KSV Cercle Brugge</td>\n      <td>CEB</td>\n    </tr>\n  </tbody>\n</table>\n</div>"
     },
     "execution_count": 32,
     "metadata": {},
     "output_type": "execute_result"
    }
   ],
   "source": [
    "team = pd.read_sql('SELECT * FROM Team', conn)\n",
    "team.head()"
   ]
  },
  {
   "cell_type": "code",
   "execution_count": 33,
   "id": "b7504bb31bff10b3",
   "metadata": {
    "ExecuteTime": {
     "end_time": "2024-05-12T17:21:03.489731400Z",
     "start_time": "2024-05-12T17:21:03.249298200Z"
    }
   },
   "outputs": [],
   "source": [
    "team.rename(columns={'team_long_name': 'team_name'}, inplace=True)\n",
    "team.drop(['team_fifa_api_id', 'id', 'team_short_name'], axis=1, inplace=True)"
   ]
  },
  {
   "cell_type": "code",
   "execution_count": 34,
   "id": "58a967d45e3c4abe",
   "metadata": {
    "ExecuteTime": {
     "end_time": "2024-05-12T17:21:03.511672200Z",
     "start_time": "2024-05-12T17:21:03.253982800Z"
    }
   },
   "outputs": [],
   "source": [
    "match = pd.merge(match, team, left_on='home_team_api_id', right_on='team_api_id', how='left')"
   ]
  },
  {
   "cell_type": "code",
   "execution_count": 35,
   "id": "51c3a36766a61038",
   "metadata": {
    "ExecuteTime": {
     "end_time": "2024-05-12T17:21:03.552564600Z",
     "start_time": "2024-05-12T17:21:03.272892300Z"
    }
   },
   "outputs": [],
   "source": [
    "match = pd.merge(match, team, left_on='away_team_api_id', right_on='team_api_id', how='left')"
   ]
  },
  {
   "cell_type": "code",
   "execution_count": 36,
   "id": "707628cd7cb48af4",
   "metadata": {
    "ExecuteTime": {
     "end_time": "2024-05-12T17:21:03.557551200Z",
     "start_time": "2024-05-12T17:21:03.287786600Z"
    }
   },
   "outputs": [],
   "source": [
    "match.drop(['away_team_api_id', 'id', 'home_team_api_id', 'team_api_id_x', 'team_api_id_y'], axis=1, inplace=True)\n",
    "match.rename(columns={'team_name_x': 'home_team_name', 'team_name_y': 'away_team_name', }, inplace=True)"
   ]
  },
  {
   "cell_type": "code",
   "execution_count": 37,
   "id": "54f26c48d4dc10cb",
   "metadata": {
    "ExecuteTime": {
     "end_time": "2024-05-12T17:21:03.615414700Z",
     "start_time": "2024-05-12T17:21:03.294815800Z"
    }
   },
   "outputs": [],
   "source": [
    "match.insert(0, 'home_team_name', match.pop('home_team_name'))\n",
    "match.insert(0, 'away_team_name', match.pop('away_team_name'))\n",
    "match.insert(0, 'league_name', match.pop('league_name'))"
   ]
  },
  {
   "cell_type": "code",
   "execution_count": 38,
   "id": "3c5d4d0ad3cfc773",
   "metadata": {
    "ExecuteTime": {
     "end_time": "2024-05-12T17:21:03.653864600Z",
     "start_time": "2024-05-12T17:21:03.300294700Z"
    }
   },
   "outputs": [
    {
     "data": {
      "text/plain": "              league_name    away_team_name     home_team_name     season  \\\n0  Belgium Jupiler League          KRC Genk        KV Mechelen  2008/2009   \n1  Belgium Jupiler League    Club Brugge KV  KSV Cercle Brugge  2008/2009   \n2  Belgium Jupiler League  SV Zulte-Waregem     RSC Anderlecht  2008/2009   \n3  Belgium Jupiler League    RSC Anderlecht        KV Mechelen  2008/2009   \n4  Belgium Jupiler League     KSV Roeselare   SV Zulte-Waregem  2008/2009   \n\n   stage       date  match_api_id  home_team_goal  away_team_goal  \\\n0     24 2009-02-27        493017               2               1   \n1     25 2009-03-08        493025               1               3   \n2     25 2009-03-07        493027               2               0   \n3     26 2009-03-13        493034               2               1   \n4     26 2009-03-14        493040               0               0   \n\n   home_player_1  ...  away_player_2  away_player_3  away_player_4  \\\n0        38327.0  ...        38293.0       148313.0       104411.0   \n1        36835.0  ...        21812.0        11736.0        37858.0   \n2        34480.0  ...        37886.0        37903.0        37889.0   \n3        38327.0  ...        38388.0        38389.0        31316.0   \n4        37900.0  ...        38247.0        16387.0        94288.0   \n\n   away_player_5  away_player_6  away_player_7  away_player_8  away_player_9  \\\n0       148314.0        37202.0        43158.0         9307.0        42153.0   \n1        38366.0        37983.0        39578.0        38336.0        52280.0   \n2        94030.0        37893.0        37981.0       131531.0       130027.0   \n3       164694.0        30949.0        38378.0        38383.0        38393.0   \n4        94284.0        45832.0        26669.0        33671.0       163670.0   \n\n   away_player_10  away_player_11  \n0         32690.0         38782.0  \n1         27423.0         38440.0  \n2         38231.0        131530.0  \n3         38253.0         37069.0  \n4         37945.0         33622.0  \n\n[5 rows x 31 columns]",
      "text/html": "<div>\n<style scoped>\n    .dataframe tbody tr th:only-of-type {\n        vertical-align: middle;\n    }\n\n    .dataframe tbody tr th {\n        vertical-align: top;\n    }\n\n    .dataframe thead th {\n        text-align: right;\n    }\n</style>\n<table border=\"1\" class=\"dataframe\">\n  <thead>\n    <tr style=\"text-align: right;\">\n      <th></th>\n      <th>league_name</th>\n      <th>away_team_name</th>\n      <th>home_team_name</th>\n      <th>season</th>\n      <th>stage</th>\n      <th>date</th>\n      <th>match_api_id</th>\n      <th>home_team_goal</th>\n      <th>away_team_goal</th>\n      <th>home_player_1</th>\n      <th>...</th>\n      <th>away_player_2</th>\n      <th>away_player_3</th>\n      <th>away_player_4</th>\n      <th>away_player_5</th>\n      <th>away_player_6</th>\n      <th>away_player_7</th>\n      <th>away_player_8</th>\n      <th>away_player_9</th>\n      <th>away_player_10</th>\n      <th>away_player_11</th>\n    </tr>\n  </thead>\n  <tbody>\n    <tr>\n      <th>0</th>\n      <td>Belgium Jupiler League</td>\n      <td>KRC Genk</td>\n      <td>KV Mechelen</td>\n      <td>2008/2009</td>\n      <td>24</td>\n      <td>2009-02-27</td>\n      <td>493017</td>\n      <td>2</td>\n      <td>1</td>\n      <td>38327.0</td>\n      <td>...</td>\n      <td>38293.0</td>\n      <td>148313.0</td>\n      <td>104411.0</td>\n      <td>148314.0</td>\n      <td>37202.0</td>\n      <td>43158.0</td>\n      <td>9307.0</td>\n      <td>42153.0</td>\n      <td>32690.0</td>\n      <td>38782.0</td>\n    </tr>\n    <tr>\n      <th>1</th>\n      <td>Belgium Jupiler League</td>\n      <td>Club Brugge KV</td>\n      <td>KSV Cercle Brugge</td>\n      <td>2008/2009</td>\n      <td>25</td>\n      <td>2009-03-08</td>\n      <td>493025</td>\n      <td>1</td>\n      <td>3</td>\n      <td>36835.0</td>\n      <td>...</td>\n      <td>21812.0</td>\n      <td>11736.0</td>\n      <td>37858.0</td>\n      <td>38366.0</td>\n      <td>37983.0</td>\n      <td>39578.0</td>\n      <td>38336.0</td>\n      <td>52280.0</td>\n      <td>27423.0</td>\n      <td>38440.0</td>\n    </tr>\n    <tr>\n      <th>2</th>\n      <td>Belgium Jupiler League</td>\n      <td>SV Zulte-Waregem</td>\n      <td>RSC Anderlecht</td>\n      <td>2008/2009</td>\n      <td>25</td>\n      <td>2009-03-07</td>\n      <td>493027</td>\n      <td>2</td>\n      <td>0</td>\n      <td>34480.0</td>\n      <td>...</td>\n      <td>37886.0</td>\n      <td>37903.0</td>\n      <td>37889.0</td>\n      <td>94030.0</td>\n      <td>37893.0</td>\n      <td>37981.0</td>\n      <td>131531.0</td>\n      <td>130027.0</td>\n      <td>38231.0</td>\n      <td>131530.0</td>\n    </tr>\n    <tr>\n      <th>3</th>\n      <td>Belgium Jupiler League</td>\n      <td>RSC Anderlecht</td>\n      <td>KV Mechelen</td>\n      <td>2008/2009</td>\n      <td>26</td>\n      <td>2009-03-13</td>\n      <td>493034</td>\n      <td>2</td>\n      <td>1</td>\n      <td>38327.0</td>\n      <td>...</td>\n      <td>38388.0</td>\n      <td>38389.0</td>\n      <td>31316.0</td>\n      <td>164694.0</td>\n      <td>30949.0</td>\n      <td>38378.0</td>\n      <td>38383.0</td>\n      <td>38393.0</td>\n      <td>38253.0</td>\n      <td>37069.0</td>\n    </tr>\n    <tr>\n      <th>4</th>\n      <td>Belgium Jupiler League</td>\n      <td>KSV Roeselare</td>\n      <td>SV Zulte-Waregem</td>\n      <td>2008/2009</td>\n      <td>26</td>\n      <td>2009-03-14</td>\n      <td>493040</td>\n      <td>0</td>\n      <td>0</td>\n      <td>37900.0</td>\n      <td>...</td>\n      <td>38247.0</td>\n      <td>16387.0</td>\n      <td>94288.0</td>\n      <td>94284.0</td>\n      <td>45832.0</td>\n      <td>26669.0</td>\n      <td>33671.0</td>\n      <td>163670.0</td>\n      <td>37945.0</td>\n      <td>33622.0</td>\n    </tr>\n  </tbody>\n</table>\n<p>5 rows × 31 columns</p>\n</div>"
     },
     "execution_count": 38,
     "metadata": {},
     "output_type": "execute_result"
    }
   ],
   "source": [
    "match.head()"
   ]
  },
  {
   "cell_type": "markdown",
   "id": "162a8ad78fab81bd",
   "metadata": {},
   "source": [
    "че там с тим_атрибутс, спойлер там пиздец"
   ]
  },
  {
   "cell_type": "code",
   "execution_count": 39,
   "id": "81c4fc45f7a014c9",
   "metadata": {
    "ExecuteTime": {
     "end_time": "2024-05-12T17:21:03.896516700Z",
     "start_time": "2024-05-12T17:21:03.319573500Z"
    }
   },
   "outputs": [
    {
     "data": {
      "text/plain": "   id  team_fifa_api_id  team_api_id                 date  buildUpPlaySpeed  \\\n0   1               434         9930  2010-02-22 00:00:00                60   \n1   2               434         9930  2014-09-19 00:00:00                52   \n2   3               434         9930  2015-09-10 00:00:00                47   \n3   4                77         8485  2010-02-22 00:00:00                70   \n4   5                77         8485  2011-02-22 00:00:00                47   \n\n  buildUpPlaySpeedClass  buildUpPlayDribbling buildUpPlayDribblingClass  \\\n0              Balanced                   NaN                    Little   \n1              Balanced                  48.0                    Normal   \n2              Balanced                  41.0                    Normal   \n3                  Fast                   NaN                    Little   \n4              Balanced                   NaN                    Little   \n\n   buildUpPlayPassing buildUpPlayPassingClass  ... chanceCreationShooting  \\\n0                  50                   Mixed  ...                     55   \n1                  56                   Mixed  ...                     64   \n2                  54                   Mixed  ...                     64   \n3                  70                    Long  ...                     70   \n4                  52                   Mixed  ...                     52   \n\n   chanceCreationShootingClass chanceCreationPositioningClass  \\\n0                       Normal                      Organised   \n1                       Normal                      Organised   \n2                       Normal                      Organised   \n3                         Lots                      Organised   \n4                       Normal                      Organised   \n\n   defencePressure defencePressureClass  defenceAggression  \\\n0               50               Medium                 55   \n1               47               Medium                 44   \n2               47               Medium                 44   \n3               60               Medium                 70   \n4               47               Medium                 47   \n\n  defenceAggressionClass defenceTeamWidth  defenceTeamWidthClass  \\\n0                  Press               45                 Normal   \n1                  Press               54                 Normal   \n2                  Press               54                 Normal   \n3                 Double               70                   Wide   \n4                  Press               52                 Normal   \n\n  defenceDefenderLineClass  \n0                    Cover  \n1                    Cover  \n2                    Cover  \n3                    Cover  \n4                    Cover  \n\n[5 rows x 25 columns]",
      "text/html": "<div>\n<style scoped>\n    .dataframe tbody tr th:only-of-type {\n        vertical-align: middle;\n    }\n\n    .dataframe tbody tr th {\n        vertical-align: top;\n    }\n\n    .dataframe thead th {\n        text-align: right;\n    }\n</style>\n<table border=\"1\" class=\"dataframe\">\n  <thead>\n    <tr style=\"text-align: right;\">\n      <th></th>\n      <th>id</th>\n      <th>team_fifa_api_id</th>\n      <th>team_api_id</th>\n      <th>date</th>\n      <th>buildUpPlaySpeed</th>\n      <th>buildUpPlaySpeedClass</th>\n      <th>buildUpPlayDribbling</th>\n      <th>buildUpPlayDribblingClass</th>\n      <th>buildUpPlayPassing</th>\n      <th>buildUpPlayPassingClass</th>\n      <th>...</th>\n      <th>chanceCreationShooting</th>\n      <th>chanceCreationShootingClass</th>\n      <th>chanceCreationPositioningClass</th>\n      <th>defencePressure</th>\n      <th>defencePressureClass</th>\n      <th>defenceAggression</th>\n      <th>defenceAggressionClass</th>\n      <th>defenceTeamWidth</th>\n      <th>defenceTeamWidthClass</th>\n      <th>defenceDefenderLineClass</th>\n    </tr>\n  </thead>\n  <tbody>\n    <tr>\n      <th>0</th>\n      <td>1</td>\n      <td>434</td>\n      <td>9930</td>\n      <td>2010-02-22 00:00:00</td>\n      <td>60</td>\n      <td>Balanced</td>\n      <td>NaN</td>\n      <td>Little</td>\n      <td>50</td>\n      <td>Mixed</td>\n      <td>...</td>\n      <td>55</td>\n      <td>Normal</td>\n      <td>Organised</td>\n      <td>50</td>\n      <td>Medium</td>\n      <td>55</td>\n      <td>Press</td>\n      <td>45</td>\n      <td>Normal</td>\n      <td>Cover</td>\n    </tr>\n    <tr>\n      <th>1</th>\n      <td>2</td>\n      <td>434</td>\n      <td>9930</td>\n      <td>2014-09-19 00:00:00</td>\n      <td>52</td>\n      <td>Balanced</td>\n      <td>48.0</td>\n      <td>Normal</td>\n      <td>56</td>\n      <td>Mixed</td>\n      <td>...</td>\n      <td>64</td>\n      <td>Normal</td>\n      <td>Organised</td>\n      <td>47</td>\n      <td>Medium</td>\n      <td>44</td>\n      <td>Press</td>\n      <td>54</td>\n      <td>Normal</td>\n      <td>Cover</td>\n    </tr>\n    <tr>\n      <th>2</th>\n      <td>3</td>\n      <td>434</td>\n      <td>9930</td>\n      <td>2015-09-10 00:00:00</td>\n      <td>47</td>\n      <td>Balanced</td>\n      <td>41.0</td>\n      <td>Normal</td>\n      <td>54</td>\n      <td>Mixed</td>\n      <td>...</td>\n      <td>64</td>\n      <td>Normal</td>\n      <td>Organised</td>\n      <td>47</td>\n      <td>Medium</td>\n      <td>44</td>\n      <td>Press</td>\n      <td>54</td>\n      <td>Normal</td>\n      <td>Cover</td>\n    </tr>\n    <tr>\n      <th>3</th>\n      <td>4</td>\n      <td>77</td>\n      <td>8485</td>\n      <td>2010-02-22 00:00:00</td>\n      <td>70</td>\n      <td>Fast</td>\n      <td>NaN</td>\n      <td>Little</td>\n      <td>70</td>\n      <td>Long</td>\n      <td>...</td>\n      <td>70</td>\n      <td>Lots</td>\n      <td>Organised</td>\n      <td>60</td>\n      <td>Medium</td>\n      <td>70</td>\n      <td>Double</td>\n      <td>70</td>\n      <td>Wide</td>\n      <td>Cover</td>\n    </tr>\n    <tr>\n      <th>4</th>\n      <td>5</td>\n      <td>77</td>\n      <td>8485</td>\n      <td>2011-02-22 00:00:00</td>\n      <td>47</td>\n      <td>Balanced</td>\n      <td>NaN</td>\n      <td>Little</td>\n      <td>52</td>\n      <td>Mixed</td>\n      <td>...</td>\n      <td>52</td>\n      <td>Normal</td>\n      <td>Organised</td>\n      <td>47</td>\n      <td>Medium</td>\n      <td>47</td>\n      <td>Press</td>\n      <td>52</td>\n      <td>Normal</td>\n      <td>Cover</td>\n    </tr>\n  </tbody>\n</table>\n<p>5 rows × 25 columns</p>\n</div>"
     },
     "execution_count": 39,
     "metadata": {},
     "output_type": "execute_result"
    }
   ],
   "source": [
    "team_attributes = pd.read_sql('SELECT * FROM Team_Attributes', conn)\n",
    "team_attributes.head()"
   ]
  },
  {
   "cell_type": "code",
   "execution_count": 40,
   "id": "30b90a49cb54c5b5",
   "metadata": {
    "ExecuteTime": {
     "end_time": "2024-05-12T17:21:03.937913600Z",
     "start_time": "2024-05-12T17:21:03.350691200Z"
    }
   },
   "outputs": [],
   "source": [
    "team_attributes['date'] = pd.to_datetime(team_attributes['date'])"
   ]
  },
  {
   "cell_type": "markdown",
   "id": "ca269c0dba7de905",
   "metadata": {},
   "source": [
    "опять поменяем на названия, потому что я так хочу"
   ]
  },
  {
   "cell_type": "code",
   "execution_count": 41,
   "id": "b94411a1fafbe51b",
   "metadata": {
    "ExecuteTime": {
     "end_time": "2024-05-12T17:21:03.964005200Z",
     "start_time": "2024-05-12T17:21:03.355435500Z"
    }
   },
   "outputs": [],
   "source": [
    "team_attributes = pd.merge(team_attributes, team, left_on='team_api_id', right_on='team_api_id', how='left')"
   ]
  },
  {
   "cell_type": "code",
   "execution_count": 42,
   "id": "9dda93b1df1d515e",
   "metadata": {
    "ExecuteTime": {
     "end_time": "2024-05-12T17:21:03.986772Z",
     "start_time": "2024-05-12T17:21:03.365503900Z"
    }
   },
   "outputs": [],
   "source": [
    "team_attributes.drop(['team_fifa_api_id', 'id', 'team_api_id'], axis=1, inplace=True)\n",
    "\n",
    "team_attributes.insert(0, 'team_name', team_attributes.pop('team_name'))"
   ]
  },
  {
   "cell_type": "code",
   "execution_count": 43,
   "id": "e0ae418598a4d71c",
   "metadata": {
    "ExecuteTime": {
     "end_time": "2024-05-12T17:21:04.003369200Z",
     "start_time": "2024-05-12T17:21:03.372547600Z"
    }
   },
   "outputs": [
    {
     "data": {
      "text/plain": "             team_name       date  buildUpPlaySpeed buildUpPlaySpeedClass  \\\n0             FC Aarau 2010-02-22                60              Balanced   \n1             FC Aarau 2014-09-19                52              Balanced   \n2             FC Aarau 2015-09-10                47              Balanced   \n3             Aberdeen 2010-02-22                70                  Fast   \n4             Aberdeen 2011-02-22                47              Balanced   \n...                ...        ...               ...                   ...   \n1453  SV Zulte-Waregem 2011-02-22                52              Balanced   \n1454  SV Zulte-Waregem 2012-02-22                54              Balanced   \n1455  SV Zulte-Waregem 2013-09-20                54              Balanced   \n1456  SV Zulte-Waregem 2014-09-19                54              Balanced   \n1457  SV Zulte-Waregem 2015-09-10                54              Balanced   \n\n      buildUpPlayDribbling buildUpPlayDribblingClass  buildUpPlayPassing  \\\n0                      NaN                    Little                  50   \n1                     48.0                    Normal                  56   \n2                     41.0                    Normal                  54   \n3                      NaN                    Little                  70   \n4                      NaN                    Little                  52   \n...                    ...                       ...                 ...   \n1453                   NaN                    Little                  52   \n1454                   NaN                    Little                  51   \n1455                   NaN                    Little                  51   \n1456                  42.0                    Normal                  51   \n1457                  42.0                    Normal                  51   \n\n     buildUpPlayPassingClass buildUpPlayPositioningClass  \\\n0                      Mixed                   Organised   \n1                      Mixed                   Organised   \n2                      Mixed                   Organised   \n3                       Long                   Organised   \n4                      Mixed                   Organised   \n...                      ...                         ...   \n1453                   Mixed                   Organised   \n1454                   Mixed                   Organised   \n1455                   Mixed                   Organised   \n1456                   Mixed                   Organised   \n1457                   Mixed                   Organised   \n\n      chanceCreationPassing  ... chanceCreationShooting  \\\n0                        60  ...                     55   \n1                        54  ...                     64   \n2                        54  ...                     64   \n3                        70  ...                     70   \n4                        53  ...                     52   \n...                     ...  ...                    ...   \n1453                     52  ...                     53   \n1454                     47  ...                     50   \n1455                     47  ...                     32   \n1456                     47  ...                     32   \n1457                     47  ...                     32   \n\n      chanceCreationShootingClass chanceCreationPositioningClass  \\\n0                          Normal                      Organised   \n1                          Normal                      Organised   \n2                          Normal                      Organised   \n3                            Lots                      Organised   \n4                          Normal                      Organised   \n...                           ...                            ...   \n1453                       Normal                      Organised   \n1454                       Normal                      Organised   \n1455                       Little                      Organised   \n1456                       Little                      Organised   \n1457                       Little                      Organised   \n\n      defencePressure defencePressureClass defenceAggression  \\\n0                  50               Medium                55   \n1                  47               Medium                44   \n2                  47               Medium                44   \n3                  60               Medium                70   \n4                  47               Medium                47   \n...               ...                  ...               ...   \n1453               46               Medium                48   \n1454               44               Medium                55   \n1455               44               Medium                58   \n1456               44               Medium                58   \n1457               44               Medium                58   \n\n      defenceAggressionClass defenceTeamWidth  defenceTeamWidthClass  \\\n0                      Press               45                 Normal   \n1                      Press               54                 Normal   \n2                      Press               54                 Normal   \n3                     Double               70                   Wide   \n4                      Press               52                 Normal   \n...                      ...              ...                    ...   \n1453                   Press               53                 Normal   \n1454                   Press               53                 Normal   \n1455                   Press               37                 Normal   \n1456                   Press               37                 Normal   \n1457                   Press               37                 Normal   \n\n     defenceDefenderLineClass  \n0                       Cover  \n1                       Cover  \n2                       Cover  \n3                       Cover  \n4                       Cover  \n...                       ...  \n1453                    Cover  \n1454                    Cover  \n1455                    Cover  \n1456                    Cover  \n1457                    Cover  \n\n[1458 rows x 23 columns]",
      "text/html": "<div>\n<style scoped>\n    .dataframe tbody tr th:only-of-type {\n        vertical-align: middle;\n    }\n\n    .dataframe tbody tr th {\n        vertical-align: top;\n    }\n\n    .dataframe thead th {\n        text-align: right;\n    }\n</style>\n<table border=\"1\" class=\"dataframe\">\n  <thead>\n    <tr style=\"text-align: right;\">\n      <th></th>\n      <th>team_name</th>\n      <th>date</th>\n      <th>buildUpPlaySpeed</th>\n      <th>buildUpPlaySpeedClass</th>\n      <th>buildUpPlayDribbling</th>\n      <th>buildUpPlayDribblingClass</th>\n      <th>buildUpPlayPassing</th>\n      <th>buildUpPlayPassingClass</th>\n      <th>buildUpPlayPositioningClass</th>\n      <th>chanceCreationPassing</th>\n      <th>...</th>\n      <th>chanceCreationShooting</th>\n      <th>chanceCreationShootingClass</th>\n      <th>chanceCreationPositioningClass</th>\n      <th>defencePressure</th>\n      <th>defencePressureClass</th>\n      <th>defenceAggression</th>\n      <th>defenceAggressionClass</th>\n      <th>defenceTeamWidth</th>\n      <th>defenceTeamWidthClass</th>\n      <th>defenceDefenderLineClass</th>\n    </tr>\n  </thead>\n  <tbody>\n    <tr>\n      <th>0</th>\n      <td>FC Aarau</td>\n      <td>2010-02-22</td>\n      <td>60</td>\n      <td>Balanced</td>\n      <td>NaN</td>\n      <td>Little</td>\n      <td>50</td>\n      <td>Mixed</td>\n      <td>Organised</td>\n      <td>60</td>\n      <td>...</td>\n      <td>55</td>\n      <td>Normal</td>\n      <td>Organised</td>\n      <td>50</td>\n      <td>Medium</td>\n      <td>55</td>\n      <td>Press</td>\n      <td>45</td>\n      <td>Normal</td>\n      <td>Cover</td>\n    </tr>\n    <tr>\n      <th>1</th>\n      <td>FC Aarau</td>\n      <td>2014-09-19</td>\n      <td>52</td>\n      <td>Balanced</td>\n      <td>48.0</td>\n      <td>Normal</td>\n      <td>56</td>\n      <td>Mixed</td>\n      <td>Organised</td>\n      <td>54</td>\n      <td>...</td>\n      <td>64</td>\n      <td>Normal</td>\n      <td>Organised</td>\n      <td>47</td>\n      <td>Medium</td>\n      <td>44</td>\n      <td>Press</td>\n      <td>54</td>\n      <td>Normal</td>\n      <td>Cover</td>\n    </tr>\n    <tr>\n      <th>2</th>\n      <td>FC Aarau</td>\n      <td>2015-09-10</td>\n      <td>47</td>\n      <td>Balanced</td>\n      <td>41.0</td>\n      <td>Normal</td>\n      <td>54</td>\n      <td>Mixed</td>\n      <td>Organised</td>\n      <td>54</td>\n      <td>...</td>\n      <td>64</td>\n      <td>Normal</td>\n      <td>Organised</td>\n      <td>47</td>\n      <td>Medium</td>\n      <td>44</td>\n      <td>Press</td>\n      <td>54</td>\n      <td>Normal</td>\n      <td>Cover</td>\n    </tr>\n    <tr>\n      <th>3</th>\n      <td>Aberdeen</td>\n      <td>2010-02-22</td>\n      <td>70</td>\n      <td>Fast</td>\n      <td>NaN</td>\n      <td>Little</td>\n      <td>70</td>\n      <td>Long</td>\n      <td>Organised</td>\n      <td>70</td>\n      <td>...</td>\n      <td>70</td>\n      <td>Lots</td>\n      <td>Organised</td>\n      <td>60</td>\n      <td>Medium</td>\n      <td>70</td>\n      <td>Double</td>\n      <td>70</td>\n      <td>Wide</td>\n      <td>Cover</td>\n    </tr>\n    <tr>\n      <th>4</th>\n      <td>Aberdeen</td>\n      <td>2011-02-22</td>\n      <td>47</td>\n      <td>Balanced</td>\n      <td>NaN</td>\n      <td>Little</td>\n      <td>52</td>\n      <td>Mixed</td>\n      <td>Organised</td>\n      <td>53</td>\n      <td>...</td>\n      <td>52</td>\n      <td>Normal</td>\n      <td>Organised</td>\n      <td>47</td>\n      <td>Medium</td>\n      <td>47</td>\n      <td>Press</td>\n      <td>52</td>\n      <td>Normal</td>\n      <td>Cover</td>\n    </tr>\n    <tr>\n      <th>...</th>\n      <td>...</td>\n      <td>...</td>\n      <td>...</td>\n      <td>...</td>\n      <td>...</td>\n      <td>...</td>\n      <td>...</td>\n      <td>...</td>\n      <td>...</td>\n      <td>...</td>\n      <td>...</td>\n      <td>...</td>\n      <td>...</td>\n      <td>...</td>\n      <td>...</td>\n      <td>...</td>\n      <td>...</td>\n      <td>...</td>\n      <td>...</td>\n      <td>...</td>\n      <td>...</td>\n    </tr>\n    <tr>\n      <th>1453</th>\n      <td>SV Zulte-Waregem</td>\n      <td>2011-02-22</td>\n      <td>52</td>\n      <td>Balanced</td>\n      <td>NaN</td>\n      <td>Little</td>\n      <td>52</td>\n      <td>Mixed</td>\n      <td>Organised</td>\n      <td>52</td>\n      <td>...</td>\n      <td>53</td>\n      <td>Normal</td>\n      <td>Organised</td>\n      <td>46</td>\n      <td>Medium</td>\n      <td>48</td>\n      <td>Press</td>\n      <td>53</td>\n      <td>Normal</td>\n      <td>Cover</td>\n    </tr>\n    <tr>\n      <th>1454</th>\n      <td>SV Zulte-Waregem</td>\n      <td>2012-02-22</td>\n      <td>54</td>\n      <td>Balanced</td>\n      <td>NaN</td>\n      <td>Little</td>\n      <td>51</td>\n      <td>Mixed</td>\n      <td>Organised</td>\n      <td>47</td>\n      <td>...</td>\n      <td>50</td>\n      <td>Normal</td>\n      <td>Organised</td>\n      <td>44</td>\n      <td>Medium</td>\n      <td>55</td>\n      <td>Press</td>\n      <td>53</td>\n      <td>Normal</td>\n      <td>Cover</td>\n    </tr>\n    <tr>\n      <th>1455</th>\n      <td>SV Zulte-Waregem</td>\n      <td>2013-09-20</td>\n      <td>54</td>\n      <td>Balanced</td>\n      <td>NaN</td>\n      <td>Little</td>\n      <td>51</td>\n      <td>Mixed</td>\n      <td>Organised</td>\n      <td>47</td>\n      <td>...</td>\n      <td>32</td>\n      <td>Little</td>\n      <td>Organised</td>\n      <td>44</td>\n      <td>Medium</td>\n      <td>58</td>\n      <td>Press</td>\n      <td>37</td>\n      <td>Normal</td>\n      <td>Cover</td>\n    </tr>\n    <tr>\n      <th>1456</th>\n      <td>SV Zulte-Waregem</td>\n      <td>2014-09-19</td>\n      <td>54</td>\n      <td>Balanced</td>\n      <td>42.0</td>\n      <td>Normal</td>\n      <td>51</td>\n      <td>Mixed</td>\n      <td>Organised</td>\n      <td>47</td>\n      <td>...</td>\n      <td>32</td>\n      <td>Little</td>\n      <td>Organised</td>\n      <td>44</td>\n      <td>Medium</td>\n      <td>58</td>\n      <td>Press</td>\n      <td>37</td>\n      <td>Normal</td>\n      <td>Cover</td>\n    </tr>\n    <tr>\n      <th>1457</th>\n      <td>SV Zulte-Waregem</td>\n      <td>2015-09-10</td>\n      <td>54</td>\n      <td>Balanced</td>\n      <td>42.0</td>\n      <td>Normal</td>\n      <td>51</td>\n      <td>Mixed</td>\n      <td>Organised</td>\n      <td>47</td>\n      <td>...</td>\n      <td>32</td>\n      <td>Little</td>\n      <td>Organised</td>\n      <td>44</td>\n      <td>Medium</td>\n      <td>58</td>\n      <td>Press</td>\n      <td>37</td>\n      <td>Normal</td>\n      <td>Cover</td>\n    </tr>\n  </tbody>\n</table>\n<p>1458 rows × 23 columns</p>\n</div>"
     },
     "execution_count": 43,
     "metadata": {},
     "output_type": "execute_result"
    }
   ],
   "source": [
    "team_attributes"
   ]
  },
  {
   "cell_type": "markdown",
   "id": "255e0984cc4ac034",
   "metadata": {},
   "source": [
    "тут жесктий пиздешь про каждую колонку в сете и что мы с ними будем делать зачем почему сам понимаешь "
   ]
  },
  {
   "cell_type": "code",
   "execution_count": 44,
   "id": "69dbec9f4472951d",
   "metadata": {
    "ExecuteTime": {
     "end_time": "2024-05-12T17:21:04.009351200Z",
     "start_time": "2024-05-12T17:21:03.395655Z"
    }
   },
   "outputs": [
    {
     "data": {
      "text/plain": "Balanced    1184\nFast         172\nSlow         102\nName: buildUpPlaySpeedClass, dtype: int64"
     },
     "execution_count": 44,
     "metadata": {},
     "output_type": "execute_result"
    }
   ],
   "source": [
    "team_attributes['buildUpPlaySpeedClass'].value_counts()"
   ]
  },
  {
   "cell_type": "markdown",
   "id": "bcf30b5ae07fae12",
   "metadata": {},
   "source": [
    "где то тут я пон, что все колонки оканчивающиеся на Class, напрямую зависят от интовых колонок, как правило меньше 33 - то слоу, больше баласед, больше 67 фаст, лотс и тд, так что все это можно опустить. Вопрос остается только с колонкой buildUpPlayDribbling ее видимо не было в фифе до 14го года и поэтому инфы оп ней нет, тут два стула, либо убарть ее, либо убрать все матчи до 14го года, надо решать че то придумывать подсказывайте епта."
   ]
  },
  {
   "cell_type": "markdown",
   "id": "9df81a0ab22dcf2a",
   "metadata": {},
   "source": [
    "вообще в теории может поулчистя так, что работать именно с классами а не числами будет лучше для модели, но это если хуевый скор будет, то перепроверим"
   ]
  },
  {
   "cell_type": "code",
   "execution_count": 45,
   "id": "9a89cb5a13841a40",
   "metadata": {
    "ExecuteTime": {
     "end_time": "2024-05-12T17:21:04.061214200Z",
     "start_time": "2024-05-12T17:21:03.401773600Z"
    }
   },
   "outputs": [],
   "source": [
    "team_attributes.drop('buildUpPlaySpeedClass', axis=1, inplace=True)"
   ]
  },
  {
   "cell_type": "markdown",
   "id": "7f467a335de0a91c",
   "metadata": {},
   "source": [
    "тут видим дохуя пропусков в столбце с дриблингом, поэтому я принял решение его просто дропнуть, нытье про версии фиффы\n"
   ]
  },
  {
   "cell_type": "code",
   "execution_count": 46,
   "id": "9c28a0eb86f6f8b1",
   "metadata": {
    "ExecuteTime": {
     "end_time": "2024-05-12T17:21:04.077171200Z",
     "start_time": "2024-05-12T17:21:03.408208800Z"
    }
   },
   "outputs": [
    {
     "data": {
      "text/plain": "team_name                           0\ndate                                0\nbuildUpPlaySpeed                    0\nbuildUpPlayDribbling              969\nbuildUpPlayDribblingClass           0\nbuildUpPlayPassing                  0\nbuildUpPlayPassingClass             0\nbuildUpPlayPositioningClass         0\nchanceCreationPassing               0\nchanceCreationPassingClass          0\nchanceCreationCrossing              0\nchanceCreationCrossingClass         0\nchanceCreationShooting              0\nchanceCreationShootingClass         0\nchanceCreationPositioningClass      0\ndefencePressure                     0\ndefencePressureClass                0\ndefenceAggression                   0\ndefenceAggressionClass              0\ndefenceTeamWidth                    0\ndefenceTeamWidthClass               0\ndefenceDefenderLineClass            0\ndtype: int64"
     },
     "execution_count": 46,
     "metadata": {},
     "output_type": "execute_result"
    }
   ],
   "source": [
    "team_attributes.isna().sum()"
   ]
  },
  {
   "cell_type": "code",
   "outputs": [],
   "source": [
    "team_attributes.drop(['buildUpPlayDribblingClass', 'buildUpPlayDribbling'], axis=1, inplace=True)"
   ],
   "metadata": {
    "collapsed": false,
    "ExecuteTime": {
     "end_time": "2024-05-12T17:21:04.082158600Z",
     "start_time": "2024-05-12T17:21:03.420503100Z"
    }
   },
   "id": "4855bd3e30016669",
   "execution_count": 47
  },
  {
   "cell_type": "markdown",
   "id": "97b483fc6dcf4e15",
   "metadata": {},
   "source": [
    "пассинг"
   ]
  },
  {
   "cell_type": "code",
   "execution_count": 48,
   "id": "8b459dc56ed69fb7",
   "metadata": {
    "ExecuteTime": {
     "end_time": "2024-05-12T17:21:04.114072900Z",
     "start_time": "2024-05-12T17:21:03.427834800Z"
    }
   },
   "outputs": [
    {
     "data": {
      "text/plain": "Mixed    1236\nShort     128\nLong       94\nName: buildUpPlayPassingClass, dtype: int64"
     },
     "execution_count": 48,
     "metadata": {},
     "output_type": "execute_result"
    }
   ],
   "source": [
    "team_attributes['buildUpPlayPassingClass'].value_counts()"
   ]
  },
  {
   "cell_type": "code",
   "execution_count": 49,
   "id": "f3d5610bacc592ee",
   "metadata": {
    "ExecuteTime": {
     "end_time": "2024-05-12T17:21:04.121054500Z",
     "start_time": "2024-05-12T17:21:03.437697200Z"
    }
   },
   "outputs": [],
   "source": [
    "team_attributes.drop('buildUpPlayPassingClass', axis=1, inplace=True)"
   ]
  },
  {
   "cell_type": "markdown",
   "id": "8ebbbb300c11092",
   "metadata": {},
   "source": [
    "позишн"
   ]
  },
  {
   "cell_type": "code",
   "execution_count": 50,
   "id": "e9d16873328531ff",
   "metadata": {
    "ExecuteTime": {
     "end_time": "2024-05-12T17:21:04.138007Z",
     "start_time": "2024-05-12T17:21:03.445948400Z"
    }
   },
   "outputs": [
    {
     "data": {
      "text/plain": "Organised    1386\nFree Form      72\nName: buildUpPlayPositioningClass, dtype: int64"
     },
     "execution_count": 50,
     "metadata": {},
     "output_type": "execute_result"
    }
   ],
   "source": [
    "team_attributes['buildUpPlayPositioningClass'].value_counts()"
   ]
  },
  {
   "cell_type": "markdown",
   "id": "acce228c58049cb5",
   "metadata": {},
   "source": [
    "тут для разнообразия ебанем OHE, а так вроде разницы нет (хз), но так как всего два значения, то одно из них можно удалить ничего не изменится от этого"
   ]
  },
  {
   "cell_type": "code",
   "execution_count": 51,
   "id": "a74e2e4c3325b4e7",
   "metadata": {
    "ExecuteTime": {
     "end_time": "2024-05-12T17:21:04.179897300Z",
     "start_time": "2024-05-12T17:21:03.455735700Z"
    }
   },
   "outputs": [],
   "source": [
    "team_attributes_encoded = pd.get_dummies(team_attributes['buildUpPlayPositioningClass'],\n",
    "                                         prefix='buildUpPlayPositioning')\n",
    "\n",
    "team_attributes = pd.concat([team_attributes, team_attributes_encoded], axis=1)\n",
    "\n",
    "team_attributes.drop(['buildUpPlayPositioningClass', 'buildUpPlayPositioning_Free Form'], axis=1, inplace=True)"
   ]
  },
  {
   "cell_type": "code",
   "execution_count": 52,
   "id": "77b7c07c0642de16",
   "metadata": {
    "ExecuteTime": {
     "end_time": "2024-05-12T17:21:04.202834100Z",
     "start_time": "2024-05-12T17:21:03.465040700Z"
    }
   },
   "outputs": [
    {
     "data": {
      "text/plain": "             team_name       date  buildUpPlaySpeed  buildUpPlayPassing  \\\n0             FC Aarau 2010-02-22                60                  50   \n1             FC Aarau 2014-09-19                52                  56   \n2             FC Aarau 2015-09-10                47                  54   \n3             Aberdeen 2010-02-22                70                  70   \n4             Aberdeen 2011-02-22                47                  52   \n...                ...        ...               ...                 ...   \n1453  SV Zulte-Waregem 2011-02-22                52                  52   \n1454  SV Zulte-Waregem 2012-02-22                54                  51   \n1455  SV Zulte-Waregem 2013-09-20                54                  51   \n1456  SV Zulte-Waregem 2014-09-19                54                  51   \n1457  SV Zulte-Waregem 2015-09-10                54                  51   \n\n      chanceCreationPassing chanceCreationPassingClass  \\\n0                        60                     Normal   \n1                        54                     Normal   \n2                        54                     Normal   \n3                        70                      Risky   \n4                        53                     Normal   \n...                     ...                        ...   \n1453                     52                     Normal   \n1454                     47                     Normal   \n1455                     47                     Normal   \n1456                     47                     Normal   \n1457                     47                     Normal   \n\n      chanceCreationCrossing chanceCreationCrossingClass  \\\n0                         65                      Normal   \n1                         63                      Normal   \n2                         63                      Normal   \n3                         70                        Lots   \n4                         48                      Normal   \n...                      ...                         ...   \n1453                      48                      Normal   \n1454                      52                      Normal   \n1455                      52                      Normal   \n1456                      52                      Normal   \n1457                      52                      Normal   \n\n      chanceCreationShooting chanceCreationShootingClass  \\\n0                         55                      Normal   \n1                         64                      Normal   \n2                         64                      Normal   \n3                         70                        Lots   \n4                         52                      Normal   \n...                      ...                         ...   \n1453                      53                      Normal   \n1454                      50                      Normal   \n1455                      32                      Little   \n1456                      32                      Little   \n1457                      32                      Little   \n\n     chanceCreationPositioningClass  defencePressure defencePressureClass  \\\n0                         Organised               50               Medium   \n1                         Organised               47               Medium   \n2                         Organised               47               Medium   \n3                         Organised               60               Medium   \n4                         Organised               47               Medium   \n...                             ...              ...                  ...   \n1453                      Organised               46               Medium   \n1454                      Organised               44               Medium   \n1455                      Organised               44               Medium   \n1456                      Organised               44               Medium   \n1457                      Organised               44               Medium   \n\n      defenceAggression defenceAggressionClass  defenceTeamWidth  \\\n0                    55                  Press                45   \n1                    44                  Press                54   \n2                    44                  Press                54   \n3                    70                 Double                70   \n4                    47                  Press                52   \n...                 ...                    ...               ...   \n1453                 48                  Press                53   \n1454                 55                  Press                53   \n1455                 58                  Press                37   \n1456                 58                  Press                37   \n1457                 58                  Press                37   \n\n     defenceTeamWidthClass defenceDefenderLineClass  \\\n0                   Normal                    Cover   \n1                   Normal                    Cover   \n2                   Normal                    Cover   \n3                     Wide                    Cover   \n4                   Normal                    Cover   \n...                    ...                      ...   \n1453                Normal                    Cover   \n1454                Normal                    Cover   \n1455                Normal                    Cover   \n1456                Normal                    Cover   \n1457                Normal                    Cover   \n\n      buildUpPlayPositioning_Organised  \n0                                    1  \n1                                    1  \n2                                    1  \n3                                    1  \n4                                    1  \n...                                ...  \n1453                                 1  \n1454                                 1  \n1455                                 1  \n1456                                 1  \n1457                                 1  \n\n[1458 rows x 19 columns]",
      "text/html": "<div>\n<style scoped>\n    .dataframe tbody tr th:only-of-type {\n        vertical-align: middle;\n    }\n\n    .dataframe tbody tr th {\n        vertical-align: top;\n    }\n\n    .dataframe thead th {\n        text-align: right;\n    }\n</style>\n<table border=\"1\" class=\"dataframe\">\n  <thead>\n    <tr style=\"text-align: right;\">\n      <th></th>\n      <th>team_name</th>\n      <th>date</th>\n      <th>buildUpPlaySpeed</th>\n      <th>buildUpPlayPassing</th>\n      <th>chanceCreationPassing</th>\n      <th>chanceCreationPassingClass</th>\n      <th>chanceCreationCrossing</th>\n      <th>chanceCreationCrossingClass</th>\n      <th>chanceCreationShooting</th>\n      <th>chanceCreationShootingClass</th>\n      <th>chanceCreationPositioningClass</th>\n      <th>defencePressure</th>\n      <th>defencePressureClass</th>\n      <th>defenceAggression</th>\n      <th>defenceAggressionClass</th>\n      <th>defenceTeamWidth</th>\n      <th>defenceTeamWidthClass</th>\n      <th>defenceDefenderLineClass</th>\n      <th>buildUpPlayPositioning_Organised</th>\n    </tr>\n  </thead>\n  <tbody>\n    <tr>\n      <th>0</th>\n      <td>FC Aarau</td>\n      <td>2010-02-22</td>\n      <td>60</td>\n      <td>50</td>\n      <td>60</td>\n      <td>Normal</td>\n      <td>65</td>\n      <td>Normal</td>\n      <td>55</td>\n      <td>Normal</td>\n      <td>Organised</td>\n      <td>50</td>\n      <td>Medium</td>\n      <td>55</td>\n      <td>Press</td>\n      <td>45</td>\n      <td>Normal</td>\n      <td>Cover</td>\n      <td>1</td>\n    </tr>\n    <tr>\n      <th>1</th>\n      <td>FC Aarau</td>\n      <td>2014-09-19</td>\n      <td>52</td>\n      <td>56</td>\n      <td>54</td>\n      <td>Normal</td>\n      <td>63</td>\n      <td>Normal</td>\n      <td>64</td>\n      <td>Normal</td>\n      <td>Organised</td>\n      <td>47</td>\n      <td>Medium</td>\n      <td>44</td>\n      <td>Press</td>\n      <td>54</td>\n      <td>Normal</td>\n      <td>Cover</td>\n      <td>1</td>\n    </tr>\n    <tr>\n      <th>2</th>\n      <td>FC Aarau</td>\n      <td>2015-09-10</td>\n      <td>47</td>\n      <td>54</td>\n      <td>54</td>\n      <td>Normal</td>\n      <td>63</td>\n      <td>Normal</td>\n      <td>64</td>\n      <td>Normal</td>\n      <td>Organised</td>\n      <td>47</td>\n      <td>Medium</td>\n      <td>44</td>\n      <td>Press</td>\n      <td>54</td>\n      <td>Normal</td>\n      <td>Cover</td>\n      <td>1</td>\n    </tr>\n    <tr>\n      <th>3</th>\n      <td>Aberdeen</td>\n      <td>2010-02-22</td>\n      <td>70</td>\n      <td>70</td>\n      <td>70</td>\n      <td>Risky</td>\n      <td>70</td>\n      <td>Lots</td>\n      <td>70</td>\n      <td>Lots</td>\n      <td>Organised</td>\n      <td>60</td>\n      <td>Medium</td>\n      <td>70</td>\n      <td>Double</td>\n      <td>70</td>\n      <td>Wide</td>\n      <td>Cover</td>\n      <td>1</td>\n    </tr>\n    <tr>\n      <th>4</th>\n      <td>Aberdeen</td>\n      <td>2011-02-22</td>\n      <td>47</td>\n      <td>52</td>\n      <td>53</td>\n      <td>Normal</td>\n      <td>48</td>\n      <td>Normal</td>\n      <td>52</td>\n      <td>Normal</td>\n      <td>Organised</td>\n      <td>47</td>\n      <td>Medium</td>\n      <td>47</td>\n      <td>Press</td>\n      <td>52</td>\n      <td>Normal</td>\n      <td>Cover</td>\n      <td>1</td>\n    </tr>\n    <tr>\n      <th>...</th>\n      <td>...</td>\n      <td>...</td>\n      <td>...</td>\n      <td>...</td>\n      <td>...</td>\n      <td>...</td>\n      <td>...</td>\n      <td>...</td>\n      <td>...</td>\n      <td>...</td>\n      <td>...</td>\n      <td>...</td>\n      <td>...</td>\n      <td>...</td>\n      <td>...</td>\n      <td>...</td>\n      <td>...</td>\n      <td>...</td>\n      <td>...</td>\n    </tr>\n    <tr>\n      <th>1453</th>\n      <td>SV Zulte-Waregem</td>\n      <td>2011-02-22</td>\n      <td>52</td>\n      <td>52</td>\n      <td>52</td>\n      <td>Normal</td>\n      <td>48</td>\n      <td>Normal</td>\n      <td>53</td>\n      <td>Normal</td>\n      <td>Organised</td>\n      <td>46</td>\n      <td>Medium</td>\n      <td>48</td>\n      <td>Press</td>\n      <td>53</td>\n      <td>Normal</td>\n      <td>Cover</td>\n      <td>1</td>\n    </tr>\n    <tr>\n      <th>1454</th>\n      <td>SV Zulte-Waregem</td>\n      <td>2012-02-22</td>\n      <td>54</td>\n      <td>51</td>\n      <td>47</td>\n      <td>Normal</td>\n      <td>52</td>\n      <td>Normal</td>\n      <td>50</td>\n      <td>Normal</td>\n      <td>Organised</td>\n      <td>44</td>\n      <td>Medium</td>\n      <td>55</td>\n      <td>Press</td>\n      <td>53</td>\n      <td>Normal</td>\n      <td>Cover</td>\n      <td>1</td>\n    </tr>\n    <tr>\n      <th>1455</th>\n      <td>SV Zulte-Waregem</td>\n      <td>2013-09-20</td>\n      <td>54</td>\n      <td>51</td>\n      <td>47</td>\n      <td>Normal</td>\n      <td>52</td>\n      <td>Normal</td>\n      <td>32</td>\n      <td>Little</td>\n      <td>Organised</td>\n      <td>44</td>\n      <td>Medium</td>\n      <td>58</td>\n      <td>Press</td>\n      <td>37</td>\n      <td>Normal</td>\n      <td>Cover</td>\n      <td>1</td>\n    </tr>\n    <tr>\n      <th>1456</th>\n      <td>SV Zulte-Waregem</td>\n      <td>2014-09-19</td>\n      <td>54</td>\n      <td>51</td>\n      <td>47</td>\n      <td>Normal</td>\n      <td>52</td>\n      <td>Normal</td>\n      <td>32</td>\n      <td>Little</td>\n      <td>Organised</td>\n      <td>44</td>\n      <td>Medium</td>\n      <td>58</td>\n      <td>Press</td>\n      <td>37</td>\n      <td>Normal</td>\n      <td>Cover</td>\n      <td>1</td>\n    </tr>\n    <tr>\n      <th>1457</th>\n      <td>SV Zulte-Waregem</td>\n      <td>2015-09-10</td>\n      <td>54</td>\n      <td>51</td>\n      <td>47</td>\n      <td>Normal</td>\n      <td>52</td>\n      <td>Normal</td>\n      <td>32</td>\n      <td>Little</td>\n      <td>Organised</td>\n      <td>44</td>\n      <td>Medium</td>\n      <td>58</td>\n      <td>Press</td>\n      <td>37</td>\n      <td>Normal</td>\n      <td>Cover</td>\n      <td>1</td>\n    </tr>\n  </tbody>\n</table>\n<p>1458 rows × 19 columns</p>\n</div>"
     },
     "execution_count": 52,
     "metadata": {},
     "output_type": "execute_result"
    }
   ],
   "source": [
    "team_attributes"
   ]
  },
  {
   "cell_type": "markdown",
   "id": "bd107ab8b41ce01c",
   "metadata": {},
   "source": [
    "чанс крейтинг пассинг"
   ]
  },
  {
   "cell_type": "code",
   "execution_count": 53,
   "id": "263e96bd5bbbacb7",
   "metadata": {
    "ExecuteTime": {
     "end_time": "2024-05-12T17:21:04.293593300Z",
     "start_time": "2024-05-12T17:21:03.483748800Z"
    }
   },
   "outputs": [
    {
     "data": {
      "text/plain": "<Figure size 600x400 with 1 Axes>",
      "image/png": "[encoded data removed]"
     },
     "metadata": {},
     "output_type": "display_data"
    }
   ],
   "source": [
    "plt.figure(figsize=(6, 4))\n",
    "plt.scatter(team_attributes['chanceCreationPassingClass'], team_attributes['chanceCreationPassing'],\n",
    "            alpha=0.5)\n",
    "plt.axhline(y=team_attributes[team_attributes['chanceCreationPassingClass'] == 'Safe']['chanceCreationPassing'].max()\n",
    "            , color='red')\n",
    "plt.axhline(y=team_attributes[team_attributes['chanceCreationPassingClass'] == 'Normal']['chanceCreationPassing'].max()\n",
    "            , color='red')\n",
    "plt.title('Зависимость между chanceCreationPassing и chanceCreationPassingClass')\n",
    "plt.xlabel('chanceCreationPassingClass')\n",
    "plt.ylabel('chanceCreationPassing')\n",
    "plt.grid(True)\n",
    "plt.show()"
   ]
  },
  {
   "cell_type": "code",
   "execution_count": 54,
   "id": "19c668432abb76e1",
   "metadata": {
    "ExecuteTime": {
     "end_time": "2024-05-12T17:21:04.300575600Z",
     "start_time": "2024-05-12T17:21:03.630996400Z"
    }
   },
   "outputs": [],
   "source": [
    "team_attributes.drop('chanceCreationPassingClass', axis=1, inplace=True)"
   ]
  },
  {
   "cell_type": "markdown",
   "id": "af3d5511e37010d9",
   "metadata": {},
   "source": [
    "кроссинг"
   ]
  },
  {
   "cell_type": "code",
   "execution_count": 55,
   "id": "14e8ce30747a2cb8",
   "metadata": {
    "ExecuteTime": {
     "end_time": "2024-05-12T17:21:04.564867100Z",
     "start_time": "2024-05-12T17:21:03.634916400Z"
    }
   },
   "outputs": [
    {
     "data": {
      "text/plain": "<Figure size 600x400 with 1 Axes>",
      "image/png": "[encoded data removed]"
     },
     "metadata": {},
     "output_type": "display_data"
    }
   ],
   "source": [
    "plt.figure(figsize=(6, 4))\n",
    "plt.scatter(team_attributes['chanceCreationCrossingClass'], team_attributes['chanceCreationCrossing'],\n",
    "            alpha=0.5)\n",
    "plt.axhline(\n",
    "    y=team_attributes[team_attributes['chanceCreationCrossingClass'] == 'Little']['chanceCreationCrossing'].max()\n",
    "    , color='red')\n",
    "plt.axhline(\n",
    "    y=team_attributes[team_attributes['chanceCreationCrossingClass'] == 'Normal']['chanceCreationCrossing'].max()\n",
    "    , color='red')\n",
    "plt.title('Зависимость между chanceCreationCrossing и chanceCreationCrossingClass')\n",
    "plt.xlabel('chanceCreationCrossingClass')\n",
    "plt.ylabel('chanceCreationCrossing')\n",
    "plt.grid(True)\n",
    "plt.show()"
   ]
  },
  {
   "cell_type": "code",
   "execution_count": 56,
   "id": "c1c3e27409442ad1",
   "metadata": {
    "ExecuteTime": {
     "end_time": "2024-05-12T17:21:04.597777600Z",
     "start_time": "2024-05-12T17:21:03.789884300Z"
    }
   },
   "outputs": [],
   "source": [
    "team_attributes.drop('chanceCreationCrossingClass', axis=1, inplace=True)"
   ]
  },
  {
   "cell_type": "markdown",
   "id": "fb7c36bc6337586f",
   "metadata": {},
   "source": [
    "шутинг"
   ]
  },
  {
   "cell_type": "code",
   "execution_count": 57,
   "id": "6ec030dd0127b2b6",
   "metadata": {
    "ExecuteTime": {
     "end_time": "2024-05-12T17:21:05.127360400Z",
     "start_time": "2024-05-12T17:21:03.793790600Z"
    }
   },
   "outputs": [
    {
     "data": {
      "text/plain": "<Figure size 600x400 with 1 Axes>",
      "image/png": "[encoded data removed]"
     },
     "metadata": {},
     "output_type": "display_data"
    }
   ],
   "source": [
    "plt.figure(figsize=(6, 4))\n",
    "plt.scatter(team_attributes['chanceCreationShootingClass'], team_attributes['chanceCreationShooting'],\n",
    "            alpha=0.5)  # alpha устанавливает прозрачность точек для лучшей видимости\n",
    "plt.axhline(\n",
    "    y=team_attributes[team_attributes['chanceCreationShootingClass'] == 'Little']['chanceCreationShooting'].max()\n",
    "    , color='red')\n",
    "plt.axhline(\n",
    "    y=team_attributes[team_attributes['chanceCreationShootingClass'] == 'Normal']['chanceCreationShooting'].max()\n",
    "    , color='red')\n",
    "plt.title('Зависимость между chanceCreationShooting и chanceCreationShootingClass')\n",
    "plt.xlabel('chanceCreationShootingClass')\n",
    "plt.ylabel('chanceCreationShooting')\n",
    "plt.grid(True)  # Включаем сетку\n",
    "plt.show()"
   ]
  },
  {
   "cell_type": "markdown",
   "id": "f3889d2857e44d85",
   "metadata": {},
   "source": [
    "полагаю дальше можно не продолжать и убрать все колонки с классами, для которых есть числовые значения"
   ]
  },
  {
   "cell_type": "code",
   "execution_count": 58,
   "id": "b5478a24d405b8d6",
   "metadata": {
    "ExecuteTime": {
     "end_time": "2024-05-12T17:21:05.169248700Z",
     "start_time": "2024-05-12T17:21:03.937913600Z"
    }
   },
   "outputs": [],
   "source": [
    "team_attributes.drop(\n",
    "    ['chanceCreationShootingClass', 'defencePressureClass', 'defenceAggressionClass', 'defenceTeamWidthClass'], axis=1,\n",
    "    inplace=True)"
   ]
  },
  {
   "cell_type": "markdown",
   "id": "2893b5dcc4c455b2",
   "metadata": {},
   "source": [
    "тут тоже ОНЕ ебанем"
   ]
  },
  {
   "cell_type": "code",
   "execution_count": 59,
   "id": "553754d73b86b9a",
   "metadata": {
    "ExecuteTime": {
     "end_time": "2024-05-12T17:21:05.174235100Z",
     "start_time": "2024-05-12T17:21:03.944764200Z"
    }
   },
   "outputs": [
    {
     "data": {
      "text/plain": "Organised    1309\nFree Form     149\nName: chanceCreationPositioningClass, dtype: int64"
     },
     "execution_count": 59,
     "metadata": {},
     "output_type": "execute_result"
    }
   ],
   "source": [
    "team_attributes['chanceCreationPositioningClass'].value_counts()"
   ]
  },
  {
   "cell_type": "code",
   "execution_count": 60,
   "id": "c8bc7ff0effc6871",
   "metadata": {
    "ExecuteTime": {
     "end_time": "2024-05-12T17:21:05.187200900Z",
     "start_time": "2024-05-12T17:21:03.954318100Z"
    }
   },
   "outputs": [],
   "source": [
    "team_attributes_encoded = pd.get_dummies(team_attributes['chanceCreationPositioningClass'],\n",
    "                                         prefix='chanceCreationPositioning')\n",
    "\n",
    "team_attributes = pd.concat([team_attributes, team_attributes_encoded], axis=1)\n",
    "\n",
    "team_attributes.drop(['chanceCreationPositioningClass', 'chanceCreationPositioning_Free Form'], axis=1, inplace=True)"
   ]
  },
  {
   "cell_type": "markdown",
   "id": "e19db74eb489534e",
   "metadata": {},
   "source": [
    "линия защиты"
   ]
  },
  {
   "cell_type": "code",
   "execution_count": 61,
   "id": "b4b8a0175b69b514",
   "metadata": {
    "ExecuteTime": {
     "end_time": "2024-05-12T17:21:05.198171200Z",
     "start_time": "2024-05-12T17:21:03.964005200Z"
    }
   },
   "outputs": [
    {
     "data": {
      "text/plain": "Cover           1362\nOffside Trap      96\nName: defenceDefenderLineClass, dtype: int64"
     },
     "execution_count": 61,
     "metadata": {},
     "output_type": "execute_result"
    }
   ],
   "source": [
    "team_attributes['defenceDefenderLineClass'].value_counts()"
   ]
  },
  {
   "cell_type": "code",
   "execution_count": 62,
   "id": "b6f2c7aa1a3d6c8e",
   "metadata": {
    "ExecuteTime": {
     "end_time": "2024-05-12T17:21:05.225132400Z",
     "start_time": "2024-05-12T17:21:03.973036200Z"
    }
   },
   "outputs": [],
   "source": [
    "team_attributes_encoded = pd.get_dummies(team_attributes['defenceDefenderLineClass'],\n",
    "                                         prefix='defenceDefenderLine')\n",
    "\n",
    "team_attributes = pd.concat([team_attributes, team_attributes_encoded], axis=1)\n",
    "\n",
    "team_attributes.drop(['defenceDefenderLineClass', 'defenceDefenderLine_Offside Trap'], axis=1, inplace=True)"
   ]
  },
  {
   "cell_type": "code",
   "execution_count": 63,
   "id": "a6b70e334fbdfa89",
   "metadata": {
    "ExecuteTime": {
     "end_time": "2024-05-12T17:21:05.249034400Z",
     "start_time": "2024-05-12T17:21:03.989767300Z"
    }
   },
   "outputs": [
    {
     "data": {
      "text/plain": "             team_name       date  buildUpPlaySpeed  buildUpPlayPassing  \\\n0             FC Aarau 2010-02-22                60                  50   \n1             FC Aarau 2014-09-19                52                  56   \n2             FC Aarau 2015-09-10                47                  54   \n3             Aberdeen 2010-02-22                70                  70   \n4             Aberdeen 2011-02-22                47                  52   \n...                ...        ...               ...                 ...   \n1453  SV Zulte-Waregem 2011-02-22                52                  52   \n1454  SV Zulte-Waregem 2012-02-22                54                  51   \n1455  SV Zulte-Waregem 2013-09-20                54                  51   \n1456  SV Zulte-Waregem 2014-09-19                54                  51   \n1457  SV Zulte-Waregem 2015-09-10                54                  51   \n\n      chanceCreationPassing  chanceCreationCrossing  chanceCreationShooting  \\\n0                        60                      65                      55   \n1                        54                      63                      64   \n2                        54                      63                      64   \n3                        70                      70                      70   \n4                        53                      48                      52   \n...                     ...                     ...                     ...   \n1453                     52                      48                      53   \n1454                     47                      52                      50   \n1455                     47                      52                      32   \n1456                     47                      52                      32   \n1457                     47                      52                      32   \n\n      defencePressure  defenceAggression  defenceTeamWidth  \\\n0                  50                 55                45   \n1                  47                 44                54   \n2                  47                 44                54   \n3                  60                 70                70   \n4                  47                 47                52   \n...               ...                ...               ...   \n1453               46                 48                53   \n1454               44                 55                53   \n1455               44                 58                37   \n1456               44                 58                37   \n1457               44                 58                37   \n\n      buildUpPlayPositioning_Organised  chanceCreationPositioning_Organised  \\\n0                                    1                                    1   \n1                                    1                                    1   \n2                                    1                                    1   \n3                                    1                                    1   \n4                                    1                                    1   \n...                                ...                                  ...   \n1453                                 1                                    1   \n1454                                 1                                    1   \n1455                                 1                                    1   \n1456                                 1                                    1   \n1457                                 1                                    1   \n\n      defenceDefenderLine_Cover  \n0                             1  \n1                             1  \n2                             1  \n3                             1  \n4                             1  \n...                         ...  \n1453                          1  \n1454                          1  \n1455                          1  \n1456                          1  \n1457                          1  \n\n[1458 rows x 13 columns]",
      "text/html": "<div>\n<style scoped>\n    .dataframe tbody tr th:only-of-type {\n        vertical-align: middle;\n    }\n\n    .dataframe tbody tr th {\n        vertical-align: top;\n    }\n\n    .dataframe thead th {\n        text-align: right;\n    }\n</style>\n<table border=\"1\" class=\"dataframe\">\n  <thead>\n    <tr style=\"text-align: right;\">\n      <th></th>\n      <th>team_name</th>\n      <th>date</th>\n      <th>buildUpPlaySpeed</th>\n      <th>buildUpPlayPassing</th>\n      <th>chanceCreationPassing</th>\n      <th>chanceCreationCrossing</th>\n      <th>chanceCreationShooting</th>\n      <th>defencePressure</th>\n      <th>defenceAggression</th>\n      <th>defenceTeamWidth</th>\n      <th>buildUpPlayPositioning_Organised</th>\n      <th>chanceCreationPositioning_Organised</th>\n      <th>defenceDefenderLine_Cover</th>\n    </tr>\n  </thead>\n  <tbody>\n    <tr>\n      <th>0</th>\n      <td>FC Aarau</td>\n      <td>2010-02-22</td>\n      <td>60</td>\n      <td>50</td>\n      <td>60</td>\n      <td>65</td>\n      <td>55</td>\n      <td>50</td>\n      <td>55</td>\n      <td>45</td>\n      <td>1</td>\n      <td>1</td>\n      <td>1</td>\n    </tr>\n    <tr>\n      <th>1</th>\n      <td>FC Aarau</td>\n      <td>2014-09-19</td>\n      <td>52</td>\n      <td>56</td>\n      <td>54</td>\n      <td>63</td>\n      <td>64</td>\n      <td>47</td>\n      <td>44</td>\n      <td>54</td>\n      <td>1</td>\n      <td>1</td>\n      <td>1</td>\n    </tr>\n    <tr>\n      <th>2</th>\n      <td>FC Aarau</td>\n      <td>2015-09-10</td>\n      <td>47</td>\n      <td>54</td>\n      <td>54</td>\n      <td>63</td>\n      <td>64</td>\n      <td>47</td>\n      <td>44</td>\n      <td>54</td>\n      <td>1</td>\n      <td>1</td>\n      <td>1</td>\n    </tr>\n    <tr>\n      <th>3</th>\n      <td>Aberdeen</td>\n      <td>2010-02-22</td>\n      <td>70</td>\n      <td>70</td>\n      <td>70</td>\n      <td>70</td>\n      <td>70</td>\n      <td>60</td>\n      <td>70</td>\n      <td>70</td>\n      <td>1</td>\n      <td>1</td>\n      <td>1</td>\n    </tr>\n    <tr>\n      <th>4</th>\n      <td>Aberdeen</td>\n      <td>2011-02-22</td>\n      <td>47</td>\n      <td>52</td>\n      <td>53</td>\n      <td>48</td>\n      <td>52</td>\n      <td>47</td>\n      <td>47</td>\n      <td>52</td>\n      <td>1</td>\n      <td>1</td>\n      <td>1</td>\n    </tr>\n    <tr>\n      <th>...</th>\n      <td>...</td>\n      <td>...</td>\n      <td>...</td>\n      <td>...</td>\n      <td>...</td>\n      <td>...</td>\n      <td>...</td>\n      <td>...</td>\n      <td>...</td>\n      <td>...</td>\n      <td>...</td>\n      <td>...</td>\n      <td>...</td>\n    </tr>\n    <tr>\n      <th>1453</th>\n      <td>SV Zulte-Waregem</td>\n      <td>2011-02-22</td>\n      <td>52</td>\n      <td>52</td>\n      <td>52</td>\n      <td>48</td>\n      <td>53</td>\n      <td>46</td>\n      <td>48</td>\n      <td>53</td>\n      <td>1</td>\n      <td>1</td>\n      <td>1</td>\n    </tr>\n    <tr>\n      <th>1454</th>\n      <td>SV Zulte-Waregem</td>\n      <td>2012-02-22</td>\n      <td>54</td>\n      <td>51</td>\n      <td>47</td>\n      <td>52</td>\n      <td>50</td>\n      <td>44</td>\n      <td>55</td>\n      <td>53</td>\n      <td>1</td>\n      <td>1</td>\n      <td>1</td>\n    </tr>\n    <tr>\n      <th>1455</th>\n      <td>SV Zulte-Waregem</td>\n      <td>2013-09-20</td>\n      <td>54</td>\n      <td>51</td>\n      <td>47</td>\n      <td>52</td>\n      <td>32</td>\n      <td>44</td>\n      <td>58</td>\n      <td>37</td>\n      <td>1</td>\n      <td>1</td>\n      <td>1</td>\n    </tr>\n    <tr>\n      <th>1456</th>\n      <td>SV Zulte-Waregem</td>\n      <td>2014-09-19</td>\n      <td>54</td>\n      <td>51</td>\n      <td>47</td>\n      <td>52</td>\n      <td>32</td>\n      <td>44</td>\n      <td>58</td>\n      <td>37</td>\n      <td>1</td>\n      <td>1</td>\n      <td>1</td>\n    </tr>\n    <tr>\n      <th>1457</th>\n      <td>SV Zulte-Waregem</td>\n      <td>2015-09-10</td>\n      <td>54</td>\n      <td>51</td>\n      <td>47</td>\n      <td>52</td>\n      <td>32</td>\n      <td>44</td>\n      <td>58</td>\n      <td>37</td>\n      <td>1</td>\n      <td>1</td>\n      <td>1</td>\n    </tr>\n  </tbody>\n</table>\n<p>1458 rows × 13 columns</p>\n</div>"
     },
     "execution_count": 63,
     "metadata": {},
     "output_type": "execute_result"
    }
   ],
   "source": [
    "team_attributes"
   ]
  },
  {
   "cell_type": "markdown",
   "id": "751544eeef910d25",
   "metadata": {},
   "source": [
    "все осталось ток с дриблингом порешать и выбрать скейлер, думаю стандарт сойдет (вроде решили)"
   ]
  },
  {
   "cell_type": "markdown",
   "id": "a9addb5576f0af2f",
   "metadata": {},
   "source": [
    "теперь игроки\n",
    "\n",
    "\n",
    "выяснилось, что не все игроки участвовавшие в матчах есть в player_attributes"
   ]
  },
  {
   "cell_type": "code",
   "execution_count": 64,
   "id": "3eb8704d6c2223cc",
   "metadata": {
    "ExecuteTime": {
     "end_time": "2024-05-12T17:21:07.730840600Z",
     "start_time": "2024-05-12T17:21:04.005362700Z"
    }
   },
   "outputs": [
    {
     "data": {
      "text/plain": "   id  player_fifa_api_id  player_api_id                 date  overall_rating  \\\n0   1              218353         505942  2016-02-18 00:00:00            67.0   \n1   2              218353         505942  2015-11-19 00:00:00            67.0   \n2   3              218353         505942  2015-09-21 00:00:00            62.0   \n3   4              218353         505942  2015-03-20 00:00:00            61.0   \n4   5              218353         505942  2007-02-22 00:00:00            61.0   \n\n   potential preferred_foot attacking_work_rate defensive_work_rate  crossing  \\\n0       71.0          right              medium              medium      49.0   \n1       71.0          right              medium              medium      49.0   \n2       66.0          right              medium              medium      49.0   \n3       65.0          right              medium              medium      48.0   \n4       65.0          right              medium              medium      48.0   \n\n   ...  vision  penalties  marking  standing_tackle  sliding_tackle  \\\n0  ...    54.0       48.0     65.0             69.0            69.0   \n1  ...    54.0       48.0     65.0             69.0            69.0   \n2  ...    54.0       48.0     65.0             66.0            69.0   \n3  ...    53.0       47.0     62.0             63.0            66.0   \n4  ...    53.0       47.0     62.0             63.0            66.0   \n\n   gk_diving  gk_handling  gk_kicking  gk_positioning  gk_reflexes  \n0        6.0         11.0        10.0             8.0          8.0  \n1        6.0         11.0        10.0             8.0          8.0  \n2        6.0         11.0        10.0             8.0          8.0  \n3        5.0         10.0         9.0             7.0          7.0  \n4        5.0         10.0         9.0             7.0          7.0  \n\n[5 rows x 42 columns]",
      "text/html": "<div>\n<style scoped>\n    .dataframe tbody tr th:only-of-type {\n        vertical-align: middle;\n    }\n\n    .dataframe tbody tr th {\n        vertical-align: top;\n    }\n\n    .dataframe thead th {\n        text-align: right;\n    }\n</style>\n<table border=\"1\" class=\"dataframe\">\n  <thead>\n    <tr style=\"text-align: right;\">\n      <th></th>\n      <th>id</th>\n      <th>player_fifa_api_id</th>\n      <th>player_api_id</th>\n      <th>date</th>\n      <th>overall_rating</th>\n      <th>potential</th>\n      <th>preferred_foot</th>\n      <th>attacking_work_rate</th>\n      <th>defensive_work_rate</th>\n      <th>crossing</th>\n      <th>...</th>\n      <th>vision</th>\n      <th>penalties</th>\n      <th>marking</th>\n      <th>standing_tackle</th>\n      <th>sliding_tackle</th>\n      <th>gk_diving</th>\n      <th>gk_handling</th>\n      <th>gk_kicking</th>\n      <th>gk_positioning</th>\n      <th>gk_reflexes</th>\n    </tr>\n  </thead>\n  <tbody>\n    <tr>\n      <th>0</th>\n      <td>1</td>\n      <td>218353</td>\n      <td>505942</td>\n      <td>2016-02-18 00:00:00</td>\n      <td>67.0</td>\n      <td>71.0</td>\n      <td>right</td>\n      <td>medium</td>\n      <td>medium</td>\n      <td>49.0</td>\n      <td>...</td>\n      <td>54.0</td>\n      <td>48.0</td>\n      <td>65.0</td>\n      <td>69.0</td>\n      <td>69.0</td>\n      <td>6.0</td>\n      <td>11.0</td>\n      <td>10.0</td>\n      <td>8.0</td>\n      <td>8.0</td>\n    </tr>\n    <tr>\n      <th>1</th>\n      <td>2</td>\n      <td>218353</td>\n      <td>505942</td>\n      <td>2015-11-19 00:00:00</td>\n      <td>67.0</td>\n      <td>71.0</td>\n      <td>right</td>\n      <td>medium</td>\n      <td>medium</td>\n      <td>49.0</td>\n      <td>...</td>\n      <td>54.0</td>\n      <td>48.0</td>\n      <td>65.0</td>\n      <td>69.0</td>\n      <td>69.0</td>\n      <td>6.0</td>\n      <td>11.0</td>\n      <td>10.0</td>\n      <td>8.0</td>\n      <td>8.0</td>\n    </tr>\n    <tr>\n      <th>2</th>\n      <td>3</td>\n      <td>218353</td>\n      <td>505942</td>\n      <td>2015-09-21 00:00:00</td>\n      <td>62.0</td>\n      <td>66.0</td>\n      <td>right</td>\n      <td>medium</td>\n      <td>medium</td>\n      <td>49.0</td>\n      <td>...</td>\n      <td>54.0</td>\n      <td>48.0</td>\n      <td>65.0</td>\n      <td>66.0</td>\n      <td>69.0</td>\n      <td>6.0</td>\n      <td>11.0</td>\n      <td>10.0</td>\n      <td>8.0</td>\n      <td>8.0</td>\n    </tr>\n    <tr>\n      <th>3</th>\n      <td>4</td>\n      <td>218353</td>\n      <td>505942</td>\n      <td>2015-03-20 00:00:00</td>\n      <td>61.0</td>\n      <td>65.0</td>\n      <td>right</td>\n      <td>medium</td>\n      <td>medium</td>\n      <td>48.0</td>\n      <td>...</td>\n      <td>53.0</td>\n      <td>47.0</td>\n      <td>62.0</td>\n      <td>63.0</td>\n      <td>66.0</td>\n      <td>5.0</td>\n      <td>10.0</td>\n      <td>9.0</td>\n      <td>7.0</td>\n      <td>7.0</td>\n    </tr>\n    <tr>\n      <th>4</th>\n      <td>5</td>\n      <td>218353</td>\n      <td>505942</td>\n      <td>2007-02-22 00:00:00</td>\n      <td>61.0</td>\n      <td>65.0</td>\n      <td>right</td>\n      <td>medium</td>\n      <td>medium</td>\n      <td>48.0</td>\n      <td>...</td>\n      <td>53.0</td>\n      <td>47.0</td>\n      <td>62.0</td>\n      <td>63.0</td>\n      <td>66.0</td>\n      <td>5.0</td>\n      <td>10.0</td>\n      <td>9.0</td>\n      <td>7.0</td>\n      <td>7.0</td>\n    </tr>\n  </tbody>\n</table>\n<p>5 rows × 42 columns</p>\n</div>"
     },
     "execution_count": 64,
     "metadata": {},
     "output_type": "execute_result"
    }
   ],
   "source": [
    "player_attributes = pd.read_sql('SELECT * FROM Player_Attributes', conn)\n",
    "player_attributes.head()"
   ]
  },
  {
   "cell_type": "code",
   "outputs": [
    {
     "data": {
      "text/plain": "array([], dtype=float64)"
     },
     "execution_count": 65,
     "metadata": {},
     "output_type": "execute_result"
    }
   ],
   "source": [
    "players_in_realdata = []\n",
    "for i in range(1, 12):\n",
    "    players_in_realdata = np.unique(np.append(\n",
    "        np.append(\n",
    "            np.unique((match[f'home_player_{i}'])), np.unique((match[f'away_player_{i}']))),\n",
    "        players_in_realdata))\n",
    "np.setdiff1d(players_in_realdata, player_attributes['player_api_id'])"
   ],
   "metadata": {
    "collapsed": false,
    "ExecuteTime": {
     "end_time": "2024-05-12T17:21:07.862493400Z",
     "start_time": "2024-05-12T17:21:07.701917400Z"
    }
   },
   "id": "76a68fe01bc37648",
   "execution_count": 65
  },
  {
   "cell_type": "markdown",
   "source": [
    "видим, что есть один футболист которого нет почему то в player_attributes, придется дропнуть все матчи с ним"
   ],
   "metadata": {
    "collapsed": false
   },
   "id": "310edfef8c41efa"
  },
  {
   "cell_type": "code",
   "outputs": [],
   "source": [
    "for i in range(1, 12):\n",
    "    match = match.loc[(match[f'home_player_{i}'] != 359194.0) | (match[f'away_player_{i}'] != 359194.0)]"
   ],
   "metadata": {
    "collapsed": false,
    "ExecuteTime": {
     "end_time": "2024-05-12T17:21:07.955337300Z",
     "start_time": "2024-05-12T17:21:07.758765700Z"
    }
   },
   "id": "5ed1d81528ab6d01",
   "execution_count": 66
  },
  {
   "cell_type": "code",
   "execution_count": 67,
   "id": "d8909af61e0a7778",
   "metadata": {
    "ExecuteTime": {
     "end_time": "2024-05-12T17:21:08.111767900Z",
     "start_time": "2024-05-12T17:21:07.830579400Z"
    }
   },
   "outputs": [],
   "source": [
    "player_attributes['date'] = pd.to_datetime(player_attributes['date'])"
   ]
  },
  {
   "cell_type": "code",
   "execution_count": 68,
   "id": "c2f8095347f4bcc",
   "metadata": {
    "ExecuteTime": {
     "end_time": "2024-05-12T17:21:08.197633500Z",
     "start_time": "2024-05-12T17:21:07.899434800Z"
    }
   },
   "outputs": [],
   "source": [
    "player_attributes.drop(['player_fifa_api_id', 'id'], axis=1, inplace=True)"
   ]
  },
  {
   "cell_type": "code",
   "execution_count": 69,
   "id": "a45aae08ef9ff8ed",
   "metadata": {
    "ExecuteTime": {
     "end_time": "2024-05-12T17:21:08.246539200Z",
     "start_time": "2024-05-12T17:21:07.954339500Z"
    }
   },
   "outputs": [
    {
     "data": {
      "text/plain": "player_api_id             0\ndate                      0\noverall_rating          836\npotential               836\npreferred_foot          836\nattacking_work_rate    3230\ndefensive_work_rate     836\ncrossing                836\nfinishing               836\nheading_accuracy        836\nshort_passing           836\nvolleys                2713\ndribbling               836\ncurve                  2713\nfree_kick_accuracy      836\nlong_passing            836\nball_control            836\nacceleration            836\nsprint_speed            836\nagility                2713\nreactions               836\nbalance                2713\nshot_power              836\njumping                2713\nstamina                 836\nstrength                836\nlong_shots              836\naggression              836\ninterceptions           836\npositioning             836\nvision                 2713\npenalties               836\nmarking                 836\nstanding_tackle         836\nsliding_tackle         2713\ngk_diving               836\ngk_handling             836\ngk_kicking              836\ngk_positioning          836\ngk_reflexes             836\ndtype: int64"
     },
     "execution_count": 69,
     "metadata": {},
     "output_type": "execute_result"
    }
   ],
   "source": [
    "player_attributes.isna().sum()"
   ]
  },
  {
   "cell_type": "markdown",
   "id": "f1cee75fb9fc8407",
   "metadata": {},
   "source": [
    "опять заменим индексы на имена"
   ]
  },
  {
   "cell_type": "code",
   "execution_count": 70,
   "id": "bfd297e1f7c1224b",
   "metadata": {
    "ExecuteTime": {
     "end_time": "2024-05-12T17:21:08.368390500Z",
     "start_time": "2024-05-12T17:21:08.046341Z"
    }
   },
   "outputs": [
    {
     "data": {
      "text/plain": "   id  player_api_id         player_name  player_fifa_api_id  \\\n0   1         505942  Aaron Appindangoye              218353   \n1   2         155782     Aaron Cresswell              189615   \n2   3         162549         Aaron Doran              186170   \n3   4          30572       Aaron Galindo              140161   \n4   5          23780        Aaron Hughes               17725   \n\n              birthday  height  weight  \n0  1992-02-29 00:00:00  182.88     187  \n1  1989-12-15 00:00:00  170.18     146  \n2  1991-05-13 00:00:00  170.18     163  \n3  1982-05-08 00:00:00  182.88     198  \n4  1979-11-08 00:00:00  182.88     154  ",
      "text/html": "<div>\n<style scoped>\n    .dataframe tbody tr th:only-of-type {\n        vertical-align: middle;\n    }\n\n    .dataframe tbody tr th {\n        vertical-align: top;\n    }\n\n    .dataframe thead th {\n        text-align: right;\n    }\n</style>\n<table border=\"1\" class=\"dataframe\">\n  <thead>\n    <tr style=\"text-align: right;\">\n      <th></th>\n      <th>id</th>\n      <th>player_api_id</th>\n      <th>player_name</th>\n      <th>player_fifa_api_id</th>\n      <th>birthday</th>\n      <th>height</th>\n      <th>weight</th>\n    </tr>\n  </thead>\n  <tbody>\n    <tr>\n      <th>0</th>\n      <td>1</td>\n      <td>505942</td>\n      <td>Aaron Appindangoye</td>\n      <td>218353</td>\n      <td>1992-02-29 00:00:00</td>\n      <td>182.88</td>\n      <td>187</td>\n    </tr>\n    <tr>\n      <th>1</th>\n      <td>2</td>\n      <td>155782</td>\n      <td>Aaron Cresswell</td>\n      <td>189615</td>\n      <td>1989-12-15 00:00:00</td>\n      <td>170.18</td>\n      <td>146</td>\n    </tr>\n    <tr>\n      <th>2</th>\n      <td>3</td>\n      <td>162549</td>\n      <td>Aaron Doran</td>\n      <td>186170</td>\n      <td>1991-05-13 00:00:00</td>\n      <td>170.18</td>\n      <td>163</td>\n    </tr>\n    <tr>\n      <th>3</th>\n      <td>4</td>\n      <td>30572</td>\n      <td>Aaron Galindo</td>\n      <td>140161</td>\n      <td>1982-05-08 00:00:00</td>\n      <td>182.88</td>\n      <td>198</td>\n    </tr>\n    <tr>\n      <th>4</th>\n      <td>5</td>\n      <td>23780</td>\n      <td>Aaron Hughes</td>\n      <td>17725</td>\n      <td>1979-11-08 00:00:00</td>\n      <td>182.88</td>\n      <td>154</td>\n    </tr>\n  </tbody>\n</table>\n</div>"
     },
     "execution_count": 70,
     "metadata": {},
     "output_type": "execute_result"
    }
   ],
   "source": [
    "player = pd.read_sql('SELECT * FROM Player', conn)\n",
    "player.head()"
   ]
  },
  {
   "cell_type": "code",
   "execution_count": 71,
   "id": "4cea6ec128dd0ee6",
   "metadata": {
    "ExecuteTime": {
     "end_time": "2024-05-12T17:21:08.385345300Z",
     "start_time": "2024-05-12T17:21:08.094027500Z"
    }
   },
   "outputs": [],
   "source": [
    "player['birthday'] = pd.to_datetime(player['birthday'])"
   ]
  },
  {
   "cell_type": "code",
   "execution_count": 72,
   "id": "f0d846714d9725aa",
   "metadata": {
    "ExecuteTime": {
     "end_time": "2024-05-12T17:21:08.408284200Z",
     "start_time": "2024-05-12T17:21:08.107779200Z"
    }
   },
   "outputs": [],
   "source": [
    "player.drop(['player_fifa_api_id', 'id'], axis=1, inplace=True)"
   ]
  },
  {
   "cell_type": "code",
   "execution_count": 73,
   "id": "2233637f35843046",
   "metadata": {
    "ExecuteTime": {
     "end_time": "2024-05-12T17:21:08.442176900Z",
     "start_time": "2024-05-12T17:21:08.115851800Z"
    }
   },
   "outputs": [],
   "source": [
    "player_attributes = pd.merge(player_attributes, player, left_on='player_api_id', right_on='player_api_id', how='left')"
   ]
  },
  {
   "cell_type": "markdown",
   "id": "ca418093fa0b6bee",
   "metadata": {},
   "source": [
    "сделаем вместо даты рожденяи возраст на момент замера информации об игроке"
   ]
  },
  {
   "cell_type": "code",
   "execution_count": 74,
   "id": "e12570963fa5394d",
   "metadata": {
    "ExecuteTime": {
     "end_time": "2024-05-12T17:21:08.472130300Z",
     "start_time": "2024-05-12T17:21:08.243546600Z"
    }
   },
   "outputs": [],
   "source": [
    "player_attributes['age'] = (player_attributes['date'] - player_attributes['birthday']).astype('<m8[Y]')\n",
    "player_attributes.drop('birthday', axis=1, inplace=True)"
   ]
  },
  {
   "cell_type": "code",
   "execution_count": 75,
   "id": "5dd2967c004e6ca3",
   "metadata": {
    "ExecuteTime": {
     "end_time": "2024-05-12T17:21:08.486060200Z",
     "start_time": "2024-05-12T17:21:08.304561700Z"
    }
   },
   "outputs": [],
   "source": [
    "player_attributes.insert(0, 'age', player_attributes.pop('age'))\n",
    "player_attributes.insert(0, 'weight', player_attributes.pop('weight'))\n",
    "player_attributes.insert(0, 'height', player_attributes.pop('height'))\n",
    "player_attributes.insert(0, 'player_name', player_attributes.pop('player_name'))"
   ]
  },
  {
   "cell_type": "code",
   "execution_count": 76,
   "id": "dca61d7f5a2bd9e8",
   "metadata": {
    "ExecuteTime": {
     "end_time": "2024-05-12T17:21:08.645631200Z",
     "start_time": "2024-05-12T17:21:08.312540500Z"
    }
   },
   "outputs": [
    {
     "data": {
      "text/plain": "               player_name  height  weight   age  player_api_id       date  \\\n0       Aaron Appindangoye  182.88     187  23.0         505942 2016-02-18   \n1       Aaron Appindangoye  182.88     187  23.0         505942 2015-11-19   \n2       Aaron Appindangoye  182.88     187  23.0         505942 2015-09-21   \n3       Aaron Appindangoye  182.88     187  23.0         505942 2015-03-20   \n4       Aaron Appindangoye  182.88     187  14.0         505942 2007-02-22   \n...                    ...     ...     ...   ...            ...        ...   \n183973  Zvjezdan Misimovic  180.34     176  27.0          39902 2009-08-30   \n183974  Zvjezdan Misimovic  180.34     176  26.0          39902 2009-02-22   \n183975  Zvjezdan Misimovic  180.34     176  26.0          39902 2008-08-30   \n183976  Zvjezdan Misimovic  180.34     176  25.0          39902 2007-08-30   \n183977  Zvjezdan Misimovic  180.34     176  24.0          39902 2007-02-22   \n\n        overall_rating  potential preferred_foot attacking_work_rate  ...  \\\n0                 67.0       71.0          right              medium  ...   \n1                 67.0       71.0          right              medium  ...   \n2                 62.0       66.0          right              medium  ...   \n3                 61.0       65.0          right              medium  ...   \n4                 61.0       65.0          right              medium  ...   \n...                ...        ...            ...                 ...  ...   \n183973            83.0       85.0          right              medium  ...   \n183974            78.0       80.0          right              medium  ...   \n183975            77.0       80.0          right              medium  ...   \n183976            78.0       81.0          right              medium  ...   \n183977            80.0       81.0          right              medium  ...   \n\n       vision  penalties  marking  standing_tackle  sliding_tackle  gk_diving  \\\n0        54.0       48.0     65.0             69.0            69.0        6.0   \n1        54.0       48.0     65.0             69.0            69.0        6.0   \n2        54.0       48.0     65.0             66.0            69.0        6.0   \n3        53.0       47.0     62.0             63.0            66.0        5.0   \n4        53.0       47.0     62.0             63.0            66.0        5.0   \n...       ...        ...      ...              ...             ...        ...   \n183973   88.0       83.0     22.0             31.0            30.0        9.0   \n183974   88.0       70.0     32.0             31.0            30.0        9.0   \n183975   88.0       70.0     32.0             31.0            30.0        9.0   \n183976   88.0       53.0     28.0             32.0            30.0        9.0   \n183977   88.0       53.0     38.0             32.0            30.0        9.0   \n\n        gk_handling  gk_kicking  gk_positioning  gk_reflexes  \n0              11.0        10.0             8.0          8.0  \n1              11.0        10.0             8.0          8.0  \n2              11.0        10.0             8.0          8.0  \n3              10.0         9.0             7.0          7.0  \n4              10.0         9.0             7.0          7.0  \n...             ...         ...             ...          ...  \n183973         20.0        84.0            20.0         20.0  \n183974         20.0        73.0            20.0         20.0  \n183975         20.0        73.0            20.0         20.0  \n183976         20.0        73.0            20.0         20.0  \n183977          9.0        78.0             7.0         15.0  \n\n[183978 rows x 44 columns]",
      "text/html": "<div>\n<style scoped>\n    .dataframe tbody tr th:only-of-type {\n        vertical-align: middle;\n    }\n\n    .dataframe tbody tr th {\n        vertical-align: top;\n    }\n\n    .dataframe thead th {\n        text-align: right;\n    }\n</style>\n<table border=\"1\" class=\"dataframe\">\n  <thead>\n    <tr style=\"text-align: right;\">\n      <th></th>\n      <th>player_name</th>\n      <th>height</th>\n      <th>weight</th>\n      <th>age</th>\n      <th>player_api_id</th>\n      <th>date</th>\n      <th>overall_rating</th>\n      <th>potential</th>\n      <th>preferred_foot</th>\n      <th>attacking_work_rate</th>\n      <th>...</th>\n      <th>vision</th>\n      <th>penalties</th>\n      <th>marking</th>\n      <th>standing_tackle</th>\n      <th>sliding_tackle</th>\n      <th>gk_diving</th>\n      <th>gk_handling</th>\n      <th>gk_kicking</th>\n      <th>gk_positioning</th>\n      <th>gk_reflexes</th>\n    </tr>\n  </thead>\n  <tbody>\n    <tr>\n      <th>0</th>\n      <td>Aaron Appindangoye</td>\n      <td>182.88</td>\n      <td>187</td>\n      <td>23.0</td>\n      <td>505942</td>\n      <td>2016-02-18</td>\n      <td>67.0</td>\n      <td>71.0</td>\n      <td>right</td>\n      <td>medium</td>\n      <td>...</td>\n      <td>54.0</td>\n      <td>48.0</td>\n      <td>65.0</td>\n      <td>69.0</td>\n      <td>69.0</td>\n      <td>6.0</td>\n      <td>11.0</td>\n      <td>10.0</td>\n      <td>8.0</td>\n      <td>8.0</td>\n    </tr>\n    <tr>\n      <th>1</th>\n      <td>Aaron Appindangoye</td>\n      <td>182.88</td>\n      <td>187</td>\n      <td>23.0</td>\n      <td>505942</td>\n      <td>2015-11-19</td>\n      <td>67.0</td>\n      <td>71.0</td>\n      <td>right</td>\n      <td>medium</td>\n      <td>...</td>\n      <td>54.0</td>\n      <td>48.0</td>\n      <td>65.0</td>\n      <td>69.0</td>\n      <td>69.0</td>\n      <td>6.0</td>\n      <td>11.0</td>\n      <td>10.0</td>\n      <td>8.0</td>\n      <td>8.0</td>\n    </tr>\n    <tr>\n      <th>2</th>\n      <td>Aaron Appindangoye</td>\n      <td>182.88</td>\n      <td>187</td>\n      <td>23.0</td>\n      <td>505942</td>\n      <td>2015-09-21</td>\n      <td>62.0</td>\n      <td>66.0</td>\n      <td>right</td>\n      <td>medium</td>\n      <td>...</td>\n      <td>54.0</td>\n      <td>48.0</td>\n      <td>65.0</td>\n      <td>66.0</td>\n      <td>69.0</td>\n      <td>6.0</td>\n      <td>11.0</td>\n      <td>10.0</td>\n      <td>8.0</td>\n      <td>8.0</td>\n    </tr>\n    <tr>\n      <th>3</th>\n      <td>Aaron Appindangoye</td>\n      <td>182.88</td>\n      <td>187</td>\n      <td>23.0</td>\n      <td>505942</td>\n      <td>2015-03-20</td>\n      <td>61.0</td>\n      <td>65.0</td>\n      <td>right</td>\n      <td>medium</td>\n      <td>...</td>\n      <td>53.0</td>\n      <td>47.0</td>\n      <td>62.0</td>\n      <td>63.0</td>\n      <td>66.0</td>\n      <td>5.0</td>\n      <td>10.0</td>\n      <td>9.0</td>\n      <td>7.0</td>\n      <td>7.0</td>\n    </tr>\n    <tr>\n      <th>4</th>\n      <td>Aaron Appindangoye</td>\n      <td>182.88</td>\n      <td>187</td>\n      <td>14.0</td>\n      <td>505942</td>\n      <td>2007-02-22</td>\n      <td>61.0</td>\n      <td>65.0</td>\n      <td>right</td>\n      <td>medium</td>\n      <td>...</td>\n      <td>53.0</td>\n      <td>47.0</td>\n      <td>62.0</td>\n      <td>63.0</td>\n      <td>66.0</td>\n      <td>5.0</td>\n      <td>10.0</td>\n      <td>9.0</td>\n      <td>7.0</td>\n      <td>7.0</td>\n    </tr>\n    <tr>\n      <th>...</th>\n      <td>...</td>\n      <td>...</td>\n      <td>...</td>\n      <td>...</td>\n      <td>...</td>\n      <td>...</td>\n      <td>...</td>\n      <td>...</td>\n      <td>...</td>\n      <td>...</td>\n      <td>...</td>\n      <td>...</td>\n      <td>...</td>\n      <td>...</td>\n      <td>...</td>\n      <td>...</td>\n      <td>...</td>\n      <td>...</td>\n      <td>...</td>\n      <td>...</td>\n      <td>...</td>\n    </tr>\n    <tr>\n      <th>183973</th>\n      <td>Zvjezdan Misimovic</td>\n      <td>180.34</td>\n      <td>176</td>\n      <td>27.0</td>\n      <td>39902</td>\n      <td>2009-08-30</td>\n      <td>83.0</td>\n      <td>85.0</td>\n      <td>right</td>\n      <td>medium</td>\n      <td>...</td>\n      <td>88.0</td>\n      <td>83.0</td>\n      <td>22.0</td>\n      <td>31.0</td>\n      <td>30.0</td>\n      <td>9.0</td>\n      <td>20.0</td>\n      <td>84.0</td>\n      <td>20.0</td>\n      <td>20.0</td>\n    </tr>\n    <tr>\n      <th>183974</th>\n      <td>Zvjezdan Misimovic</td>\n      <td>180.34</td>\n      <td>176</td>\n      <td>26.0</td>\n      <td>39902</td>\n      <td>2009-02-22</td>\n      <td>78.0</td>\n      <td>80.0</td>\n      <td>right</td>\n      <td>medium</td>\n      <td>...</td>\n      <td>88.0</td>\n      <td>70.0</td>\n      <td>32.0</td>\n      <td>31.0</td>\n      <td>30.0</td>\n      <td>9.0</td>\n      <td>20.0</td>\n      <td>73.0</td>\n      <td>20.0</td>\n      <td>20.0</td>\n    </tr>\n    <tr>\n      <th>183975</th>\n      <td>Zvjezdan Misimovic</td>\n      <td>180.34</td>\n      <td>176</td>\n      <td>26.0</td>\n      <td>39902</td>\n      <td>2008-08-30</td>\n      <td>77.0</td>\n      <td>80.0</td>\n      <td>right</td>\n      <td>medium</td>\n      <td>...</td>\n      <td>88.0</td>\n      <td>70.0</td>\n      <td>32.0</td>\n      <td>31.0</td>\n      <td>30.0</td>\n      <td>9.0</td>\n      <td>20.0</td>\n      <td>73.0</td>\n      <td>20.0</td>\n      <td>20.0</td>\n    </tr>\n    <tr>\n      <th>183976</th>\n      <td>Zvjezdan Misimovic</td>\n      <td>180.34</td>\n      <td>176</td>\n      <td>25.0</td>\n      <td>39902</td>\n      <td>2007-08-30</td>\n      <td>78.0</td>\n      <td>81.0</td>\n      <td>right</td>\n      <td>medium</td>\n      <td>...</td>\n      <td>88.0</td>\n      <td>53.0</td>\n      <td>28.0</td>\n      <td>32.0</td>\n      <td>30.0</td>\n      <td>9.0</td>\n      <td>20.0</td>\n      <td>73.0</td>\n      <td>20.0</td>\n      <td>20.0</td>\n    </tr>\n    <tr>\n      <th>183977</th>\n      <td>Zvjezdan Misimovic</td>\n      <td>180.34</td>\n      <td>176</td>\n      <td>24.0</td>\n      <td>39902</td>\n      <td>2007-02-22</td>\n      <td>80.0</td>\n      <td>81.0</td>\n      <td>right</td>\n      <td>medium</td>\n      <td>...</td>\n      <td>88.0</td>\n      <td>53.0</td>\n      <td>38.0</td>\n      <td>32.0</td>\n      <td>30.0</td>\n      <td>9.0</td>\n      <td>9.0</td>\n      <td>78.0</td>\n      <td>7.0</td>\n      <td>15.0</td>\n    </tr>\n  </tbody>\n</table>\n<p>183978 rows × 44 columns</p>\n</div>"
     },
     "execution_count": 76,
     "metadata": {},
     "output_type": "execute_result"
    }
   ],
   "source": [
    "player_attributes"
   ]
  },
  {
   "cell_type": "markdown",
   "source": [
    "видим, что после 08го года пропущенных значений много меньше, так что далее просто ограничим наше исследование сезонами с 08/09 по 15/16"
   ],
   "metadata": {
    "collapsed": false
   },
   "id": "b7cd10ca783f4ee0"
  },
  {
   "cell_type": "code",
   "execution_count": 77,
   "id": "316e5b1f73f3a9ea",
   "metadata": {
    "ExecuteTime": {
     "end_time": "2024-05-12T17:21:08.856748400Z",
     "start_time": "2024-05-12T17:21:08.436194100Z"
    }
   },
   "outputs": [
    {
     "data": {
      "text/plain": "player_name               0\nheight                    0\nweight                    0\nage                       0\nplayer_api_id             0\ndate                      0\noverall_rating          100\npotential               100\npreferred_foot          100\nattacking_work_rate    1596\ndefensive_work_rate     100\ncrossing                100\nfinishing               100\nheading_accuracy        100\nshort_passing           100\nvolleys                1159\ndribbling               100\ncurve                  1159\nfree_kick_accuracy      100\nlong_passing            100\nball_control            100\nacceleration            100\nsprint_speed            100\nagility                1159\nreactions               100\nbalance                1159\nshot_power              100\njumping                1159\nstamina                 100\nstrength                100\nlong_shots              100\naggression              100\ninterceptions           100\npositioning             100\nvision                 1159\npenalties               100\nmarking                 100\nstanding_tackle         100\nsliding_tackle         1159\ngk_diving               100\ngk_handling             100\ngk_kicking              100\ngk_positioning          100\ngk_reflexes             100\ndtype: int64"
     },
     "execution_count": 77,
     "metadata": {},
     "output_type": "execute_result"
    }
   ],
   "source": [
    "player_attributes.loc[player_attributes['date'] > '2008-07-01'].isna().sum()"
   ]
  },
  {
   "cell_type": "code",
   "outputs": [],
   "source": [
    "player_attributes = player_attributes.loc[player_attributes['date'] > '2008-07-01'].copy()\n",
    "match = match.loc[match['date'] > '2009-07-01'].copy()"
   ],
   "metadata": {
    "collapsed": false,
    "ExecuteTime": {
     "end_time": "2024-05-12T17:21:08.970751600Z",
     "start_time": "2024-05-12T17:21:08.681536300Z"
    }
   },
   "id": "5bb471e5e9e42b03",
   "execution_count": 78
  },
  {
   "cell_type": "markdown",
   "id": "19c5fc8553c68e1d",
   "metadata": {},
   "source": [
    "как будто potential можно дропнуть"
   ]
  },
  {
   "cell_type": "code",
   "execution_count": 79,
   "id": "8e45bde3fbf50871",
   "metadata": {
    "ExecuteTime": {
     "end_time": "2024-05-12T17:21:09.186300500Z",
     "start_time": "2024-05-12T17:21:08.784856800Z"
    }
   },
   "outputs": [],
   "source": [
    "player_attributes.drop('potential', axis=1, inplace=True)"
   ]
  },
  {
   "cell_type": "markdown",
   "id": "1eea58d2be936140",
   "metadata": {},
   "source": [
    "делаем OHE для ноги"
   ]
  },
  {
   "cell_type": "code",
   "execution_count": 80,
   "id": "27c645439c460b10",
   "metadata": {
    "ExecuteTime": {
     "end_time": "2024-05-12T17:21:09.260102900Z",
     "start_time": "2024-05-12T17:21:08.837798200Z"
    }
   },
   "outputs": [
    {
     "data": {
      "text/plain": "right    126276\nleft      41055\nName: preferred_foot, dtype: int64"
     },
     "execution_count": 80,
     "metadata": {},
     "output_type": "execute_result"
    }
   ],
   "source": [
    "player_attributes['preferred_foot'].value_counts()"
   ]
  },
  {
   "cell_type": "code",
   "execution_count": 81,
   "id": "1790b13a4b79ee6e",
   "metadata": {
    "ExecuteTime": {
     "end_time": "2024-05-12T17:21:09.364505500Z",
     "start_time": "2024-05-12T17:21:08.870020100Z"
    }
   },
   "outputs": [],
   "source": [
    "player_attributes_encoded = pd.get_dummies(player_attributes['preferred_foot'],\n",
    "                                           prefix='preferred_foot')\n",
    "\n",
    "player_attributes = pd.concat([player_attributes, player_attributes_encoded], axis=1)\n",
    "\n",
    "player_attributes.drop(['preferred_foot', 'preferred_foot_left'], axis=1, inplace=True)"
   ]
  },
  {
   "cell_type": "markdown",
   "id": "844fe921f3c3520c",
   "metadata": {},
   "source": [
    "смотрим на attacking_work_rate"
   ]
  },
  {
   "cell_type": "code",
   "execution_count": 82,
   "id": "988c00b4eb7c715e",
   "metadata": {
    "ExecuteTime": {
     "end_time": "2024-05-12T17:21:09.427336800Z",
     "start_time": "2024-05-12T17:21:09.020736500Z"
    }
   },
   "outputs": [
    {
     "data": {
      "text/plain": "medium    114352\nhigh       40331\nlow         7828\nNone        2884\nnorm         234\ny             74\nle            69\nstoc          63\nName: attacking_work_rate, dtype: int64"
     },
     "execution_count": 82,
     "metadata": {},
     "output_type": "execute_result"
    }
   ],
   "source": [
    "player_attributes['attacking_work_rate'].value_counts()"
   ]
  },
  {
   "cell_type": "markdown",
   "id": "54fa35cf778f7797",
   "metadata": {},
   "source": [
    "Тут нужно кодиком АНдрюхи показать, что для адекватных значений эта штука полностью коррелирует с обычным атакрейтом и дропнуть , с дефенсрейтом тожсамое"
   ]
  },
  {
   "cell_type": "code",
   "outputs": [],
   "source": [
    "player_attributes['pace'] = 0.55 * player_attributes['sprint_speed'] + 0.45 * player_attributes['acceleration']\n",
    "player_attributes['shooting'] = 0.45 * player_attributes['finishing'] + 0.2 * player_attributes['long_shots'] + 0.2 * \\\n",
    "                                player_attributes['shot_power'] + 0.05 * player_attributes[\n",
    "                                    'positioning'] + 0.05 * player_attributes['penalties'] + 0.05 * player_attributes[\n",
    "                                    'volleys']\n",
    "player_attributes['passing'] = 0.35 * player_attributes['short_passing'] + 0.2 * player_attributes['vision'] + 0.2 * \\\n",
    "                               player_attributes['crossing'] + 0.15 * player_attributes[\n",
    "                                   'long_passing'] + 0.05 * player_attributes['curve'] + 0.05 * player_attributes[\n",
    "                                   'free_kick_accuracy']\n",
    "player_attributes['dribbling'] = 0.5 * player_attributes['dribbling'] + 0.35 * player_attributes['ball_control'] + 0.1 * \\\n",
    "                                 player_attributes['agility'] + 0.05 * player_attributes['balance']\n",
    "player_attributes['defending'] = 0.3 * player_attributes['marking'] + 0.3 * player_attributes['standing_tackle'] + 0.2 * \\\n",
    "                                 player_attributes['interceptions'] + 0.1 * player_attributes[\n",
    "                                     'heading_accuracy'] + 0.1 * player_attributes['sliding_tackle']\n",
    "player_attributes['physical'] = 0.5 * player_attributes['strength'] + 0.25 * player_attributes['stamina'] + 0.25 * \\\n",
    "                                player_attributes['aggression'] + 0.05 * player_attributes['jumping']"
   ],
   "metadata": {
    "collapsed": false,
    "ExecuteTime": {
     "end_time": "2024-05-12T17:21:09.474739200Z",
     "start_time": "2024-05-12T17:21:09.063037600Z"
    }
   },
   "id": "7253d69c7b147df8",
   "execution_count": 83
  },
  {
   "cell_type": "code",
   "execution_count": 84,
   "id": "fcb5872189f225a3",
   "metadata": {
    "ExecuteTime": {
     "end_time": "2024-05-12T17:21:09.490695800Z",
     "start_time": "2024-05-12T17:21:09.114843200Z"
    }
   },
   "outputs": [],
   "source": [
    "# player_attributes.drop('attacking_work_rate', axis=1, inplace=True)"
   ]
  },
  {
   "cell_type": "markdown",
   "id": "48e669324999413b",
   "metadata": {},
   "source": [
    "тож самое с defensive_work_rate, только тут как будто бы есть какие то данные выбивающиеся из основной массы, но нам их трудно интерпретирвоать и они находятся в подавляющем меньшинстве (еть варик сделать 0-3 -low, 4-7 - medium и тд, зодумайтесь)\n",
    "\n",
    "в конце концов дропнул"
   ]
  },
  {
   "cell_type": "code",
   "execution_count": 85,
   "id": "d10c26f23b62b72d",
   "metadata": {
    "ExecuteTime": {
     "end_time": "2024-05-12T17:21:09.496680500Z",
     "start_time": "2024-05-12T17:21:09.119616100Z"
    }
   },
   "outputs": [],
   "source": [
    "# player_attributes.drop('defensive_work_rate', axis=1, inplace=True)"
   ]
  },
  {
   "cell_type": "code",
   "execution_count": 86,
   "id": "5f7a8db61d103db2",
   "metadata": {
    "ExecuteTime": {
     "end_time": "2024-05-12T17:21:09.719321400Z",
     "start_time": "2024-05-12T17:21:09.127457100Z"
    }
   },
   "outputs": [
    {
     "data": {
      "text/plain": "               player_name  height  weight   age  player_api_id       date  \\\n0       Aaron Appindangoye  182.88     187  23.0         505942 2016-02-18   \n1       Aaron Appindangoye  182.88     187  23.0         505942 2015-11-19   \n2       Aaron Appindangoye  182.88     187  23.0         505942 2015-09-21   \n3       Aaron Appindangoye  182.88     187  23.0         505942 2015-03-20   \n5          Aaron Cresswell  170.18     146  26.0         155782 2016-04-21   \n...                    ...     ...     ...   ...            ...        ...   \n183971  Zvjezdan Misimovic  180.34     176  28.0          39902 2011-02-22   \n183972  Zvjezdan Misimovic  180.34     176  28.0          39902 2010-08-30   \n183973  Zvjezdan Misimovic  180.34     176  27.0          39902 2009-08-30   \n183974  Zvjezdan Misimovic  180.34     176  26.0          39902 2009-02-22   \n183975  Zvjezdan Misimovic  180.34     176  26.0          39902 2008-08-30   \n\n        overall_rating attacking_work_rate defensive_work_rate  crossing  ...  \\\n0                 67.0              medium              medium      49.0  ...   \n1                 67.0              medium              medium      49.0  ...   \n2                 62.0              medium              medium      49.0  ...   \n3                 61.0              medium              medium      48.0  ...   \n5                 74.0                high              medium      80.0  ...   \n...                ...                 ...                 ...       ...  ...   \n183971            81.0              medium                 low      81.0  ...   \n183972            83.0              medium                 low      84.0  ...   \n183973            83.0              medium                 low      84.0  ...   \n183974            78.0              medium                 low      74.0  ...   \n183975            77.0              medium                 low      74.0  ...   \n\n        gk_handling  gk_kicking  gk_positioning  gk_reflexes  \\\n0              11.0        10.0             8.0          8.0   \n1              11.0        10.0             8.0          8.0   \n2              11.0        10.0             8.0          8.0   \n3              10.0         9.0             7.0          7.0   \n5               7.0         9.0             9.0         12.0   \n...             ...         ...             ...          ...   \n183971         13.0         8.0            15.0          5.0   \n183972         13.0         8.0            15.0          5.0   \n183973         20.0        84.0            20.0         20.0   \n183974         20.0        73.0            20.0         20.0   \n183975         20.0        73.0            20.0         20.0   \n\n        preferred_foot_right   pace  shooting  passing  defending  physical  \n0                          1  62.20     44.65    55.75       68.2     72.15  \n1                          1  62.20     44.65    55.75       68.2     72.15  \n2                          1  62.20     44.65    55.75       61.5     70.15  \n3                          1  62.20     43.65    54.75       59.1     69.90  \n5                          0  78.45     58.40    71.20       72.3     69.00  \n...                      ...    ...       ...      ...        ...       ...  \n183971                     1  67.20     79.00    83.95       31.2     69.65  \n183972                     1  67.20     79.00    85.65       31.2     69.65  \n183973                     1  69.30     78.35    86.35       40.4     68.40  \n183974                     1  66.55     74.75    80.75       40.0     67.15  \n183975                     1  66.55     72.50    80.75       40.0     68.65  \n\n[167431 rows x 48 columns]",
      "text/html": "<div>\n<style scoped>\n    .dataframe tbody tr th:only-of-type {\n        vertical-align: middle;\n    }\n\n    .dataframe tbody tr th {\n        vertical-align: top;\n    }\n\n    .dataframe thead th {\n        text-align: right;\n    }\n</style>\n<table border=\"1\" class=\"dataframe\">\n  <thead>\n    <tr style=\"text-align: right;\">\n      <th></th>\n      <th>player_name</th>\n      <th>height</th>\n      <th>weight</th>\n      <th>age</th>\n      <th>player_api_id</th>\n      <th>date</th>\n      <th>overall_rating</th>\n      <th>attacking_work_rate</th>\n      <th>defensive_work_rate</th>\n      <th>crossing</th>\n      <th>...</th>\n      <th>gk_handling</th>\n      <th>gk_kicking</th>\n      <th>gk_positioning</th>\n      <th>gk_reflexes</th>\n      <th>preferred_foot_right</th>\n      <th>pace</th>\n      <th>shooting</th>\n      <th>passing</th>\n      <th>defending</th>\n      <th>physical</th>\n    </tr>\n  </thead>\n  <tbody>\n    <tr>\n      <th>0</th>\n      <td>Aaron Appindangoye</td>\n      <td>182.88</td>\n      <td>187</td>\n      <td>23.0</td>\n      <td>505942</td>\n      <td>2016-02-18</td>\n      <td>67.0</td>\n      <td>medium</td>\n      <td>medium</td>\n      <td>49.0</td>\n      <td>...</td>\n      <td>11.0</td>\n      <td>10.0</td>\n      <td>8.0</td>\n      <td>8.0</td>\n      <td>1</td>\n      <td>62.20</td>\n      <td>44.65</td>\n      <td>55.75</td>\n      <td>68.2</td>\n      <td>72.15</td>\n    </tr>\n    <tr>\n      <th>1</th>\n      <td>Aaron Appindangoye</td>\n      <td>182.88</td>\n      <td>187</td>\n      <td>23.0</td>\n      <td>505942</td>\n      <td>2015-11-19</td>\n      <td>67.0</td>\n      <td>medium</td>\n      <td>medium</td>\n      <td>49.0</td>\n      <td>...</td>\n      <td>11.0</td>\n      <td>10.0</td>\n      <td>8.0</td>\n      <td>8.0</td>\n      <td>1</td>\n      <td>62.20</td>\n      <td>44.65</td>\n      <td>55.75</td>\n      <td>68.2</td>\n      <td>72.15</td>\n    </tr>\n    <tr>\n      <th>2</th>\n      <td>Aaron Appindangoye</td>\n      <td>182.88</td>\n      <td>187</td>\n      <td>23.0</td>\n      <td>505942</td>\n      <td>2015-09-21</td>\n      <td>62.0</td>\n      <td>medium</td>\n      <td>medium</td>\n      <td>49.0</td>\n      <td>...</td>\n      <td>11.0</td>\n      <td>10.0</td>\n      <td>8.0</td>\n      <td>8.0</td>\n      <td>1</td>\n      <td>62.20</td>\n      <td>44.65</td>\n      <td>55.75</td>\n      <td>61.5</td>\n      <td>70.15</td>\n    </tr>\n    <tr>\n      <th>3</th>\n      <td>Aaron Appindangoye</td>\n      <td>182.88</td>\n      <td>187</td>\n      <td>23.0</td>\n      <td>505942</td>\n      <td>2015-03-20</td>\n      <td>61.0</td>\n      <td>medium</td>\n      <td>medium</td>\n      <td>48.0</td>\n      <td>...</td>\n      <td>10.0</td>\n      <td>9.0</td>\n      <td>7.0</td>\n      <td>7.0</td>\n      <td>1</td>\n      <td>62.20</td>\n      <td>43.65</td>\n      <td>54.75</td>\n      <td>59.1</td>\n      <td>69.90</td>\n    </tr>\n    <tr>\n      <th>5</th>\n      <td>Aaron Cresswell</td>\n      <td>170.18</td>\n      <td>146</td>\n      <td>26.0</td>\n      <td>155782</td>\n      <td>2016-04-21</td>\n      <td>74.0</td>\n      <td>high</td>\n      <td>medium</td>\n      <td>80.0</td>\n      <td>...</td>\n      <td>7.0</td>\n      <td>9.0</td>\n      <td>9.0</td>\n      <td>12.0</td>\n      <td>0</td>\n      <td>78.45</td>\n      <td>58.40</td>\n      <td>71.20</td>\n      <td>72.3</td>\n      <td>69.00</td>\n    </tr>\n    <tr>\n      <th>...</th>\n      <td>...</td>\n      <td>...</td>\n      <td>...</td>\n      <td>...</td>\n      <td>...</td>\n      <td>...</td>\n      <td>...</td>\n      <td>...</td>\n      <td>...</td>\n      <td>...</td>\n      <td>...</td>\n      <td>...</td>\n      <td>...</td>\n      <td>...</td>\n      <td>...</td>\n      <td>...</td>\n      <td>...</td>\n      <td>...</td>\n      <td>...</td>\n      <td>...</td>\n      <td>...</td>\n    </tr>\n    <tr>\n      <th>183971</th>\n      <td>Zvjezdan Misimovic</td>\n      <td>180.34</td>\n      <td>176</td>\n      <td>28.0</td>\n      <td>39902</td>\n      <td>2011-02-22</td>\n      <td>81.0</td>\n      <td>medium</td>\n      <td>low</td>\n      <td>81.0</td>\n      <td>...</td>\n      <td>13.0</td>\n      <td>8.0</td>\n      <td>15.0</td>\n      <td>5.0</td>\n      <td>1</td>\n      <td>67.20</td>\n      <td>79.00</td>\n      <td>83.95</td>\n      <td>31.2</td>\n      <td>69.65</td>\n    </tr>\n    <tr>\n      <th>183972</th>\n      <td>Zvjezdan Misimovic</td>\n      <td>180.34</td>\n      <td>176</td>\n      <td>28.0</td>\n      <td>39902</td>\n      <td>2010-08-30</td>\n      <td>83.0</td>\n      <td>medium</td>\n      <td>low</td>\n      <td>84.0</td>\n      <td>...</td>\n      <td>13.0</td>\n      <td>8.0</td>\n      <td>15.0</td>\n      <td>5.0</td>\n      <td>1</td>\n      <td>67.20</td>\n      <td>79.00</td>\n      <td>85.65</td>\n      <td>31.2</td>\n      <td>69.65</td>\n    </tr>\n    <tr>\n      <th>183973</th>\n      <td>Zvjezdan Misimovic</td>\n      <td>180.34</td>\n      <td>176</td>\n      <td>27.0</td>\n      <td>39902</td>\n      <td>2009-08-30</td>\n      <td>83.0</td>\n      <td>medium</td>\n      <td>low</td>\n      <td>84.0</td>\n      <td>...</td>\n      <td>20.0</td>\n      <td>84.0</td>\n      <td>20.0</td>\n      <td>20.0</td>\n      <td>1</td>\n      <td>69.30</td>\n      <td>78.35</td>\n      <td>86.35</td>\n      <td>40.4</td>\n      <td>68.40</td>\n    </tr>\n    <tr>\n      <th>183974</th>\n      <td>Zvjezdan Misimovic</td>\n      <td>180.34</td>\n      <td>176</td>\n      <td>26.0</td>\n      <td>39902</td>\n      <td>2009-02-22</td>\n      <td>78.0</td>\n      <td>medium</td>\n      <td>low</td>\n      <td>74.0</td>\n      <td>...</td>\n      <td>20.0</td>\n      <td>73.0</td>\n      <td>20.0</td>\n      <td>20.0</td>\n      <td>1</td>\n      <td>66.55</td>\n      <td>74.75</td>\n      <td>80.75</td>\n      <td>40.0</td>\n      <td>67.15</td>\n    </tr>\n    <tr>\n      <th>183975</th>\n      <td>Zvjezdan Misimovic</td>\n      <td>180.34</td>\n      <td>176</td>\n      <td>26.0</td>\n      <td>39902</td>\n      <td>2008-08-30</td>\n      <td>77.0</td>\n      <td>medium</td>\n      <td>low</td>\n      <td>74.0</td>\n      <td>...</td>\n      <td>20.0</td>\n      <td>73.0</td>\n      <td>20.0</td>\n      <td>20.0</td>\n      <td>1</td>\n      <td>66.55</td>\n      <td>72.50</td>\n      <td>80.75</td>\n      <td>40.0</td>\n      <td>68.65</td>\n    </tr>\n  </tbody>\n</table>\n<p>167431 rows × 48 columns</p>\n</div>"
     },
     "execution_count": 86,
     "metadata": {},
     "output_type": "execute_result"
    }
   ],
   "source": [
    "player_attributes"
   ]
  },
  {
   "cell_type": "markdown",
   "id": "c02ee98088a075dd",
   "metadata": {},
   "source": [
    "больше катгориальных нет, остается только кодиком андрюхи все это к божескому виду привести и объеденить все колонки, Эндрю, на тебе задача объяснить что эти формулы релевантны и имеют смысол"
   ]
  },
  {
   "cell_type": "markdown",
   "id": "fa690ff584c61436",
   "metadata": {},
   "source": [
    "теперь сделаем фреймы с атрибутами вратарей и полевых"
   ]
  },
  {
   "cell_type": "code",
   "execution_count": 87,
   "id": "cc5e70a4b7dd18e7",
   "metadata": {
    "ExecuteTime": {
     "end_time": "2024-05-12T17:21:09.749287600Z",
     "start_time": "2024-05-12T17:21:09.278747Z"
    }
   },
   "outputs": [],
   "source": [
    "gk_attributes = player_attributes[player_attributes['player_api_id'].isin(goalkeepers)].copy()"
   ]
  },
  {
   "cell_type": "code",
   "execution_count": 88,
   "id": "43fe6558c16807bf",
   "metadata": {
    "ExecuteTime": {
     "end_time": "2024-05-12T17:21:09.799155800Z",
     "start_time": "2024-05-12T17:21:09.366500Z"
    }
   },
   "outputs": [],
   "source": [
    "fl_attributes = player_attributes[player_attributes['player_api_id'].isin(fielders)].copy()"
   ]
  },
  {
   "cell_type": "code",
   "execution_count": 89,
   "id": "123a8a459be6a70",
   "metadata": {
    "ExecuteTime": {
     "end_time": "2024-05-12T17:21:09.857001200Z",
     "start_time": "2024-05-12T17:21:09.452797400Z"
    }
   },
   "outputs": [
    {
     "data": {
      "text/plain": "               player_name  height  weight   age  player_api_id       date  \\\n0       Aaron Appindangoye  182.88     187  23.0         505942 2016-02-18   \n1       Aaron Appindangoye  182.88     187  23.0         505942 2015-11-19   \n2       Aaron Appindangoye  182.88     187  23.0         505942 2015-09-21   \n3       Aaron Appindangoye  182.88     187  23.0         505942 2015-03-20   \n5          Aaron Cresswell  170.18     146  26.0         155782 2016-04-21   \n...                    ...     ...     ...   ...            ...        ...   \n183971  Zvjezdan Misimovic  180.34     176  28.0          39902 2011-02-22   \n183972  Zvjezdan Misimovic  180.34     176  28.0          39902 2010-08-30   \n183973  Zvjezdan Misimovic  180.34     176  27.0          39902 2009-08-30   \n183974  Zvjezdan Misimovic  180.34     176  26.0          39902 2009-02-22   \n183975  Zvjezdan Misimovic  180.34     176  26.0          39902 2008-08-30   \n\n        overall_rating attacking_work_rate defensive_work_rate  crossing  ...  \\\n0                 67.0              medium              medium      49.0  ...   \n1                 67.0              medium              medium      49.0  ...   \n2                 62.0              medium              medium      49.0  ...   \n3                 61.0              medium              medium      48.0  ...   \n5                 74.0                high              medium      80.0  ...   \n...                ...                 ...                 ...       ...  ...   \n183971            81.0              medium                 low      81.0  ...   \n183972            83.0              medium                 low      84.0  ...   \n183973            83.0              medium                 low      84.0  ...   \n183974            78.0              medium                 low      74.0  ...   \n183975            77.0              medium                 low      74.0  ...   \n\n        gk_handling  gk_kicking  gk_positioning  gk_reflexes  \\\n0              11.0        10.0             8.0          8.0   \n1              11.0        10.0             8.0          8.0   \n2              11.0        10.0             8.0          8.0   \n3              10.0         9.0             7.0          7.0   \n5               7.0         9.0             9.0         12.0   \n...             ...         ...             ...          ...   \n183971         13.0         8.0            15.0          5.0   \n183972         13.0         8.0            15.0          5.0   \n183973         20.0        84.0            20.0         20.0   \n183974         20.0        73.0            20.0         20.0   \n183975         20.0        73.0            20.0         20.0   \n\n        preferred_foot_right   pace  shooting  passing  defending  physical  \n0                          1  62.20     44.65    55.75       68.2     72.15  \n1                          1  62.20     44.65    55.75       68.2     72.15  \n2                          1  62.20     44.65    55.75       61.5     70.15  \n3                          1  62.20     43.65    54.75       59.1     69.90  \n5                          0  78.45     58.40    71.20       72.3     69.00  \n...                      ...    ...       ...      ...        ...       ...  \n183971                     1  67.20     79.00    83.95       31.2     69.65  \n183972                     1  67.20     79.00    85.65       31.2     69.65  \n183973                     1  69.30     78.35    86.35       40.4     68.40  \n183974                     1  66.55     74.75    80.75       40.0     67.15  \n183975                     1  66.55     72.50    80.75       40.0     68.65  \n\n[154231 rows x 48 columns]",
      "text/html": "<div>\n<style scoped>\n    .dataframe tbody tr th:only-of-type {\n        vertical-align: middle;\n    }\n\n    .dataframe tbody tr th {\n        vertical-align: top;\n    }\n\n    .dataframe thead th {\n        text-align: right;\n    }\n</style>\n<table border=\"1\" class=\"dataframe\">\n  <thead>\n    <tr style=\"text-align: right;\">\n      <th></th>\n      <th>player_name</th>\n      <th>height</th>\n      <th>weight</th>\n      <th>age</th>\n      <th>player_api_id</th>\n      <th>date</th>\n      <th>overall_rating</th>\n      <th>attacking_work_rate</th>\n      <th>defensive_work_rate</th>\n      <th>crossing</th>\n      <th>...</th>\n      <th>gk_handling</th>\n      <th>gk_kicking</th>\n      <th>gk_positioning</th>\n      <th>gk_reflexes</th>\n      <th>preferred_foot_right</th>\n      <th>pace</th>\n      <th>shooting</th>\n      <th>passing</th>\n      <th>defending</th>\n      <th>physical</th>\n    </tr>\n  </thead>\n  <tbody>\n    <tr>\n      <th>0</th>\n      <td>Aaron Appindangoye</td>\n      <td>182.88</td>\n      <td>187</td>\n      <td>23.0</td>\n      <td>505942</td>\n      <td>2016-02-18</td>\n      <td>67.0</td>\n      <td>medium</td>\n      <td>medium</td>\n      <td>49.0</td>\n      <td>...</td>\n      <td>11.0</td>\n      <td>10.0</td>\n      <td>8.0</td>\n      <td>8.0</td>\n      <td>1</td>\n      <td>62.20</td>\n      <td>44.65</td>\n      <td>55.75</td>\n      <td>68.2</td>\n      <td>72.15</td>\n    </tr>\n    <tr>\n      <th>1</th>\n      <td>Aaron Appindangoye</td>\n      <td>182.88</td>\n      <td>187</td>\n      <td>23.0</td>\n      <td>505942</td>\n      <td>2015-11-19</td>\n      <td>67.0</td>\n      <td>medium</td>\n      <td>medium</td>\n      <td>49.0</td>\n      <td>...</td>\n      <td>11.0</td>\n      <td>10.0</td>\n      <td>8.0</td>\n      <td>8.0</td>\n      <td>1</td>\n      <td>62.20</td>\n      <td>44.65</td>\n      <td>55.75</td>\n      <td>68.2</td>\n      <td>72.15</td>\n    </tr>\n    <tr>\n      <th>2</th>\n      <td>Aaron Appindangoye</td>\n      <td>182.88</td>\n      <td>187</td>\n      <td>23.0</td>\n      <td>505942</td>\n      <td>2015-09-21</td>\n      <td>62.0</td>\n      <td>medium</td>\n      <td>medium</td>\n      <td>49.0</td>\n      <td>...</td>\n      <td>11.0</td>\n      <td>10.0</td>\n      <td>8.0</td>\n      <td>8.0</td>\n      <td>1</td>\n      <td>62.20</td>\n      <td>44.65</td>\n      <td>55.75</td>\n      <td>61.5</td>\n      <td>70.15</td>\n    </tr>\n    <tr>\n      <th>3</th>\n      <td>Aaron Appindangoye</td>\n      <td>182.88</td>\n      <td>187</td>\n      <td>23.0</td>\n      <td>505942</td>\n      <td>2015-03-20</td>\n      <td>61.0</td>\n      <td>medium</td>\n      <td>medium</td>\n      <td>48.0</td>\n      <td>...</td>\n      <td>10.0</td>\n      <td>9.0</td>\n      <td>7.0</td>\n      <td>7.0</td>\n      <td>1</td>\n      <td>62.20</td>\n      <td>43.65</td>\n      <td>54.75</td>\n      <td>59.1</td>\n      <td>69.90</td>\n    </tr>\n    <tr>\n      <th>5</th>\n      <td>Aaron Cresswell</td>\n      <td>170.18</td>\n      <td>146</td>\n      <td>26.0</td>\n      <td>155782</td>\n      <td>2016-04-21</td>\n      <td>74.0</td>\n      <td>high</td>\n      <td>medium</td>\n      <td>80.0</td>\n      <td>...</td>\n      <td>7.0</td>\n      <td>9.0</td>\n      <td>9.0</td>\n      <td>12.0</td>\n      <td>0</td>\n      <td>78.45</td>\n      <td>58.40</td>\n      <td>71.20</td>\n      <td>72.3</td>\n      <td>69.00</td>\n    </tr>\n    <tr>\n      <th>...</th>\n      <td>...</td>\n      <td>...</td>\n      <td>...</td>\n      <td>...</td>\n      <td>...</td>\n      <td>...</td>\n      <td>...</td>\n      <td>...</td>\n      <td>...</td>\n      <td>...</td>\n      <td>...</td>\n      <td>...</td>\n      <td>...</td>\n      <td>...</td>\n      <td>...</td>\n      <td>...</td>\n      <td>...</td>\n      <td>...</td>\n      <td>...</td>\n      <td>...</td>\n      <td>...</td>\n    </tr>\n    <tr>\n      <th>183971</th>\n      <td>Zvjezdan Misimovic</td>\n      <td>180.34</td>\n      <td>176</td>\n      <td>28.0</td>\n      <td>39902</td>\n      <td>2011-02-22</td>\n      <td>81.0</td>\n      <td>medium</td>\n      <td>low</td>\n      <td>81.0</td>\n      <td>...</td>\n      <td>13.0</td>\n      <td>8.0</td>\n      <td>15.0</td>\n      <td>5.0</td>\n      <td>1</td>\n      <td>67.20</td>\n      <td>79.00</td>\n      <td>83.95</td>\n      <td>31.2</td>\n      <td>69.65</td>\n    </tr>\n    <tr>\n      <th>183972</th>\n      <td>Zvjezdan Misimovic</td>\n      <td>180.34</td>\n      <td>176</td>\n      <td>28.0</td>\n      <td>39902</td>\n      <td>2010-08-30</td>\n      <td>83.0</td>\n      <td>medium</td>\n      <td>low</td>\n      <td>84.0</td>\n      <td>...</td>\n      <td>13.0</td>\n      <td>8.0</td>\n      <td>15.0</td>\n      <td>5.0</td>\n      <td>1</td>\n      <td>67.20</td>\n      <td>79.00</td>\n      <td>85.65</td>\n      <td>31.2</td>\n      <td>69.65</td>\n    </tr>\n    <tr>\n      <th>183973</th>\n      <td>Zvjezdan Misimovic</td>\n      <td>180.34</td>\n      <td>176</td>\n      <td>27.0</td>\n      <td>39902</td>\n      <td>2009-08-30</td>\n      <td>83.0</td>\n      <td>medium</td>\n      <td>low</td>\n      <td>84.0</td>\n      <td>...</td>\n      <td>20.0</td>\n      <td>84.0</td>\n      <td>20.0</td>\n      <td>20.0</td>\n      <td>1</td>\n      <td>69.30</td>\n      <td>78.35</td>\n      <td>86.35</td>\n      <td>40.4</td>\n      <td>68.40</td>\n    </tr>\n    <tr>\n      <th>183974</th>\n      <td>Zvjezdan Misimovic</td>\n      <td>180.34</td>\n      <td>176</td>\n      <td>26.0</td>\n      <td>39902</td>\n      <td>2009-02-22</td>\n      <td>78.0</td>\n      <td>medium</td>\n      <td>low</td>\n      <td>74.0</td>\n      <td>...</td>\n      <td>20.0</td>\n      <td>73.0</td>\n      <td>20.0</td>\n      <td>20.0</td>\n      <td>1</td>\n      <td>66.55</td>\n      <td>74.75</td>\n      <td>80.75</td>\n      <td>40.0</td>\n      <td>67.15</td>\n    </tr>\n    <tr>\n      <th>183975</th>\n      <td>Zvjezdan Misimovic</td>\n      <td>180.34</td>\n      <td>176</td>\n      <td>26.0</td>\n      <td>39902</td>\n      <td>2008-08-30</td>\n      <td>77.0</td>\n      <td>medium</td>\n      <td>low</td>\n      <td>74.0</td>\n      <td>...</td>\n      <td>20.0</td>\n      <td>73.0</td>\n      <td>20.0</td>\n      <td>20.0</td>\n      <td>1</td>\n      <td>66.55</td>\n      <td>72.50</td>\n      <td>80.75</td>\n      <td>40.0</td>\n      <td>68.65</td>\n    </tr>\n  </tbody>\n</table>\n<p>154231 rows × 48 columns</p>\n</div>"
     },
     "execution_count": 89,
     "metadata": {},
     "output_type": "execute_result"
    }
   ],
   "source": [
    "fl_attributes"
   ]
  },
  {
   "cell_type": "code",
   "execution_count": 90,
   "id": "74a5fbfd3ae15a8e",
   "metadata": {
    "ExecuteTime": {
     "end_time": "2024-05-12T17:21:10.058460900Z",
     "start_time": "2024-05-12T17:21:09.572638200Z"
    }
   },
   "outputs": [
    {
     "data": {
      "text/plain": "         player_name  height  weight   age  player_api_id       date  \\\n172     Aaron Lennox  190.50     181  23.0         528212 2016-02-25   \n173     Aaron Lennox  190.50     181  22.0         528212 2016-01-28   \n174     Aaron Lennox  190.50     181  21.0         528212 2014-12-27   \n175     Aaron Lennox  190.50     181  21.0         528212 2014-10-31   \n176     Aaron Lennox  190.50     181  21.0         528212 2014-10-10   \n...              ...     ...     ...   ...            ...        ...   \n183531  Zeljko Brkic  198.12     209  26.0         157284 2013-02-15   \n183532  Zeljko Brkic  198.12     209  26.0         157284 2012-08-31   \n183533  Zeljko Brkic  198.12     209  25.0         157284 2011-08-30   \n183535  Zeljko Kalac  203.20     209  36.0          30850 2009-02-22   \n183536  Zeljko Kalac  203.20     209  35.0          30850 2008-08-30   \n\n        overall_rating attacking_work_rate defensive_work_rate  crossing  ...  \\\n172               48.0              medium              medium      12.0  ...   \n173               48.0              medium              medium      12.0  ...   \n174               48.0              medium              medium      12.0  ...   \n175               48.0              medium              medium      12.0  ...   \n176               48.0              medium              medium      12.0  ...   \n...                ...                 ...                 ...       ...  ...   \n183531            78.0              medium              medium      12.0  ...   \n183532            76.0              medium              medium      12.0  ...   \n183533            71.0              medium              medium      12.0  ...   \n183535            73.0                None                   o      20.0  ...   \n183536            77.0                None                   o      20.0  ...   \n\n        gk_handling  gk_kicking  gk_positioning  gk_reflexes  \\\n172            41.0        39.0            51.0         53.0   \n173            41.0        39.0            51.0         53.0   \n174            41.0        39.0            51.0         53.0   \n175            41.0        39.0            51.0         53.0   \n176            41.0        39.0            51.0         53.0   \n...             ...         ...             ...          ...   \n183531         74.0        55.0            82.0         80.0   \n183532         76.0        51.0            78.0         78.0   \n183533         72.0        73.0            64.0         78.0   \n183535         73.0        71.0            73.0         75.0   \n183536         75.0        78.0            73.0         78.0   \n\n        preferred_foot_right   pace  shooting  passing  defending  physical  \n172                        1  21.05     17.80    17.75       15.6     33.65  \n173                        1  21.05     17.80    17.75       15.6     33.65  \n174                        1  21.05     17.80    17.75       15.6     33.65  \n175                        1  21.05     17.80    17.75       15.6     33.65  \n176                        1  21.05     17.80    17.75       15.6     33.65  \n...                      ...    ...       ...      ...        ...       ...  \n183531                     1  54.45     18.10    26.55       15.4     63.65  \n183532                     1  54.45     18.10    26.55       15.4     63.65  \n183533                     1  59.40     20.25    27.00       12.7     70.75  \n183535                     1  44.30       NaN      NaN        NaN       NaN  \n183536                     1  44.30       NaN      NaN        NaN       NaN  \n\n[13784 rows x 48 columns]",
      "text/html": "<div>\n<style scoped>\n    .dataframe tbody tr th:only-of-type {\n        vertical-align: middle;\n    }\n\n    .dataframe tbody tr th {\n        vertical-align: top;\n    }\n\n    .dataframe thead th {\n        text-align: right;\n    }\n</style>\n<table border=\"1\" class=\"dataframe\">\n  <thead>\n    <tr style=\"text-align: right;\">\n      <th></th>\n      <th>player_name</th>\n      <th>height</th>\n      <th>weight</th>\n      <th>age</th>\n      <th>player_api_id</th>\n      <th>date</th>\n      <th>overall_rating</th>\n      <th>attacking_work_rate</th>\n      <th>defensive_work_rate</th>\n      <th>crossing</th>\n      <th>...</th>\n      <th>gk_handling</th>\n      <th>gk_kicking</th>\n      <th>gk_positioning</th>\n      <th>gk_reflexes</th>\n      <th>preferred_foot_right</th>\n      <th>pace</th>\n      <th>shooting</th>\n      <th>passing</th>\n      <th>defending</th>\n      <th>physical</th>\n    </tr>\n  </thead>\n  <tbody>\n    <tr>\n      <th>172</th>\n      <td>Aaron Lennox</td>\n      <td>190.50</td>\n      <td>181</td>\n      <td>23.0</td>\n      <td>528212</td>\n      <td>2016-02-25</td>\n      <td>48.0</td>\n      <td>medium</td>\n      <td>medium</td>\n      <td>12.0</td>\n      <td>...</td>\n      <td>41.0</td>\n      <td>39.0</td>\n      <td>51.0</td>\n      <td>53.0</td>\n      <td>1</td>\n      <td>21.05</td>\n      <td>17.80</td>\n      <td>17.75</td>\n      <td>15.6</td>\n      <td>33.65</td>\n    </tr>\n    <tr>\n      <th>173</th>\n      <td>Aaron Lennox</td>\n      <td>190.50</td>\n      <td>181</td>\n      <td>22.0</td>\n      <td>528212</td>\n      <td>2016-01-28</td>\n      <td>48.0</td>\n      <td>medium</td>\n      <td>medium</td>\n      <td>12.0</td>\n      <td>...</td>\n      <td>41.0</td>\n      <td>39.0</td>\n      <td>51.0</td>\n      <td>53.0</td>\n      <td>1</td>\n      <td>21.05</td>\n      <td>17.80</td>\n      <td>17.75</td>\n      <td>15.6</td>\n      <td>33.65</td>\n    </tr>\n    <tr>\n      <th>174</th>\n      <td>Aaron Lennox</td>\n      <td>190.50</td>\n      <td>181</td>\n      <td>21.0</td>\n      <td>528212</td>\n      <td>2014-12-27</td>\n      <td>48.0</td>\n      <td>medium</td>\n      <td>medium</td>\n      <td>12.0</td>\n      <td>...</td>\n      <td>41.0</td>\n      <td>39.0</td>\n      <td>51.0</td>\n      <td>53.0</td>\n      <td>1</td>\n      <td>21.05</td>\n      <td>17.80</td>\n      <td>17.75</td>\n      <td>15.6</td>\n      <td>33.65</td>\n    </tr>\n    <tr>\n      <th>175</th>\n      <td>Aaron Lennox</td>\n      <td>190.50</td>\n      <td>181</td>\n      <td>21.0</td>\n      <td>528212</td>\n      <td>2014-10-31</td>\n      <td>48.0</td>\n      <td>medium</td>\n      <td>medium</td>\n      <td>12.0</td>\n      <td>...</td>\n      <td>41.0</td>\n      <td>39.0</td>\n      <td>51.0</td>\n      <td>53.0</td>\n      <td>1</td>\n      <td>21.05</td>\n      <td>17.80</td>\n      <td>17.75</td>\n      <td>15.6</td>\n      <td>33.65</td>\n    </tr>\n    <tr>\n      <th>176</th>\n      <td>Aaron Lennox</td>\n      <td>190.50</td>\n      <td>181</td>\n      <td>21.0</td>\n      <td>528212</td>\n      <td>2014-10-10</td>\n      <td>48.0</td>\n      <td>medium</td>\n      <td>medium</td>\n      <td>12.0</td>\n      <td>...</td>\n      <td>41.0</td>\n      <td>39.0</td>\n      <td>51.0</td>\n      <td>53.0</td>\n      <td>1</td>\n      <td>21.05</td>\n      <td>17.80</td>\n      <td>17.75</td>\n      <td>15.6</td>\n      <td>33.65</td>\n    </tr>\n    <tr>\n      <th>...</th>\n      <td>...</td>\n      <td>...</td>\n      <td>...</td>\n      <td>...</td>\n      <td>...</td>\n      <td>...</td>\n      <td>...</td>\n      <td>...</td>\n      <td>...</td>\n      <td>...</td>\n      <td>...</td>\n      <td>...</td>\n      <td>...</td>\n      <td>...</td>\n      <td>...</td>\n      <td>...</td>\n      <td>...</td>\n      <td>...</td>\n      <td>...</td>\n      <td>...</td>\n      <td>...</td>\n    </tr>\n    <tr>\n      <th>183531</th>\n      <td>Zeljko Brkic</td>\n      <td>198.12</td>\n      <td>209</td>\n      <td>26.0</td>\n      <td>157284</td>\n      <td>2013-02-15</td>\n      <td>78.0</td>\n      <td>medium</td>\n      <td>medium</td>\n      <td>12.0</td>\n      <td>...</td>\n      <td>74.0</td>\n      <td>55.0</td>\n      <td>82.0</td>\n      <td>80.0</td>\n      <td>1</td>\n      <td>54.45</td>\n      <td>18.10</td>\n      <td>26.55</td>\n      <td>15.4</td>\n      <td>63.65</td>\n    </tr>\n    <tr>\n      <th>183532</th>\n      <td>Zeljko Brkic</td>\n      <td>198.12</td>\n      <td>209</td>\n      <td>26.0</td>\n      <td>157284</td>\n      <td>2012-08-31</td>\n      <td>76.0</td>\n      <td>medium</td>\n      <td>medium</td>\n      <td>12.0</td>\n      <td>...</td>\n      <td>76.0</td>\n      <td>51.0</td>\n      <td>78.0</td>\n      <td>78.0</td>\n      <td>1</td>\n      <td>54.45</td>\n      <td>18.10</td>\n      <td>26.55</td>\n      <td>15.4</td>\n      <td>63.65</td>\n    </tr>\n    <tr>\n      <th>183533</th>\n      <td>Zeljko Brkic</td>\n      <td>198.12</td>\n      <td>209</td>\n      <td>25.0</td>\n      <td>157284</td>\n      <td>2011-08-30</td>\n      <td>71.0</td>\n      <td>medium</td>\n      <td>medium</td>\n      <td>12.0</td>\n      <td>...</td>\n      <td>72.0</td>\n      <td>73.0</td>\n      <td>64.0</td>\n      <td>78.0</td>\n      <td>1</td>\n      <td>59.40</td>\n      <td>20.25</td>\n      <td>27.00</td>\n      <td>12.7</td>\n      <td>70.75</td>\n    </tr>\n    <tr>\n      <th>183535</th>\n      <td>Zeljko Kalac</td>\n      <td>203.20</td>\n      <td>209</td>\n      <td>36.0</td>\n      <td>30850</td>\n      <td>2009-02-22</td>\n      <td>73.0</td>\n      <td>None</td>\n      <td>o</td>\n      <td>20.0</td>\n      <td>...</td>\n      <td>73.0</td>\n      <td>71.0</td>\n      <td>73.0</td>\n      <td>75.0</td>\n      <td>1</td>\n      <td>44.30</td>\n      <td>NaN</td>\n      <td>NaN</td>\n      <td>NaN</td>\n      <td>NaN</td>\n    </tr>\n    <tr>\n      <th>183536</th>\n      <td>Zeljko Kalac</td>\n      <td>203.20</td>\n      <td>209</td>\n      <td>35.0</td>\n      <td>30850</td>\n      <td>2008-08-30</td>\n      <td>77.0</td>\n      <td>None</td>\n      <td>o</td>\n      <td>20.0</td>\n      <td>...</td>\n      <td>75.0</td>\n      <td>78.0</td>\n      <td>73.0</td>\n      <td>78.0</td>\n      <td>1</td>\n      <td>44.30</td>\n      <td>NaN</td>\n      <td>NaN</td>\n      <td>NaN</td>\n      <td>NaN</td>\n    </tr>\n  </tbody>\n</table>\n<p>13784 rows × 48 columns</p>\n</div>"
     },
     "execution_count": 90,
     "metadata": {},
     "output_type": "execute_result"
    }
   ],
   "source": [
    "gk_attributes"
   ]
  },
  {
   "cell_type": "markdown",
   "id": "172dcca7daa469fb",
   "metadata": {},
   "source": [
    "как то надо придумать какие параметры важны для голкиперов, очевидно не только те чт с пометкой gk"
   ]
  },
  {
   "cell_type": "code",
   "execution_count": 91,
   "id": "dd638a0e679590c0",
   "metadata": {
    "ExecuteTime": {
     "end_time": "2024-05-12T17:21:10.143233600Z",
     "start_time": "2024-05-12T17:21:09.608452Z"
    }
   },
   "outputs": [],
   "source": [
    "columns_gk = ['player_name', 'height', 'weight', 'age', 'player_api_id', 'date', 'overall_rating', 'sprint_speed',\n",
    "              'gk_diving', 'gk_handling', 'gk_kicking', 'gk_positioning', 'gk_reflexes']\n",
    "gk_attributes.drop(gk_attributes.columns.difference(columns_gk), axis=1, inplace=True)"
   ]
  },
  {
   "cell_type": "code",
   "outputs": [],
   "source": [
    "columns_fl = ['player_name', 'height', 'weight', 'age', 'player_api_id', 'date', 'overall_rating', 'pace',\n",
    "              'shooting', 'passing', 'dribbling', 'defending', 'physical', 'preferred_foot_right']\n",
    "fl_attributes.drop(fl_attributes.columns.difference(columns_fl), axis=1, inplace=True)"
   ],
   "metadata": {
    "collapsed": false,
    "ExecuteTime": {
     "end_time": "2024-05-12T17:21:10.183127300Z",
     "start_time": "2024-05-12T17:21:09.614565100Z"
    }
   },
   "id": "a103bd1c08c8b610",
   "execution_count": 92
  },
  {
   "cell_type": "code",
   "outputs": [
    {
     "data": {
      "text/plain": "               player_name  height  weight   age  player_api_id       date  \\\n0       Aaron Appindangoye  182.88     187  23.0         505942 2016-02-18   \n1       Aaron Appindangoye  182.88     187  23.0         505942 2015-11-19   \n2       Aaron Appindangoye  182.88     187  23.0         505942 2015-09-21   \n3       Aaron Appindangoye  182.88     187  23.0         505942 2015-03-20   \n5          Aaron Cresswell  170.18     146  26.0         155782 2016-04-21   \n...                    ...     ...     ...   ...            ...        ...   \n183971  Zvjezdan Misimovic  180.34     176  28.0          39902 2011-02-22   \n183972  Zvjezdan Misimovic  180.34     176  28.0          39902 2010-08-30   \n183973  Zvjezdan Misimovic  180.34     176  27.0          39902 2009-08-30   \n183974  Zvjezdan Misimovic  180.34     176  26.0          39902 2009-02-22   \n183975  Zvjezdan Misimovic  180.34     176  26.0          39902 2008-08-30   \n\n        overall_rating  dribbling  preferred_foot_right   pace  shooting  \\\n0                 67.0      51.80                     1  62.20     44.65   \n1                 67.0      51.80                     1  62.20     44.65   \n2                 62.0      51.80                     1  62.20     44.65   \n3                 61.0      50.95                     1  62.20     43.65   \n5                 74.0      73.65                     0  78.45     58.40   \n...                ...        ...                   ...    ...       ...   \n183971            81.0      80.75                     1  67.20     79.00   \n183972            83.0      83.10                     1  67.20     79.00   \n183973            83.0      83.10                     1  69.30     78.35   \n183974            78.0      83.95                     1  66.55     74.75   \n183975            77.0      83.95                     1  66.55     72.50   \n\n        passing  defending  physical  \n0         55.75       68.2     72.15  \n1         55.75       68.2     72.15  \n2         55.75       61.5     70.15  \n3         54.75       59.1     69.90  \n5         71.20       72.3     69.00  \n...         ...        ...       ...  \n183971    83.95       31.2     69.65  \n183972    85.65       31.2     69.65  \n183973    86.35       40.4     68.40  \n183974    80.75       40.0     67.15  \n183975    80.75       40.0     68.65  \n\n[154231 rows x 14 columns]",
      "text/html": "<div>\n<style scoped>\n    .dataframe tbody tr th:only-of-type {\n        vertical-align: middle;\n    }\n\n    .dataframe tbody tr th {\n        vertical-align: top;\n    }\n\n    .dataframe thead th {\n        text-align: right;\n    }\n</style>\n<table border=\"1\" class=\"dataframe\">\n  <thead>\n    <tr style=\"text-align: right;\">\n      <th></th>\n      <th>player_name</th>\n      <th>height</th>\n      <th>weight</th>\n      <th>age</th>\n      <th>player_api_id</th>\n      <th>date</th>\n      <th>overall_rating</th>\n      <th>dribbling</th>\n      <th>preferred_foot_right</th>\n      <th>pace</th>\n      <th>shooting</th>\n      <th>passing</th>\n      <th>defending</th>\n      <th>physical</th>\n    </tr>\n  </thead>\n  <tbody>\n    <tr>\n      <th>0</th>\n      <td>Aaron Appindangoye</td>\n      <td>182.88</td>\n      <td>187</td>\n      <td>23.0</td>\n      <td>505942</td>\n      <td>2016-02-18</td>\n      <td>67.0</td>\n      <td>51.80</td>\n      <td>1</td>\n      <td>62.20</td>\n      <td>44.65</td>\n      <td>55.75</td>\n      <td>68.2</td>\n      <td>72.15</td>\n    </tr>\n    <tr>\n      <th>1</th>\n      <td>Aaron Appindangoye</td>\n      <td>182.88</td>\n      <td>187</td>\n      <td>23.0</td>\n      <td>505942</td>\n      <td>2015-11-19</td>\n      <td>67.0</td>\n      <td>51.80</td>\n      <td>1</td>\n      <td>62.20</td>\n      <td>44.65</td>\n      <td>55.75</td>\n      <td>68.2</td>\n      <td>72.15</td>\n    </tr>\n    <tr>\n      <th>2</th>\n      <td>Aaron Appindangoye</td>\n      <td>182.88</td>\n      <td>187</td>\n      <td>23.0</td>\n      <td>505942</td>\n      <td>2015-09-21</td>\n      <td>62.0</td>\n      <td>51.80</td>\n      <td>1</td>\n      <td>62.20</td>\n      <td>44.65</td>\n      <td>55.75</td>\n      <td>61.5</td>\n      <td>70.15</td>\n    </tr>\n    <tr>\n      <th>3</th>\n      <td>Aaron Appindangoye</td>\n      <td>182.88</td>\n      <td>187</td>\n      <td>23.0</td>\n      <td>505942</td>\n      <td>2015-03-20</td>\n      <td>61.0</td>\n      <td>50.95</td>\n      <td>1</td>\n      <td>62.20</td>\n      <td>43.65</td>\n      <td>54.75</td>\n      <td>59.1</td>\n      <td>69.90</td>\n    </tr>\n    <tr>\n      <th>5</th>\n      <td>Aaron Cresswell</td>\n      <td>170.18</td>\n      <td>146</td>\n      <td>26.0</td>\n      <td>155782</td>\n      <td>2016-04-21</td>\n      <td>74.0</td>\n      <td>73.65</td>\n      <td>0</td>\n      <td>78.45</td>\n      <td>58.40</td>\n      <td>71.20</td>\n      <td>72.3</td>\n      <td>69.00</td>\n    </tr>\n    <tr>\n      <th>...</th>\n      <td>...</td>\n      <td>...</td>\n      <td>...</td>\n      <td>...</td>\n      <td>...</td>\n      <td>...</td>\n      <td>...</td>\n      <td>...</td>\n      <td>...</td>\n      <td>...</td>\n      <td>...</td>\n      <td>...</td>\n      <td>...</td>\n      <td>...</td>\n    </tr>\n    <tr>\n      <th>183971</th>\n      <td>Zvjezdan Misimovic</td>\n      <td>180.34</td>\n      <td>176</td>\n      <td>28.0</td>\n      <td>39902</td>\n      <td>2011-02-22</td>\n      <td>81.0</td>\n      <td>80.75</td>\n      <td>1</td>\n      <td>67.20</td>\n      <td>79.00</td>\n      <td>83.95</td>\n      <td>31.2</td>\n      <td>69.65</td>\n    </tr>\n    <tr>\n      <th>183972</th>\n      <td>Zvjezdan Misimovic</td>\n      <td>180.34</td>\n      <td>176</td>\n      <td>28.0</td>\n      <td>39902</td>\n      <td>2010-08-30</td>\n      <td>83.0</td>\n      <td>83.10</td>\n      <td>1</td>\n      <td>67.20</td>\n      <td>79.00</td>\n      <td>85.65</td>\n      <td>31.2</td>\n      <td>69.65</td>\n    </tr>\n    <tr>\n      <th>183973</th>\n      <td>Zvjezdan Misimovic</td>\n      <td>180.34</td>\n      <td>176</td>\n      <td>27.0</td>\n      <td>39902</td>\n      <td>2009-08-30</td>\n      <td>83.0</td>\n      <td>83.10</td>\n      <td>1</td>\n      <td>69.30</td>\n      <td>78.35</td>\n      <td>86.35</td>\n      <td>40.4</td>\n      <td>68.40</td>\n    </tr>\n    <tr>\n      <th>183974</th>\n      <td>Zvjezdan Misimovic</td>\n      <td>180.34</td>\n      <td>176</td>\n      <td>26.0</td>\n      <td>39902</td>\n      <td>2009-02-22</td>\n      <td>78.0</td>\n      <td>83.95</td>\n      <td>1</td>\n      <td>66.55</td>\n      <td>74.75</td>\n      <td>80.75</td>\n      <td>40.0</td>\n      <td>67.15</td>\n    </tr>\n    <tr>\n      <th>183975</th>\n      <td>Zvjezdan Misimovic</td>\n      <td>180.34</td>\n      <td>176</td>\n      <td>26.0</td>\n      <td>39902</td>\n      <td>2008-08-30</td>\n      <td>77.0</td>\n      <td>83.95</td>\n      <td>1</td>\n      <td>66.55</td>\n      <td>72.50</td>\n      <td>80.75</td>\n      <td>40.0</td>\n      <td>68.65</td>\n    </tr>\n  </tbody>\n</table>\n<p>154231 rows × 14 columns</p>\n</div>"
     },
     "execution_count": 93,
     "metadata": {},
     "output_type": "execute_result"
    }
   ],
   "source": [
    "fl_attributes"
   ],
   "metadata": {
    "collapsed": false,
    "ExecuteTime": {
     "end_time": "2024-05-12T17:21:10.194099300Z",
     "start_time": "2024-05-12T17:21:09.639751500Z"
    }
   },
   "id": "af60bad7be14bb2a",
   "execution_count": 93
  },
  {
   "cell_type": "markdown",
   "id": "2fb7955d5b76c04f",
   "metadata": {},
   "source": [
    "думаю будем делать все как тут https://fifarus.ru/fifa-17/kak-schitaetsya-itogovyj-rejting-igrokov-v-fifa"
   ]
  },
  {
   "cell_type": "markdown",
   "id": "2506a5d03320f2b",
   "metadata": {},
   "source": [
    "так остается придумать как вставить релевантные для каждого матча данные об игроке и решить описанные выше задачи, и у нас будет полностью готовый фрейм на котором можно проверять ВАШИ гиппотезы и сувать в модельки"
   ]
  },
  {
   "cell_type": "code",
   "execution_count": 93,
   "id": "47fe25010471fb3c",
   "metadata": {
    "ExecuteTime": {
     "end_time": "2024-05-12T17:21:10.212049900Z",
     "start_time": "2024-05-12T17:21:09.667134Z"
    }
   },
   "outputs": [],
   "source": []
  },
  {
   "cell_type": "code",
   "execution_count": 93,
   "id": "a1d8d09b649bc3b0",
   "metadata": {
    "ExecuteTime": {
     "end_time": "2024-05-12T17:21:10.231996700Z",
     "start_time": "2024-05-12T17:21:09.670058Z"
    }
   },
   "outputs": [],
   "source": []
  },
  {
   "cell_type": "code",
   "execution_count": 93,
   "id": "f487100e360b4883",
   "metadata": {
    "ExecuteTime": {
     "end_time": "2024-05-12T17:21:10.238979500Z",
     "start_time": "2024-05-12T17:21:09.673243500Z"
    }
   },
   "outputs": [],
   "source": []
  },
  {
   "cell_type": "code",
   "execution_count": 93,
   "id": "3b7d39a8c33dbe69",
   "metadata": {
    "ExecuteTime": {
     "end_time": "2024-05-12T17:21:10.253938400Z",
     "start_time": "2024-05-12T17:21:09.677444Z"
    }
   },
   "outputs": [],
   "source": []
  },
  {
   "cell_type": "code",
   "execution_count": 93,
   "id": "3cc7d7bb5d3f0661",
   "metadata": {
    "ExecuteTime": {
     "end_time": "2024-05-12T17:21:10.263910900Z",
     "start_time": "2024-05-12T17:21:09.679948900Z"
    }
   },
   "outputs": [],
   "source": []
  },
  {
   "cell_type": "code",
   "execution_count": 93,
   "id": "3e7375c3b9a50b4",
   "metadata": {
    "ExecuteTime": {
     "end_time": "2024-05-12T17:21:10.280865700Z",
     "start_time": "2024-05-12T17:21:09.684248500Z"
    }
   },
   "outputs": [],
   "source": []
  },
  {
   "cell_type": "code",
   "execution_count": 93,
   "id": "d4be815c094d9bd6",
   "metadata": {
    "ExecuteTime": {
     "end_time": "2024-05-12T17:21:10.302806600Z",
     "start_time": "2024-05-12T17:21:09.686754600Z"
    }
   },
   "outputs": [],
   "source": []
  },
  {
   "cell_type": "markdown",
   "id": "10e1010ab9781964",
   "metadata": {},
   "source": [
    "Тут дальше я буду реализовывать мерж фрейма с игроками и матчами, несмотря на наны и прочую хуйню"
   ]
  },
  {
   "cell_type": "code",
   "execution_count": 94,
   "id": "566a56d309b42ff6",
   "metadata": {
    "ExecuteTime": {
     "end_time": "2024-05-12T17:21:10.330732800Z",
     "start_time": "2024-05-12T17:21:09.693393800Z"
    }
   },
   "outputs": [
    {
     "data": {
      "text/plain": "                    league_name    away_team_name           home_team_name  \\\n19       Belgium Jupiler League          KAA Gent        KSV Cercle Brugge   \n20       Belgium Jupiler League  SV Zulte-Waregem         Sporting Lokeren   \n21       Belgium Jupiler League    RSC Anderlecht              KV Kortrijk   \n22       Belgium Jupiler League    RSC Anderlecht           Club Brugge KV   \n23       Belgium Jupiler League  Sporting Lokeren              KV Mechelen   \n...                         ...               ...                      ...   \n21369  Switzerland Super League           FC Thun                FC Zürich   \n21370  Switzerland Super League           FC Thun            FC St. Gallen   \n21371  Switzerland Super League         FC Luzern                 FC Vaduz   \n21372  Switzerland Super League           FC Sion  Grasshopper Club Zürich   \n21373  Switzerland Super League          FC Basel           BSC Young Boys   \n\n          season  stage       date  match_api_id  home_team_goal  \\\n19     2009/2010      1 2009-08-02        665321               1   \n20     2009/2010      1 2009-08-01        665322               1   \n21     2009/2010      1 2009-08-01        665323               0   \n22     2009/2010     10 2009-10-04        665411               4   \n23     2009/2010     10 2009-10-03        665417               2   \n...          ...    ...        ...           ...             ...   \n21369  2015/2016      8 2015-09-13       1992089               3   \n21370  2015/2016      9 2015-09-22       1992091               1   \n21371  2015/2016      9 2015-09-23       1992092               1   \n21372  2015/2016      9 2015-09-23       1992093               2   \n21373  2015/2016      9 2015-09-23       1992095               4   \n\n       away_team_goal  home_player_1  ...  away_player_2  away_player_3  \\\n19                  3        36835.0  ...        38337.0        38255.0   \n20                  1        30934.0  ...        37100.0        37903.0   \n21                  2        37971.0  ...        33620.0        38388.0   \n22                  2        37990.0  ...        33620.0        38388.0   \n23                  0        39573.0  ...        38292.0        39594.0   \n...               ...            ...  ...            ...            ...   \n21369               3       274776.0  ...         8800.0       320183.0   \n21370               0        42231.0  ...       563066.0         8800.0   \n21371               2        33272.0  ...       114792.0       150007.0   \n21372               0       157856.0  ...        67349.0       202663.0   \n21373               3       274787.0  ...        95216.0       172768.0   \n\n       away_player_4  away_player_5  away_player_6  away_player_7  \\\n19           12473.0        41109.0        33662.0        37044.0   \n20           37889.0        94030.0        37902.0        37886.0   \n21           13423.0        38389.0        38378.0        38383.0   \n22           38389.0        38253.0        38378.0        38383.0   \n23           25465.0        38273.0        38945.0        38290.0   \n...              ...            ...            ...            ...   \n21369        67304.0        67389.0       133126.0       186524.0   \n21370        67304.0       158253.0       133126.0       186524.0   \n21371       178119.0        27232.0       570830.0       260708.0   \n21372        32597.0       114794.0       188114.0        25840.0   \n21373        22834.0       458806.0       207234.0        25772.0   \n\n       away_player_8  away_player_9  away_player_10  away_player_11  \n19           26916.0        37065.0         12574.0         46335.0  \n20           37981.0       131531.0         75500.0        130027.0  \n21           38393.0        38253.0         37069.0         46552.0  \n22           38393.0       106013.0         37069.0         12692.0  \n23           95609.0        15662.0         34334.0         69629.0  \n...              ...            ...             ...             ...  \n21369        93223.0       121115.0         25809.0        289732.0  \n21370        93223.0       121115.0        232110.0        289732.0  \n21371       201704.0        36382.0         34082.0         95257.0  \n21372       482200.0        95230.0        451335.0        275122.0  \n21373        40274.0        34035.0         41726.0        527103.0  \n\n[19611 rows x 31 columns]",
      "text/html": "<div>\n<style scoped>\n    .dataframe tbody tr th:only-of-type {\n        vertical-align: middle;\n    }\n\n    .dataframe tbody tr th {\n        vertical-align: top;\n    }\n\n    .dataframe thead th {\n        text-align: right;\n    }\n</style>\n<table border=\"1\" class=\"dataframe\">\n  <thead>\n    <tr style=\"text-align: right;\">\n      <th></th>\n      <th>league_name</th>\n      <th>away_team_name</th>\n      <th>home_team_name</th>\n      <th>season</th>\n      <th>stage</th>\n      <th>date</th>\n      <th>match_api_id</th>\n      <th>home_team_goal</th>\n      <th>away_team_goal</th>\n      <th>home_player_1</th>\n      <th>...</th>\n      <th>away_player_2</th>\n      <th>away_player_3</th>\n      <th>away_player_4</th>\n      <th>away_player_5</th>\n      <th>away_player_6</th>\n      <th>away_player_7</th>\n      <th>away_player_8</th>\n      <th>away_player_9</th>\n      <th>away_player_10</th>\n      <th>away_player_11</th>\n    </tr>\n  </thead>\n  <tbody>\n    <tr>\n      <th>19</th>\n      <td>Belgium Jupiler League</td>\n      <td>KAA Gent</td>\n      <td>KSV Cercle Brugge</td>\n      <td>2009/2010</td>\n      <td>1</td>\n      <td>2009-08-02</td>\n      <td>665321</td>\n      <td>1</td>\n      <td>3</td>\n      <td>36835.0</td>\n      <td>...</td>\n      <td>38337.0</td>\n      <td>38255.0</td>\n      <td>12473.0</td>\n      <td>41109.0</td>\n      <td>33662.0</td>\n      <td>37044.0</td>\n      <td>26916.0</td>\n      <td>37065.0</td>\n      <td>12574.0</td>\n      <td>46335.0</td>\n    </tr>\n    <tr>\n      <th>20</th>\n      <td>Belgium Jupiler League</td>\n      <td>SV Zulte-Waregem</td>\n      <td>Sporting Lokeren</td>\n      <td>2009/2010</td>\n      <td>1</td>\n      <td>2009-08-01</td>\n      <td>665322</td>\n      <td>1</td>\n      <td>1</td>\n      <td>30934.0</td>\n      <td>...</td>\n      <td>37100.0</td>\n      <td>37903.0</td>\n      <td>37889.0</td>\n      <td>94030.0</td>\n      <td>37902.0</td>\n      <td>37886.0</td>\n      <td>37981.0</td>\n      <td>131531.0</td>\n      <td>75500.0</td>\n      <td>130027.0</td>\n    </tr>\n    <tr>\n      <th>21</th>\n      <td>Belgium Jupiler League</td>\n      <td>RSC Anderlecht</td>\n      <td>KV Kortrijk</td>\n      <td>2009/2010</td>\n      <td>1</td>\n      <td>2009-08-01</td>\n      <td>665323</td>\n      <td>0</td>\n      <td>2</td>\n      <td>37971.0</td>\n      <td>...</td>\n      <td>33620.0</td>\n      <td>38388.0</td>\n      <td>13423.0</td>\n      <td>38389.0</td>\n      <td>38378.0</td>\n      <td>38383.0</td>\n      <td>38393.0</td>\n      <td>38253.0</td>\n      <td>37069.0</td>\n      <td>46552.0</td>\n    </tr>\n    <tr>\n      <th>22</th>\n      <td>Belgium Jupiler League</td>\n      <td>RSC Anderlecht</td>\n      <td>Club Brugge KV</td>\n      <td>2009/2010</td>\n      <td>10</td>\n      <td>2009-10-04</td>\n      <td>665411</td>\n      <td>4</td>\n      <td>2</td>\n      <td>37990.0</td>\n      <td>...</td>\n      <td>33620.0</td>\n      <td>38388.0</td>\n      <td>38389.0</td>\n      <td>38253.0</td>\n      <td>38378.0</td>\n      <td>38383.0</td>\n      <td>38393.0</td>\n      <td>106013.0</td>\n      <td>37069.0</td>\n      <td>12692.0</td>\n    </tr>\n    <tr>\n      <th>23</th>\n      <td>Belgium Jupiler League</td>\n      <td>Sporting Lokeren</td>\n      <td>KV Mechelen</td>\n      <td>2009/2010</td>\n      <td>10</td>\n      <td>2009-10-03</td>\n      <td>665417</td>\n      <td>2</td>\n      <td>0</td>\n      <td>39573.0</td>\n      <td>...</td>\n      <td>38292.0</td>\n      <td>39594.0</td>\n      <td>25465.0</td>\n      <td>38273.0</td>\n      <td>38945.0</td>\n      <td>38290.0</td>\n      <td>95609.0</td>\n      <td>15662.0</td>\n      <td>34334.0</td>\n      <td>69629.0</td>\n    </tr>\n    <tr>\n      <th>...</th>\n      <td>...</td>\n      <td>...</td>\n      <td>...</td>\n      <td>...</td>\n      <td>...</td>\n      <td>...</td>\n      <td>...</td>\n      <td>...</td>\n      <td>...</td>\n      <td>...</td>\n      <td>...</td>\n      <td>...</td>\n      <td>...</td>\n      <td>...</td>\n      <td>...</td>\n      <td>...</td>\n      <td>...</td>\n      <td>...</td>\n      <td>...</td>\n      <td>...</td>\n      <td>...</td>\n    </tr>\n    <tr>\n      <th>21369</th>\n      <td>Switzerland Super League</td>\n      <td>FC Thun</td>\n      <td>FC Zürich</td>\n      <td>2015/2016</td>\n      <td>8</td>\n      <td>2015-09-13</td>\n      <td>1992089</td>\n      <td>3</td>\n      <td>3</td>\n      <td>274776.0</td>\n      <td>...</td>\n      <td>8800.0</td>\n      <td>320183.0</td>\n      <td>67304.0</td>\n      <td>67389.0</td>\n      <td>133126.0</td>\n      <td>186524.0</td>\n      <td>93223.0</td>\n      <td>121115.0</td>\n      <td>25809.0</td>\n      <td>289732.0</td>\n    </tr>\n    <tr>\n      <th>21370</th>\n      <td>Switzerland Super League</td>\n      <td>FC Thun</td>\n      <td>FC St. Gallen</td>\n      <td>2015/2016</td>\n      <td>9</td>\n      <td>2015-09-22</td>\n      <td>1992091</td>\n      <td>1</td>\n      <td>0</td>\n      <td>42231.0</td>\n      <td>...</td>\n      <td>563066.0</td>\n      <td>8800.0</td>\n      <td>67304.0</td>\n      <td>158253.0</td>\n      <td>133126.0</td>\n      <td>186524.0</td>\n      <td>93223.0</td>\n      <td>121115.0</td>\n      <td>232110.0</td>\n      <td>289732.0</td>\n    </tr>\n    <tr>\n      <th>21371</th>\n      <td>Switzerland Super League</td>\n      <td>FC Luzern</td>\n      <td>FC Vaduz</td>\n      <td>2015/2016</td>\n      <td>9</td>\n      <td>2015-09-23</td>\n      <td>1992092</td>\n      <td>1</td>\n      <td>2</td>\n      <td>33272.0</td>\n      <td>...</td>\n      <td>114792.0</td>\n      <td>150007.0</td>\n      <td>178119.0</td>\n      <td>27232.0</td>\n      <td>570830.0</td>\n      <td>260708.0</td>\n      <td>201704.0</td>\n      <td>36382.0</td>\n      <td>34082.0</td>\n      <td>95257.0</td>\n    </tr>\n    <tr>\n      <th>21372</th>\n      <td>Switzerland Super League</td>\n      <td>FC Sion</td>\n      <td>Grasshopper Club Zürich</td>\n      <td>2015/2016</td>\n      <td>9</td>\n      <td>2015-09-23</td>\n      <td>1992093</td>\n      <td>2</td>\n      <td>0</td>\n      <td>157856.0</td>\n      <td>...</td>\n      <td>67349.0</td>\n      <td>202663.0</td>\n      <td>32597.0</td>\n      <td>114794.0</td>\n      <td>188114.0</td>\n      <td>25840.0</td>\n      <td>482200.0</td>\n      <td>95230.0</td>\n      <td>451335.0</td>\n      <td>275122.0</td>\n    </tr>\n    <tr>\n      <th>21373</th>\n      <td>Switzerland Super League</td>\n      <td>FC Basel</td>\n      <td>BSC Young Boys</td>\n      <td>2015/2016</td>\n      <td>9</td>\n      <td>2015-09-23</td>\n      <td>1992095</td>\n      <td>4</td>\n      <td>3</td>\n      <td>274787.0</td>\n      <td>...</td>\n      <td>95216.0</td>\n      <td>172768.0</td>\n      <td>22834.0</td>\n      <td>458806.0</td>\n      <td>207234.0</td>\n      <td>25772.0</td>\n      <td>40274.0</td>\n      <td>34035.0</td>\n      <td>41726.0</td>\n      <td>527103.0</td>\n    </tr>\n  </tbody>\n</table>\n<p>19611 rows × 31 columns</p>\n</div>"
     },
     "execution_count": 94,
     "metadata": {},
     "output_type": "execute_result"
    }
   ],
   "source": [
    "match"
   ]
  },
  {
   "cell_type": "markdown",
   "id": "cf4fe3f1e770fab0",
   "metadata": {},
   "source": [
    "функции находят сверху и снизу ближайшие даты для игрока в фрейме с атрибутами"
   ]
  },
  {
   "cell_type": "code",
   "execution_count": 95,
   "id": "40b83b67a2304065",
   "metadata": {
    "ExecuteTime": {
     "end_time": "2024-05-12T17:21:10.345693900Z",
     "start_time": "2024-05-12T17:21:09.735473300Z"
    }
   },
   "outputs": [],
   "source": [
    "def prev_dates_to_match_gk(row, column):\n",
    "    prev_dates = list(filter(lambda y: y <= row['date'],\n",
    "                             gk_attributes[gk_attributes['player_api_id'] == row[column]]['date']))\n",
    "    if prev_dates:\n",
    "        return np.max(prev_dates)\n",
    "    return last_date\n",
    "\n",
    "\n",
    "def next_dates_to_match_gk(row, column):\n",
    "    next_dates = list(filter(lambda y: y >= row['date'],\n",
    "                             gk_attributes[gk_attributes['player_api_id'] == row[column]]['date']))\n",
    "    if next_dates:\n",
    "        return np.min(next_dates)\n",
    "    return last_date\n",
    "\n",
    "\n",
    "def prev_dates_to_match_fl(row, column):\n",
    "    prev_dates = list(filter(lambda y: y <= row['date'],\n",
    "                             fl_attributes[fl_attributes['player_api_id'] == row[column]]['date']))\n",
    "    if prev_dates:\n",
    "        return np.max(prev_dates)\n",
    "    return last_date\n",
    "\n",
    "\n",
    "def next_dates_to_match_fl(row, column):\n",
    "    next_dates = list(filter(lambda y: y >= row['date'],\n",
    "                             fl_attributes[fl_attributes['player_api_id'] == row[column]]['date']))\n",
    "    if next_dates:\n",
    "        return np.min(next_dates)\n",
    "    return last_date"
   ]
  },
  {
   "cell_type": "markdown",
   "id": "51fbc920e681a015",
   "metadata": {},
   "source": [
    "здесь меняем player_api_id на соответсвующий индекс из фрейма с атрибутами релевантный для данного матча по времени, чтобы потом все это смерджить"
   ]
  },
  {
   "cell_type": "code",
   "execution_count": 98,
   "id": "d61c47c01ec7aa2a",
   "metadata": {
    "ExecuteTime": {
     "end_time": "2024-05-12T17:41:42.117496400Z",
     "start_time": "2024-05-12T17:41:41.967389300Z"
    }
   },
   "outputs": [],
   "source": [
    "def neares_player_index(row):\n",
    "    for column in columns_players:\n",
    "        cur_player = row[column]\n",
    "        # print(row['date'], row['match_api_id'], column)\n",
    "        if cur_player in goalkeepers:\n",
    "            row[column] = gk_attributes.loc[(gk_attributes['date'] == np.min([next_dates_to_match_gk(row, column)] +\n",
    "                                                                             [prev_dates_to_match_gk(row, column)])) &\n",
    "                                            (gk_attributes['player_api_id'] == cur_player)].index[0]\n",
    "        else:\n",
    "            row[column] = fl_attributes.loc[(fl_attributes['date'] == np.min([next_dates_to_match_fl(row, column)] +\n",
    "                                                                             [prev_dates_to_match_fl(row, column)])) &\n",
    "                                            (fl_attributes['player_api_id'] == cur_player)].index[0]\n",
    "    return row"
   ]
  },
  {
   "cell_type": "code",
   "execution_count": null,
   "id": "9428fc1af27e75ff",
   "metadata": {},
   "outputs": [],
   "source": [
    "last_date = np.max(match['date'])\n",
    "columns_players = [f'home_player_{i}' for i in range(1, 12)] + [f'away_player_{i}' for i in range(1, 12)]\n",
    "match_full = match.copy()\n",
    "\n",
    "match_full = match_full.apply(neares_player_index, axis=1)"
   ]
  },
  {
   "cell_type": "code",
   "outputs": [],
   "source": [
    "match_full"
   ],
   "metadata": {
    "collapsed": false,
    "ExecuteTime": {
     "start_time": "2024-05-12T17:33:28.528190400Z"
    }
   },
   "id": "ee6a367c5ebafd7f",
   "execution_count": null
  },
  {
   "cell_type": "code",
   "outputs": [],
   "source": [
    "match.loc[match['match_api_id'] == 1778036]"
   ],
   "metadata": {
    "collapsed": false,
    "ExecuteTime": {
     "start_time": "2024-05-12T17:33:28.530185100Z"
    }
   },
   "id": "84ffe30889276489",
   "execution_count": null
  },
  {
   "cell_type": "code",
   "outputs": [],
   "source": [
    "gk_attributes[gk_attributes['player_api_id'] == 359194.0]"
   ],
   "metadata": {
    "collapsed": false,
    "ExecuteTime": {
     "end_time": "2024-05-12T17:33:28.551158400Z",
     "start_time": "2024-05-12T17:33:28.532180100Z"
    }
   },
   "id": "1aeeea75777ff6f7",
   "execution_count": null
  },
  {
   "cell_type": "code",
   "outputs": [],
   "source": [
    "fl_attributes[fl_attributes['player_api_id'] == 359194.0]"
   ],
   "metadata": {
    "collapsed": false,
    "ExecuteTime": {
     "start_time": "2024-05-12T17:33:28.533177500Z"
    }
   },
   "id": "5eb18630c669e732",
   "execution_count": null
  },
  {
   "cell_type": "code",
   "outputs": [],
   "source": [
    "player_attributes[player_attributes['player_name'] == 'Quini']"
   ],
   "metadata": {
    "collapsed": false,
    "ExecuteTime": {
     "start_time": "2024-05-12T17:33:28.534174100Z"
    }
   },
   "id": "f37b10e8ba185f6f",
   "execution_count": null
  },
  {
   "cell_type": "code",
   "outputs": [],
   "source": [
    "player[player['player_name'] == 'Quini']"
   ],
   "metadata": {
    "collapsed": false,
    "ExecuteTime": {
     "start_time": "2024-05-12T17:33:28.536169Z"
    }
   },
   "id": "dee45ee8d3989376",
   "execution_count": null
  },
  {
   "cell_type": "code",
   "execution_count": null,
   "id": "836d7986d1e7a561",
   "metadata": {
    "ExecuteTime": {
     "start_time": "2024-05-12T17:33:28.538163800Z"
    }
   },
   "outputs": [],
   "source": [
    "match_full"
   ]
  },
  {
   "cell_type": "code",
   "execution_count": null,
   "id": "951345e7455cd0a6",
   "metadata": {
    "ExecuteTime": {
     "start_time": "2024-05-12T17:33:28.539160800Z"
    }
   },
   "outputs": [],
   "source": [
    "# match_full[match_full['date'] > '2014-07-01']"
   ]
  },
  {
   "cell_type": "code",
   "execution_count": null,
   "id": "64507d2f44f237d1",
   "metadata": {
    "ExecuteTime": {
     "start_time": "2024-05-12T17:33:28.540158100Z"
    }
   },
   "outputs": [],
   "source": [
    "player_attributes[player_attributes['player_api_id'] == 37047]"
   ]
  },
  {
   "cell_type": "code",
   "execution_count": null,
   "id": "5c38e2801545211f",
   "metadata": {
    "ExecuteTime": {
     "start_time": "2024-05-12T17:33:28.541155700Z"
    }
   },
   "outputs": [],
   "source": [
    "match[match['date'] > '2014-07-01']"
   ]
  },
  {
   "cell_type": "code",
   "execution_count": null,
   "id": "1eae26616e11dfc4",
   "metadata": {
    "ExecuteTime": {
     "start_time": "2024-05-12T17:33:28.542153500Z"
    }
   },
   "outputs": [],
   "source": []
  },
  {
   "cell_type": "code",
   "execution_count": null,
   "id": "508dbb9ed27deda6",
   "metadata": {
    "ExecuteTime": {
     "start_time": "2024-05-12T17:33:28.543150300Z"
    }
   },
   "outputs": [],
   "source": []
  },
  {
   "cell_type": "code",
   "execution_count": null,
   "id": "7cec17ffa1d09f45",
   "metadata": {
    "ExecuteTime": {
     "start_time": "2024-05-12T17:33:28.544147600Z"
    }
   },
   "outputs": [],
   "source": []
  },
  {
   "cell_type": "code",
   "execution_count": null,
   "id": "84ee2764f30455f2",
   "metadata": {
    "ExecuteTime": {
     "start_time": "2024-05-12T17:33:28.545144700Z"
    }
   },
   "outputs": [],
   "source": []
  }
 ],
 "metadata": {
  "kernelspec": {
   "display_name": "Python 3 (ipykernel)",
   "language": "python",
   "name": "python3"
  },
  "language_info": {
   "codemirror_mode": {
    "name": "ipython",
    "version": 3
   },
   "file_extension": ".py",
   "mimetype": "text/x-python",
   "name": "python",
   "nbconvert_exporter": "python",
   "pygments_lexer": "ipython3",
   "version": "3.11.3"
  }
 },
 "nbformat": 4,
 "nbformat_minor": 5
}
